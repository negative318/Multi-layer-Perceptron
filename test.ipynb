{
 "cells": [
  {
   "cell_type": "code",
   "execution_count": 1,
   "metadata": {},
   "outputs": [
    {
     "name": "stdout",
     "output_type": "stream",
     "text": [
      "(49000, 3, 32, 32) (49000, 10)\n",
      "(1000, 3, 32, 32) (1000, 10)\n",
      "(10000, 3, 32, 32) (10000, 10)\n",
      "x_train:  (49000, 3, 32, 32)\n",
      "y_train:  (49000, 10)\n",
      "x_val:  (1000, 3, 32, 32)\n",
      "y_val:  (1000, 10)\n",
      "epochs:  0 loss_train:  2.350455747607345 accuracy_train: 0.10102040816326531 loss_val 2.320919712641708 accuracy_validation: 0.107\n",
      "epochs:  1 loss_train:  2.3079264119945724 accuracy_train: 0.10055102040816327 loss_val 2.2996877283427515 accuracy_validation: 0.107\n",
      "epochs:  2 loss_train:  2.3036017545952907 accuracy_train: 0.10040816326530612 loss_val 2.301956670138757 accuracy_validation: 0.088\n",
      "epochs:  3 loss_train:  2.303026276540073 accuracy_train: 0.10020408163265306 loss_val 2.3032103378196727 accuracy_validation: 0.099\n",
      "epochs:  4 loss_train:  2.302819578700669 accuracy_train: 0.10022448979591837 loss_val 2.303720001449682 accuracy_validation: 0.098\n",
      "epochs:  5 loss_train:  2.3026825480817457 accuracy_train: 0.10022448979591837 loss_val 2.3038544295665697 accuracy_validation: 0.098\n",
      "epochs:  6 loss_train:  2.3026212181612395 accuracy_train: 0.10024489795918368 loss_val 2.303908209986528 accuracy_validation: 0.098\n",
      "epochs:  7 loss_train:  2.302574801580589 accuracy_train: 0.10020408163265306 loss_val 2.3038754071880696 accuracy_validation: 0.098\n",
      "epochs:  8 loss_train:  2.3025254819171113 accuracy_train: 0.10020408163265306 loss_val 2.303871406717432 accuracy_validation: 0.098\n",
      "epochs:  9 loss_train:  2.302493783008205 accuracy_train: 0.10018367346938775 loss_val 2.3038501026794576 accuracy_validation: 0.098\n"
     ]
    },
    {
     "data": {
      "text/plain": [
       "(23.03169113836292, 0.0002)"
      ]
     },
     "execution_count": 1,
     "metadata": {},
     "output_type": "execute_result"
    }
   ],
   "source": [
    "from MLP_autograd import *\n",
    "from CNN_autograd import *\n",
    "from keras.datasets import cifar10\n",
    "(x_train,y_train),(x_test,y_test) = cifar10.load_data()\n",
    "x_train = x_train.transpose(0, 3, 1, 2)\n",
    "x_test = x_test.transpose(0, 3, 1, 2)\n",
    "def one_hot(Y):\n",
    "  one_hot_Y = np.zeros((Y.size,np.max(Y) + 1))\n",
    "  one_hot_Y[np.arange(Y.size),Y] = 1\n",
    "  return one_hot_Y\n",
    "\n",
    "\n",
    "y_train = one_hot(y_train.T)\n",
    "y_test = one_hot(y_test)\n",
    "x_train = x_train/255\n",
    "x_test = x_test/255\n",
    "x_validation = x_train[49000:50000]\n",
    "y_validation = y_train[49000:50000,:]\n",
    "x_train = x_train[0:49000]\n",
    "y_train = y_train[0:49000,:]\n",
    "\n",
    "\n",
    "\n",
    "\n",
    "print(x_train.shape,y_train.shape)\n",
    "print(x_validation.shape,y_validation.shape)\n",
    "print(x_test.shape,y_test.shape)\n",
    "\n",
    "\n",
    "CNN1 = Convolutional(input_shape = (3,32,32), kernel_size = 3, output_depth = 4, l_rate = 0.1, activeFuncion = \"relu\")\n",
    "pool1 = MaxPoolingLayer(2)\n",
    "CNN2 = Convolutional(input_shape = (4,15,15), kernel_size = 3,output_depth = 8, l_rate = 0.1, activeFuncion = \"relu\")\n",
    "pool2 = MaxPoolingLayer(2)\n",
    "flatten = Flattening()\n",
    "nn = NeuralNetwork(layers_size=[392,10],activations = [\"softmax\"], lossFunction = \"crossEntropy\", l_rate = 0.1) # 8*7*7 = 392\n",
    "\n",
    "\n",
    "model = Model([CNN1,pool1,CNN2,pool2, flatten,nn])\n",
    "model.train(x_train,y_train,x_validation,y_validation, batch_size = 64, epochs = 10)\n",
    "model.test(x_test,y_test)\n"
   ]
  },
  {
   "cell_type": "code",
   "execution_count": 2,
   "metadata": {},
   "outputs": [
    {
     "name": "stdout",
     "output_type": "stream",
     "text": [
      "x_train:  (49000, 3, 32, 32)\n",
      "y_train:  (49000, 10)\n",
      "x_val:  (1000, 3, 32, 32)\n",
      "y_val:  (1000, 10)\n"
     ]
    }
   ],
   "source": [
    "model.train(x_train,y_train,x_validation,y_validation, batch_size = 64, epochs = 5)\n",
    "model.test(x_test,y_test)"
   ]
  }
 ],
 "metadata": {
  "kernelspec": {
   "display_name": "Python 3",
   "language": "python",
   "name": "python3"
  },
  "language_info": {
   "codemirror_mode": {
    "name": "ipython",
    "version": 3
   },
   "file_extension": ".py",
   "mimetype": "text/x-python",
   "name": "python",
   "nbconvert_exporter": "python",
   "pygments_lexer": "ipython3",
   "version": "3.11.9"
  }
 },
 "nbformat": 4,
 "nbformat_minor": 2
}
