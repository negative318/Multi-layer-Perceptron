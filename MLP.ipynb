{
  "cells": [
    {
      "cell_type": "code",
      "execution_count": 208,
      "metadata": {
        "id": "hqoF8DTB3ndP"
      },
      "outputs": [],
      "source": [
        "import numpy as np\n",
        "import matplotlib.pyplot as plt\n",
        "import keras"
      ]
    },
    {
      "cell_type": "code",
      "execution_count": 209,
      "metadata": {
        "id": "0JggWHNxfPjH"
      },
      "outputs": [],
      "source": [
        "N = 3"
      ]
    },
    {
      "cell_type": "code",
      "execution_count": 210,
      "metadata": {
        "id": "GnVdSM4O3x0r"
      },
      "outputs": [],
      "source": [
        "from keras.datasets import mnist\n",
        "(x_train,y_train),(x_test,y_test) = mnist.load_data()"
      ]
    },
    {
      "cell_type": "code",
      "execution_count": null,
      "metadata": {
        "id": "MPOdPT7E37aT"
      },
      "outputs": [],
      "source": [
        "print(x_train.shape,y_train.shape)\n",
        "print(x_test.shape,y_test.shape)"
      ]
    },
    {
      "cell_type": "code",
      "execution_count": null,
      "metadata": {
        "id": "lD0RPnfP-Jv5"
      },
      "outputs": [],
      "source": [
        "x_train = x_train /255.0\n",
        "x_test = x_test /255.0\n",
        "x_validation = x_train[:6000]\n",
        "y_validation = y_train[:6000]\n",
        "x_train = x_train[6000:]\n",
        "y_train = y_train[6000:]\n",
        "\n",
        "x_validation = x_validation.reshape(x_validation.shape[0],-1).T\n",
        "x_train = x_train.reshape(x_train.shape[0],-1).T\n",
        "x_test = x_test.reshape(x_test.shape[0],-1).T\n",
        "\n",
        "\n",
        "print(x_train.shape,y_train.shape)\n",
        "print(x_test.shape,y_test.shape)\n",
        "#print(x_validation.shape,y_validation.shape)"
      ]
    },
    {
      "cell_type": "code",
      "execution_count": 213,
      "metadata": {
        "id": "8uLoB5Bo4M-5"
      },
      "outputs": [],
      "source": [
        "def one_hot(Y):\n",
        "  one_hot_Y = np.zeros((Y.size,Y.max()+1))\n",
        "  one_hot_Y[np.arange(Y.size),Y] = 1\n",
        "  one_hot_Y = one_hot_Y.T\n",
        "  return one_hot_Y"
      ]
    },
    {
      "cell_type": "code",
      "execution_count": null,
      "metadata": {
        "id": "_vYtTBPvd9ce"
      },
      "outputs": [],
      "source": [
        "print(y_test)\n",
        "print(y_train)\n",
        "print(x_train.shape)\n",
        "print(y_train.shape)"
      ]
    },
    {
      "cell_type": "code",
      "execution_count": 215,
      "metadata": {
        "id": "0yYLn9dRCUQb"
      },
      "outputs": [],
      "source": [
        "def init_parameter(N):\n",
        "  d = [10] * (N+1)\n",
        "  for i in range(N):\n",
        "    d[i] = 2 ** (N-i+5)\n",
        "  d[0] = 784\n",
        "  print(d)\n",
        "  W = []\n",
        "  b = []\n",
        "  for i in range(N):\n",
        "    W.append(np.random.randn(d[i],d[i+1]))\n",
        "    b.append(np.random.randn(d[i+1],1))\n",
        "  return W,b\n",
        "\n",
        "def RELU(Z):\n",
        "  return np.maximum(0,Z)\n",
        "\n",
        "\n",
        "def softmax(Z):\n",
        "    Z_max = np.max(Z, axis=0, keepdims=True)\n",
        "    exp_Z = np.exp(Z - Z_max)\n",
        "    A = exp_Z / np.sum(exp_Z, axis=0, keepdims=True)\n",
        "    return A\n",
        "\n",
        "def one_hot(Y):\n",
        "  one_hot_Y = np.zeros((Y.size,10))\n",
        "  one_hot_Y[np.arange(Y.size),Y] = 1\n",
        "  one_hot_Y = one_hot_Y.T\n",
        "  return one_hot_Y\n",
        "\n",
        "def prop(W,b,X,N):\n",
        "  Z = []\n",
        "  A = []\n",
        "  for i in range(N):\n",
        "    if i == 0 :\n",
        "      Z.append(W[0].T.dot(X) + b[0])\n",
        "      A.append(RELU(Z[0]))\n",
        "    elif i != N-1 :\n",
        "      Z.append(np.dot(W[i].T, A[i-1]) + b[i])\n",
        "      A.append(RELU(Z[i]))\n",
        "    else:\n",
        "      Z.append(np.dot(W[i].T, A[i-1]) + b[i])\n",
        "      A.append(softmax(Z[i]))\n",
        "  return Z,A\n",
        "\n",
        "\n",
        "\n",
        "def back_prop(Z,A,W,X,Y,N):\n",
        "  E = []\n",
        "  dW = []\n",
        "  db = []\n",
        "  one_hot_Y = one_hot(Y)\n",
        "  for i in range(N-1, -1, -1):\n",
        "      if i == N-1:\n",
        "          E.append(1/Y.size * (A[-1] - one_hot_Y))\n",
        "          dW.insert(0, np.dot(A[i-1], E[-1].T))\n",
        "      elif i == 0:\n",
        "          E.append(np.dot(W[i+1], E[-1]))\n",
        "          E[-1][Z[0] <= 0] = 0\n",
        "          dW.insert(0, np.dot(X, E[-1].T))\n",
        "      else:\n",
        "          E.append(np.dot(W[i+1], E[-1]))\n",
        "          E[-1][Z[i] <= 0] = 0\n",
        "          dW.insert(0, np.dot(A[i-1], E[-1].T))\n",
        "\n",
        "      db.insert(0, np.sum(E[-1], axis=1, keepdims=True))\n",
        "  return dW, db\n",
        "def update_parameter(W,b,dW,db,eta):\n",
        "  for i in range(len(W)):\n",
        "    W[i] = W[i] - eta * dW[i]\n",
        "    b[i] = b[i] - eta * db[i]\n",
        "  return W,b\n",
        "def cost(Y, Yhat):\n",
        "  return -np.sum(Y * np.log(Yhat+1e-6))/Y.shape[1]"
      ]
    },
    {
      "cell_type": "code",
      "execution_count": 216,
      "metadata": {
        "id": "eq42t5orjfA2"
      },
      "outputs": [],
      "source": [
        "def get_predictions(Yhat):\n",
        "  return np.argmax(Yhat,0)\n",
        "def get_accuracy(predictions,Y):\n",
        "  return np.sum(predictions == Y) / Y.size"
      ]
    },
    {
      "cell_type": "code",
      "execution_count": 217,
      "metadata": {
        "id": "9alP3qf7TgQ4"
      },
      "outputs": [],
      "source": [
        "#N là số layer\n",
        "def train(N,W,b,X,Y,eta,epochs):\n",
        "  batch = 64\n",
        "  for i in range(epochs):\n",
        "    for j in range(0,X.shape[1],batch):\n",
        "      X_batch = X[:,j:j+batch]\n",
        "      Y_batch = Y[j:j+batch]\n",
        "      one_hot_Y = one_hot(Y_batch)\n",
        "      Z,A = prop(W,b,X_batch,N)\n",
        "      dW,db = back_prop(Z,A,W,X_batch,Y_batch,N)\n",
        "      W,b = update_parameter(W,b,dW,db,eta)\n",
        "      if i%10 == 0 and j == 0:\n",
        "        print(i, \"cost: \", cost(one_hot_Y,A[-1]), \"Accuracy train:\", get_accuracy(get_predictions(A[-1]),Y_batch)*100,\"% \", \"Accuracy validation: \",get_accuracy(test(N,W,b,x_test,y_test),y_test)*100, \"%\")\n",
        "  return W,b\n",
        "\n",
        "def test(N,W,b,X,Y):\n",
        "    one_hot_Y = one_hot(Y)\n",
        "    Z,A = prop(W,b,X,N)\n",
        "    return get_predictions(A[-1])"
      ]
    },
    {
      "cell_type": "code",
      "execution_count": null,
      "metadata": {
        "id": "Q5FHJ-THuPJ-",
        "collapsed": true
      },
      "outputs": [],
      "source": [
        "W,b = init_parameter(N)"
      ]
    },
    {
      "cell_type": "code",
      "execution_count": null,
      "metadata": {
        "id": "hg1UiekjAMDa"
      },
      "outputs": [],
      "source": [
        "W,b = train(N,W,b,x_train,y_train,0.01,501)"
      ]
    },
    {
      "cell_type": "code",
      "source": [
        "print(\"Accuracy test: \",get_accuracy(test(N,W,b,x_test,y_test),y_test)*100, \"%\")"
      ],
      "metadata": {
        "id": "hZIh_H1jEkoC"
      },
      "execution_count": null,
      "outputs": []
    }
  ],
  "metadata": {
    "colab": {
      "provenance": []
    },
    "kernelspec": {
      "display_name": "Python 3",
      "name": "python3"
    },
    "language_info": {
      "name": "python"
    }
  },
  "nbformat": 4,
  "nbformat_minor": 0
}