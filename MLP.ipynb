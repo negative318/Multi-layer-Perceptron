{
  "nbformat": 4,
  "nbformat_minor": 0,
  "metadata": {
    "colab": {
      "provenance": []
    },
    "kernelspec": {
      "name": "python3",
      "display_name": "Python 3"
    },
    "language_info": {
      "name": "python"
    }
  },
  "cells": [
    {
      "cell_type": "code",
      "execution_count": 10,
      "metadata": {
        "id": "hqoF8DTB3ndP"
      },
      "outputs": [],
      "source": [
        "import numpy as np\n",
        "import matplotlib.pyplot as plt\n",
        "import keras"
      ]
    },
    {
      "cell_type": "code",
      "source": [
        "N = 3"
      ],
      "metadata": {
        "id": "0JggWHNxfPjH"
      },
      "execution_count": 11,
      "outputs": []
    },
    {
      "cell_type": "code",
      "source": [
        "from keras.datasets import mnist\n",
        "(x_train,y_train),(x_test,y_test) = mnist.load_data()"
      ],
      "metadata": {
        "id": "GnVdSM4O3x0r"
      },
      "execution_count": 12,
      "outputs": []
    },
    {
      "cell_type": "code",
      "source": [
        "print(x_train.shape,y_train.shape)\n",
        "print(x_test.shape,y_test.shape)"
      ],
      "metadata": {
        "colab": {
          "base_uri": "https://localhost:8080/"
        },
        "id": "MPOdPT7E37aT",
        "outputId": "a13c7a18-9b9f-4e75-b2b4-ae081617aff0"
      },
      "execution_count": 13,
      "outputs": [
        {
          "output_type": "stream",
          "name": "stdout",
          "text": [
            "(60000, 28, 28) (60000,)\n",
            "(10000, 28, 28) (10000,)\n"
          ]
        }
      ]
    },
    {
      "cell_type": "code",
      "source": [
        "# for i in range(10):\n",
        "#   plt.imshow(x_train[y_train == i][0], cmap ='gray')\n",
        "#   plt.title(\"label: {}\".format(i), fontsize=16)\n",
        "#   plt.show()"
      ],
      "metadata": {
        "collapsed": true,
        "id": "z8V0FR_c3754"
      },
      "execution_count": 14,
      "outputs": []
    },
    {
      "cell_type": "code",
      "source": [
        "x_train = x_train /255.0\n",
        "x_test = x_test /255.0"
      ],
      "metadata": {
        "id": "lD0RPnfP-Jv5"
      },
      "execution_count": 15,
      "outputs": []
    },
    {
      "cell_type": "code",
      "source": [
        "print(y_test)\n",
        "print(y_train)\n",
        "print(y_test.shape)\n",
        "print(y_train.shape)"
      ],
      "metadata": {
        "colab": {
          "base_uri": "https://localhost:8080/"
        },
        "id": "_vYtTBPvd9ce",
        "outputId": "62293831-ad5d-41e7-c8ca-407606171d18"
      },
      "execution_count": 16,
      "outputs": [
        {
          "output_type": "stream",
          "name": "stdout",
          "text": [
            "[7 2 1 ... 4 5 6]\n",
            "[5 0 4 ... 5 6 8]\n",
            "(10000,)\n",
            "(60000,)\n"
          ]
        }
      ]
    },
    {
      "cell_type": "code",
      "source": [
        "x_train = x_train.reshape(x_train.shape[0],-1).T\n",
        "x_test = x_test.reshape(x_test.shape[0],-1).T\n",
        "print(x_train.shape)"
      ],
      "metadata": {
        "colab": {
          "base_uri": "https://localhost:8080/"
        },
        "id": "fkhZ94Mt3-_s",
        "outputId": "543b7f19-b075-4e2c-e7a4-2b5154a8b8b6"
      },
      "execution_count": 17,
      "outputs": [
        {
          "output_type": "stream",
          "name": "stdout",
          "text": [
            "(784, 60000)\n"
          ]
        }
      ]
    },
    {
      "cell_type": "code",
      "source": [
        "def init_parameter(N):\n",
        "  d = [10] * (N+1)\n",
        "  d[0] = 784\n",
        "  W = []\n",
        "  b = []\n",
        "  for i in range(N):\n",
        "    W.append(np.random.randn(d[i],d[i+1]))\n",
        "    b.append(np.random.randn(d[i+1],1))\n",
        "  return W,b\n",
        "\n",
        "def RELU(Z):\n",
        "  return np.maximum(0,Z)\n",
        "\n",
        "def softmax(Z):\n",
        "  Z_max = np.max(Z)\n",
        "  exp_Z = np.exp(Z - Z_max)\n",
        "  A = exp_Z / np.sum(exp_Z)\n",
        "  return A\n",
        "\n",
        "\n",
        "\n",
        "def one_hot(Y):\n",
        "  one_hot_Y = np.zeros((Y.size,Y.max()+1))\n",
        "  one_hot_Y[np.arange(Y.size),Y] = 1\n",
        "  one_hot_Y = one_hot_Y.T\n",
        "  print(\"1fdvds\",one_hot_Y.shape)\n",
        "  return one_hot_Y\n",
        "\n",
        "def prop(W,b,X,N):\n",
        "  Z = []\n",
        "  A = []\n",
        "  for i in range(N):\n",
        "    if i == 0 :\n",
        "      Z.append(W[0].T.dot(X) + b[0])\n",
        "      A.append(RELU(Z[0]))\n",
        "    elif i != N-1 :\n",
        "      Z.append(W[i].T.dot(A[i-1]) + b[i])\n",
        "      A.append(RELU(Z[i]))\n",
        "    else:\n",
        "      Z.append(W[i].T.dot(A[i-1])+ b[i])\n",
        "      A.append(softmax(Z[i]))\n",
        "  return Z,A\n",
        "\n",
        "\n",
        "\n",
        "def back_prop(Z,A,W,X,Y,N):\n",
        "  E = []\n",
        "  dW = []\n",
        "  db = []\n",
        "  one_hot_Y = one_hot(Y)\n",
        "  for i in range(N-1, -1, -1):\n",
        "    if (i == 0):\n",
        "      E.append(W[i+1].dot(E[-1]))\n",
        "      E[-1][Z[0] <= 0] = 0\n",
        "      dW.insert(0,X.dot(E[-1].T))\n",
        "    elif(i == N-1):\n",
        "      E.append(1/Y.size * (A[-1] - one_hot_Y))\n",
        "      dW.insert(0,A[i-1].dot(E[-1].T))\n",
        "\n",
        "    else:\n",
        "      E.append(W[i+1].dot(E[-1]))\n",
        "      E[-1][Z[i] <= 0] = 0\n",
        "      dW.insert(0,A[i-1].dot(E[-1].T))\n",
        "\n",
        "    db.insert(0,np.sum(E[-1],axis=1,keepdims=True))\n",
        "\n",
        "\n",
        "  return dW,db\n",
        "def update_parameter(W,b,dW,db,eta):\n",
        "\n",
        "  for i in range(len(W)):\n",
        "    W[i] = W[i] - eta * dW[i]\n",
        "    b[i] = b[i] - eta * db[i]\n",
        "  return W,b\n",
        "def cost(Y, Yhat):\n",
        "  return -np.sum(Y * np.log(Yhat))/Y.size"
      ],
      "metadata": {
        "id": "0yYLn9dRCUQb"
      },
      "execution_count": 18,
      "outputs": []
    },
    {
      "cell_type": "code",
      "source": [
        "def get_predictions(Yhat):\n",
        "  return np.argmax(Yhat,0)\n",
        "def get_accuracy(predictions,Y):\n",
        "  return np.sum(predictions == Y) / Y.size"
      ],
      "metadata": {
        "id": "eq42t5orjfA2"
      },
      "execution_count": 19,
      "outputs": []
    },
    {
      "cell_type": "code",
      "source": [
        "#N là số layer\n",
        "def train(N,W,b,X,Y,eta,epochs):\n",
        "  for i in range(epochs):\n",
        "    Z,A = prop(W,b,X,N)\n",
        "    dW,db = back_prop(Z,A,W,X,Y,N)\n",
        "    W,b = update_parameter(W,b,dW,db,eta)\n",
        "    if i%10 == 0:\n",
        "      print(i, \"cost: \", cost(Y,A[-1]), \"Accuracy\", get_accuracy(get_predictions(A[-1]),Y))\n",
        "  return W,b\n",
        "\n",
        "def test(N,W,b,X,Y):\n",
        "    one_hot_Y = one_hot(Y)\n",
        "    Z,A = prop(W,b,X,N)\n",
        "    print(\"cost: \", cost(one_hot_Y,A[-1]), get_accuracy(get_predictions(A[-1]),Y))\n",
        "    return get_predictions(A[-1])"
      ],
      "metadata": {
        "id": "9alP3qf7TgQ4"
      },
      "execution_count": 20,
      "outputs": []
    },
    {
      "cell_type": "code",
      "source": [
        "W,b = init_parameter(N)\n",
        "W,b = train(N,W,b,x_train,y_train,1e-4,1001)"
      ],
      "metadata": {
        "colab": {
          "base_uri": "https://localhost:8080/",
          "height": 1000
        },
        "id": "Q5FHJ-THuPJ-",
        "outputId": "2d446855-d2d9-4eca-e03d-da360d97ddd3"
      },
      "execution_count": 21,
      "outputs": [
        {
          "output_type": "stream",
          "name": "stdout",
          "text": [
            "1fdvds (10, 60000)\n",
            "0 cost:  615.3325389233892 Accuracy 0.07205\n",
            "1fdvds (10, 60000)\n",
            "1fdvds (10, 60000)\n",
            "1fdvds (10, 60000)\n",
            "1fdvds (10, 60000)\n",
            "1fdvds (10, 60000)\n",
            "1fdvds (10, 60000)\n",
            "1fdvds (10, 60000)\n",
            "1fdvds (10, 60000)\n",
            "1fdvds (10, 60000)\n",
            "1fdvds (10, 60000)\n",
            "10 cost:  615.3325498674559 Accuracy 0.07228333333333334\n",
            "1fdvds (10, 60000)\n",
            "1fdvds (10, 60000)\n",
            "1fdvds (10, 60000)\n",
            "1fdvds (10, 60000)\n",
            "1fdvds (10, 60000)\n",
            "1fdvds (10, 60000)\n",
            "1fdvds (10, 60000)\n",
            "1fdvds (10, 60000)\n",
            "1fdvds (10, 60000)\n",
            "1fdvds (10, 60000)\n",
            "20 cost:  615.3325606302388 Accuracy 0.07246666666666667\n",
            "1fdvds (10, 60000)\n",
            "1fdvds (10, 60000)\n",
            "1fdvds (10, 60000)\n",
            "1fdvds (10, 60000)\n",
            "1fdvds (10, 60000)\n",
            "1fdvds (10, 60000)\n",
            "1fdvds (10, 60000)\n",
            "1fdvds (10, 60000)\n",
            "1fdvds (10, 60000)\n",
            "1fdvds (10, 60000)\n",
            "30 cost:  615.332571213014 Accuracy 0.07258333333333333\n",
            "1fdvds (10, 60000)\n",
            "1fdvds (10, 60000)\n",
            "1fdvds (10, 60000)\n",
            "1fdvds (10, 60000)\n",
            "1fdvds (10, 60000)\n",
            "1fdvds (10, 60000)\n",
            "1fdvds (10, 60000)\n",
            "1fdvds (10, 60000)\n",
            "1fdvds (10, 60000)\n",
            "1fdvds (10, 60000)\n",
            "40 cost:  615.3325816174802 Accuracy 0.0727\n",
            "1fdvds (10, 60000)\n",
            "1fdvds (10, 60000)\n",
            "1fdvds (10, 60000)\n",
            "1fdvds (10, 60000)\n",
            "1fdvds (10, 60000)\n",
            "1fdvds (10, 60000)\n",
            "1fdvds (10, 60000)\n",
            "1fdvds (10, 60000)\n",
            "1fdvds (10, 60000)\n",
            "1fdvds (10, 60000)\n",
            "50 cost:  615.3325918509848 Accuracy 0.07281666666666667\n",
            "1fdvds (10, 60000)\n",
            "1fdvds (10, 60000)\n",
            "1fdvds (10, 60000)\n",
            "1fdvds (10, 60000)\n",
            "1fdvds (10, 60000)\n",
            "1fdvds (10, 60000)\n",
            "1fdvds (10, 60000)\n",
            "1fdvds (10, 60000)\n",
            "1fdvds (10, 60000)\n",
            "1fdvds (10, 60000)\n",
            "60 cost:  615.3326019343086 Accuracy 0.07278333333333334\n",
            "1fdvds (10, 60000)\n",
            "1fdvds (10, 60000)\n",
            "1fdvds (10, 60000)\n",
            "1fdvds (10, 60000)\n",
            "1fdvds (10, 60000)\n",
            "1fdvds (10, 60000)\n",
            "1fdvds (10, 60000)\n",
            "1fdvds (10, 60000)\n",
            "1fdvds (10, 60000)\n",
            "1fdvds (10, 60000)\n"
          ]
        },
        {
          "output_type": "error",
          "ename": "KeyboardInterrupt",
          "evalue": "",
          "traceback": [
            "\u001b[0;31m---------------------------------------------------------------------------\u001b[0m",
            "\u001b[0;31mKeyboardInterrupt\u001b[0m                         Traceback (most recent call last)",
            "\u001b[0;32m<ipython-input-21-400a6e371fc8>\u001b[0m in \u001b[0;36m<cell line: 2>\u001b[0;34m()\u001b[0m\n\u001b[1;32m      1\u001b[0m \u001b[0mW\u001b[0m\u001b[0;34m,\u001b[0m\u001b[0mb\u001b[0m \u001b[0;34m=\u001b[0m \u001b[0minit_parameter\u001b[0m\u001b[0;34m(\u001b[0m\u001b[0mN\u001b[0m\u001b[0;34m)\u001b[0m\u001b[0;34m\u001b[0m\u001b[0;34m\u001b[0m\u001b[0m\n\u001b[0;32m----> 2\u001b[0;31m \u001b[0mW\u001b[0m\u001b[0;34m,\u001b[0m\u001b[0mb\u001b[0m \u001b[0;34m=\u001b[0m \u001b[0mtrain\u001b[0m\u001b[0;34m(\u001b[0m\u001b[0mN\u001b[0m\u001b[0;34m,\u001b[0m\u001b[0mW\u001b[0m\u001b[0;34m,\u001b[0m\u001b[0mb\u001b[0m\u001b[0;34m,\u001b[0m\u001b[0mx_train\u001b[0m\u001b[0;34m,\u001b[0m\u001b[0my_train\u001b[0m\u001b[0;34m,\u001b[0m\u001b[0;36m1e-4\u001b[0m\u001b[0;34m,\u001b[0m\u001b[0;36m1001\u001b[0m\u001b[0;34m)\u001b[0m\u001b[0;34m\u001b[0m\u001b[0;34m\u001b[0m\u001b[0m\n\u001b[0m",
            "\u001b[0;32m<ipython-input-20-5b8995b40923>\u001b[0m in \u001b[0;36mtrain\u001b[0;34m(N, W, b, X, Y, eta, epochs)\u001b[0m\n\u001b[1;32m      6\u001b[0m     \u001b[0mW\u001b[0m\u001b[0;34m,\u001b[0m\u001b[0mb\u001b[0m \u001b[0;34m=\u001b[0m \u001b[0mupdate_parameter\u001b[0m\u001b[0;34m(\u001b[0m\u001b[0mW\u001b[0m\u001b[0;34m,\u001b[0m\u001b[0mb\u001b[0m\u001b[0;34m,\u001b[0m\u001b[0mdW\u001b[0m\u001b[0;34m,\u001b[0m\u001b[0mdb\u001b[0m\u001b[0;34m,\u001b[0m\u001b[0meta\u001b[0m\u001b[0;34m)\u001b[0m\u001b[0;34m\u001b[0m\u001b[0;34m\u001b[0m\u001b[0m\n\u001b[1;32m      7\u001b[0m     \u001b[0;32mif\u001b[0m \u001b[0mi\u001b[0m\u001b[0;34m%\u001b[0m\u001b[0;36m10\u001b[0m \u001b[0;34m==\u001b[0m \u001b[0;36m0\u001b[0m\u001b[0;34m:\u001b[0m\u001b[0;34m\u001b[0m\u001b[0;34m\u001b[0m\u001b[0m\n\u001b[0;32m----> 8\u001b[0;31m       \u001b[0mprint\u001b[0m\u001b[0;34m(\u001b[0m\u001b[0mi\u001b[0m\u001b[0;34m,\u001b[0m \u001b[0;34m\"cost: \"\u001b[0m\u001b[0;34m,\u001b[0m \u001b[0mcost\u001b[0m\u001b[0;34m(\u001b[0m\u001b[0mY\u001b[0m\u001b[0;34m,\u001b[0m\u001b[0mA\u001b[0m\u001b[0;34m[\u001b[0m\u001b[0;34m-\u001b[0m\u001b[0;36m1\u001b[0m\u001b[0;34m]\u001b[0m\u001b[0;34m)\u001b[0m\u001b[0;34m,\u001b[0m \u001b[0;34m\"Accuracy\"\u001b[0m\u001b[0;34m,\u001b[0m \u001b[0mget_accuracy\u001b[0m\u001b[0;34m(\u001b[0m\u001b[0mget_predictions\u001b[0m\u001b[0;34m(\u001b[0m\u001b[0mA\u001b[0m\u001b[0;34m[\u001b[0m\u001b[0;34m-\u001b[0m\u001b[0;36m1\u001b[0m\u001b[0;34m]\u001b[0m\u001b[0;34m)\u001b[0m\u001b[0;34m,\u001b[0m\u001b[0mY\u001b[0m\u001b[0;34m)\u001b[0m\u001b[0;34m)\u001b[0m\u001b[0;34m\u001b[0m\u001b[0;34m\u001b[0m\u001b[0m\n\u001b[0m\u001b[1;32m      9\u001b[0m   \u001b[0;32mreturn\u001b[0m \u001b[0mW\u001b[0m\u001b[0;34m,\u001b[0m\u001b[0mb\u001b[0m\u001b[0;34m\u001b[0m\u001b[0;34m\u001b[0m\u001b[0m\n\u001b[1;32m     10\u001b[0m \u001b[0;34m\u001b[0m\u001b[0m\n",
            "\u001b[0;32m<ipython-input-19-4564db0a57c9>\u001b[0m in \u001b[0;36mget_predictions\u001b[0;34m(Yhat)\u001b[0m\n\u001b[1;32m      1\u001b[0m \u001b[0;32mdef\u001b[0m \u001b[0mget_predictions\u001b[0m\u001b[0;34m(\u001b[0m\u001b[0mYhat\u001b[0m\u001b[0;34m)\u001b[0m\u001b[0;34m:\u001b[0m\u001b[0;34m\u001b[0m\u001b[0;34m\u001b[0m\u001b[0m\n\u001b[0;32m----> 2\u001b[0;31m   \u001b[0;32mreturn\u001b[0m \u001b[0mnp\u001b[0m\u001b[0;34m.\u001b[0m\u001b[0margmax\u001b[0m\u001b[0;34m(\u001b[0m\u001b[0mYhat\u001b[0m\u001b[0;34m,\u001b[0m\u001b[0;36m0\u001b[0m\u001b[0;34m)\u001b[0m\u001b[0;34m\u001b[0m\u001b[0;34m\u001b[0m\u001b[0m\n\u001b[0m\u001b[1;32m      3\u001b[0m \u001b[0;32mdef\u001b[0m \u001b[0mget_accuracy\u001b[0m\u001b[0;34m(\u001b[0m\u001b[0mpredictions\u001b[0m\u001b[0;34m,\u001b[0m\u001b[0mY\u001b[0m\u001b[0;34m)\u001b[0m\u001b[0;34m:\u001b[0m\u001b[0;34m\u001b[0m\u001b[0;34m\u001b[0m\u001b[0m\n\u001b[1;32m      4\u001b[0m   \u001b[0;32mreturn\u001b[0m \u001b[0mnp\u001b[0m\u001b[0;34m.\u001b[0m\u001b[0msum\u001b[0m\u001b[0;34m(\u001b[0m\u001b[0mpredictions\u001b[0m \u001b[0;34m==\u001b[0m \u001b[0mY\u001b[0m\u001b[0;34m)\u001b[0m \u001b[0;34m/\u001b[0m \u001b[0mY\u001b[0m\u001b[0;34m.\u001b[0m\u001b[0msize\u001b[0m\u001b[0;34m\u001b[0m\u001b[0;34m\u001b[0m\u001b[0m\n",
            "\u001b[0;32m/usr/local/lib/python3.10/dist-packages/numpy/core/fromnumeric.py\u001b[0m in \u001b[0;36margmax\u001b[0;34m(a, axis, out, keepdims)\u001b[0m\n\u001b[1;32m   1227\u001b[0m     \"\"\"\n\u001b[1;32m   1228\u001b[0m     \u001b[0mkwds\u001b[0m \u001b[0;34m=\u001b[0m \u001b[0;34m{\u001b[0m\u001b[0;34m'keepdims'\u001b[0m\u001b[0;34m:\u001b[0m \u001b[0mkeepdims\u001b[0m\u001b[0;34m}\u001b[0m \u001b[0;32mif\u001b[0m \u001b[0mkeepdims\u001b[0m \u001b[0;32mis\u001b[0m \u001b[0;32mnot\u001b[0m \u001b[0mnp\u001b[0m\u001b[0;34m.\u001b[0m\u001b[0m_NoValue\u001b[0m \u001b[0;32melse\u001b[0m \u001b[0;34m{\u001b[0m\u001b[0;34m}\u001b[0m\u001b[0;34m\u001b[0m\u001b[0;34m\u001b[0m\u001b[0m\n\u001b[0;32m-> 1229\u001b[0;31m     \u001b[0;32mreturn\u001b[0m \u001b[0m_wrapfunc\u001b[0m\u001b[0;34m(\u001b[0m\u001b[0ma\u001b[0m\u001b[0;34m,\u001b[0m \u001b[0;34m'argmax'\u001b[0m\u001b[0;34m,\u001b[0m \u001b[0maxis\u001b[0m\u001b[0;34m=\u001b[0m\u001b[0maxis\u001b[0m\u001b[0;34m,\u001b[0m \u001b[0mout\u001b[0m\u001b[0;34m=\u001b[0m\u001b[0mout\u001b[0m\u001b[0;34m,\u001b[0m \u001b[0;34m**\u001b[0m\u001b[0mkwds\u001b[0m\u001b[0;34m)\u001b[0m\u001b[0;34m\u001b[0m\u001b[0;34m\u001b[0m\u001b[0m\n\u001b[0m\u001b[1;32m   1230\u001b[0m \u001b[0;34m\u001b[0m\u001b[0m\n\u001b[1;32m   1231\u001b[0m \u001b[0;34m\u001b[0m\u001b[0m\n",
            "\u001b[0;32m/usr/local/lib/python3.10/dist-packages/numpy/core/fromnumeric.py\u001b[0m in \u001b[0;36m_wrapfunc\u001b[0;34m(obj, method, *args, **kwds)\u001b[0m\n\u001b[1;32m     57\u001b[0m \u001b[0;34m\u001b[0m\u001b[0m\n\u001b[1;32m     58\u001b[0m     \u001b[0;32mtry\u001b[0m\u001b[0;34m:\u001b[0m\u001b[0;34m\u001b[0m\u001b[0;34m\u001b[0m\u001b[0m\n\u001b[0;32m---> 59\u001b[0;31m         \u001b[0;32mreturn\u001b[0m \u001b[0mbound\u001b[0m\u001b[0;34m(\u001b[0m\u001b[0;34m*\u001b[0m\u001b[0margs\u001b[0m\u001b[0;34m,\u001b[0m \u001b[0;34m**\u001b[0m\u001b[0mkwds\u001b[0m\u001b[0;34m)\u001b[0m\u001b[0;34m\u001b[0m\u001b[0;34m\u001b[0m\u001b[0m\n\u001b[0m\u001b[1;32m     60\u001b[0m     \u001b[0;32mexcept\u001b[0m \u001b[0mTypeError\u001b[0m\u001b[0;34m:\u001b[0m\u001b[0;34m\u001b[0m\u001b[0;34m\u001b[0m\u001b[0m\n\u001b[1;32m     61\u001b[0m         \u001b[0;31m# A TypeError occurs if the object does have such a method in its\u001b[0m\u001b[0;34m\u001b[0m\u001b[0;34m\u001b[0m\u001b[0m\n",
            "\u001b[0;31mKeyboardInterrupt\u001b[0m: "
          ]
        }
      ]
    },
    {
      "cell_type": "code",
      "source": [
        "Yhat = test(N,W,b,x_test,y_test)\n",
        "print(Yhat)\n",
        "print(y_test)\n",
        "print(\"Accuracy: \",get_accuracy(Yhat,y_test)*100)"
      ],
      "metadata": {
        "id": "rLw4zVYzKd1q"
      },
      "execution_count": null,
      "outputs": []
    }
  ]
}