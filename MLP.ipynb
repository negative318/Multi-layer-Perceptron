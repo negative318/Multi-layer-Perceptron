{
  "cells": [
    {
      "cell_type": "code",
      "execution_count": 10,
      "metadata": {
        "id": "hqoF8DTB3ndP"
      },
      "outputs": [],
      "source": [
        "import numpy as np\n",
        "import matplotlib.pyplot as plt\n",
        "import keras"
      ]
    },
    {
      "cell_type": "code",
      "execution_count": 11,
      "metadata": {
        "id": "0JggWHNxfPjH"
      },
      "outputs": [],
      "source": [
        "N = 3"
      ]
    },
    {
      "cell_type": "code",
      "execution_count": 12,
      "metadata": {
        "id": "GnVdSM4O3x0r"
      },
      "outputs": [],
      "source": [
        "from keras.datasets import mnist\n",
        "(x_train,y_train),(x_test,y_test) = mnist.load_data()"
      ]
    },
    {
      "cell_type": "code",
      "execution_count": 13,
      "metadata": {
        "colab": {
          "base_uri": "https://localhost:8080/"
        },
        "id": "MPOdPT7E37aT",
        "outputId": "a13c7a18-9b9f-4e75-b2b4-ae081617aff0"
      },
      "outputs": [
        {
          "name": "stdout",
          "output_type": "stream",
          "text": [
            "(60000, 28, 28) (60000,)\n",
            "(10000, 28, 28) (10000,)\n"
          ]
        }
      ],
      "source": [
        "print(x_train.shape,y_train.shape)\n",
        "print(x_test.shape,y_test.shape)"
      ]
    },
    {
      "cell_type": "code",
      "execution_count": 14,
      "metadata": {
        "collapsed": true,
        "id": "z8V0FR_c3754"
      },
      "outputs": [],
      "source": [
        "# for i in range(10):\n",
        "#   plt.imshow(x_train[y_train == i][0], cmap ='gray')\n",
        "#   plt.title(\"label: {}\".format(i), fontsize=16)\n",
        "#   plt.show()"
      ]
    },
    {
      "cell_type": "code",
      "execution_count": 15,
      "metadata": {
        "id": "lD0RPnfP-Jv5"
      },
      "outputs": [],
      "source": [
        "x_train = x_train /255.0\n",
        "x_test = x_test /255.0"
      ]
    },
    {
      "cell_type": "code",
      "execution_count": 16,
      "metadata": {
        "colab": {
          "base_uri": "https://localhost:8080/"
        },
        "id": "_vYtTBPvd9ce",
        "outputId": "62293831-ad5d-41e7-c8ca-407606171d18"
      },
      "outputs": [
        {
          "name": "stdout",
          "output_type": "stream",
          "text": [
            "[7 2 1 ... 4 5 6]\n",
            "[5 0 4 ... 5 6 8]\n",
            "(10000,)\n",
            "(60000,)\n"
          ]
        }
      ],
      "source": [
        "print(y_test)\n",
        "print(y_train)\n",
        "print(y_test.shape)\n",
        "print(y_train.shape)"
      ]
    },
    {
      "cell_type": "code",
      "execution_count": 17,
      "metadata": {
        "colab": {
          "base_uri": "https://localhost:8080/"
        },
        "id": "fkhZ94Mt3-_s",
        "outputId": "543b7f19-b075-4e2c-e7a4-2b5154a8b8b6"
      },
      "outputs": [
        {
          "name": "stdout",
          "output_type": "stream",
          "text": [
            "(784, 60000)\n"
          ]
        }
      ],
      "source": [
        "x_train = x_train.reshape(x_train.shape[0],-1).T\n",
        "x_test = x_test.reshape(x_test.shape[0],-1).T\n",
        "print(x_train.shape)"
      ]
    },
    {
      "cell_type": "code",
      "execution_count": 18,
      "metadata": {
        "id": "0yYLn9dRCUQb"
      },
      "outputs": [],
      "source": [
        "def init_parameter(N):\n",
        "  d = [10] * (N+1)\n",
        "  d[0] = 784\n",
        "  W = []\n",
        "  b = []\n",
        "  for i in range(N):\n",
        "    W.append(np.random.randn(d[i],d[i+1]))\n",
        "    b.append(np.random.randn(d[i+1],1))\n",
        "  return W,b\n",
        "\n",
        "def RELU(Z):\n",
        "  return np.maximum(0,Z)\n",
        "\n",
        "def softmax(Z):\n",
        "  Z_max = np.max(Z)\n",
        "  exp_Z = np.exp(Z - Z_max)\n",
        "  A = exp_Z / np.sum(exp_Z)\n",
        "  return A\n",
        "\n",
        "\n",
        "\n",
        "def one_hot(Y):\n",
        "  one_hot_Y = np.zeros((Y.size,Y.max()+1))\n",
        "  one_hot_Y[np.arange(Y.size),Y] = 1\n",
        "  one_hot_Y = one_hot_Y.T\n",
        "  print(\"1fdvds\",one_hot_Y.shape)\n",
        "  return one_hot_Y\n",
        "\n",
        "def prop(W,b,X,N):\n",
        "  Z = []\n",
        "  A = []\n",
        "  for i in range(N):\n",
        "    if i == 0 :\n",
        "      Z.append(W[0].T.dot(X) + b[0])\n",
        "      A.append(RELU(Z[0]))\n",
        "    elif i != N-1 :\n",
        "      Z.append(W[i].T.dot(A[i-1]) + b[i])\n",
        "      A.append(RELU(Z[i]))\n",
        "    else:\n",
        "      Z.append(W[i].T.dot(A[i-1])+ b[i])\n",
        "      A.append(softmax(Z[i]))\n",
        "  return Z,A\n",
        "\n",
        "\n",
        "\n",
        "def back_prop(Z,A,W,X,Y,N):\n",
        "  E = []\n",
        "  dW = []\n",
        "  db = []\n",
        "  one_hot_Y = one_hot(Y)\n",
        "  for i in range(N-1, -1, -1):\n",
        "    if (i == 0):\n",
        "      E.append(W[i+1].dot(E[-1]))\n",
        "      E[-1][Z[0] <= 0] = 0\n",
        "      dW.insert(0,X.dot(E[-1].T))\n",
        "    elif(i == N-1):\n",
        "      E.append(1/Y.size * (A[-1] - one_hot_Y))\n",
        "      dW.insert(0,A[i-1].dot(E[-1].T))\n",
        "\n",
        "    else:\n",
        "      E.append(W[i+1].dot(E[-1]))\n",
        "      E[-1][Z[i] <= 0] = 0\n",
        "      dW.insert(0,A[i-1].dot(E[-1].T))\n",
        "\n",
        "    db.insert(0,np.sum(E[-1],axis=1,keepdims=True))\n",
        "\n",
        "\n",
        "  return dW,db\n",
        "def update_parameter(W,b,dW,db,eta):\n",
        "\n",
        "  for i in range(len(W)):\n",
        "    W[i] = W[i] - eta * dW[i]\n",
        "    b[i] = b[i] - eta * db[i]\n",
        "  return W,b\n",
        "def cost(Y, Yhat):\n",
        "  return -np.sum(Y * np.log(Yhat))/Y.size"
      ]
    },
    {
      "cell_type": "code",
      "execution_count": 19,
      "metadata": {
        "id": "eq42t5orjfA2"
      },
      "outputs": [],
      "source": [
        "def get_predictions(Yhat):\n",
        "  return np.argmax(Yhat,0)\n",
        "def get_accuracy(predictions,Y):\n",
        "  return np.sum(predictions == Y) / Y.size"
      ]
    },
    {
      "cell_type": "code",
      "execution_count": 20,
      "metadata": {
        "id": "9alP3qf7TgQ4"
      },
      "outputs": [],
      "source": [
        "#N là số layer\n",
        "def train(N,W,b,X,Y,eta,epochs):\n",
        "  for i in range(epochs):\n",
        "    Z,A = prop(W,b,X,N)\n",
        "    dW,db = back_prop(Z,A,W,X,Y,N)\n",
        "    W,b = update_parameter(W,b,dW,db,eta)\n",
        "    if i%10 == 0:\n",
        "      print(i, \"cost: \", cost(Y,A[-1]), \"Accuracy\", get_accuracy(get_predictions(A[-1]),Y))\n",
        "  return W,b\n",
        "\n",
        "def test(N,W,b,X,Y):\n",
        "    one_hot_Y = one_hot(Y)\n",
        "    Z,A = prop(W,b,X,N)\n",
        "    print(\"cost: \", cost(one_hot_Y,A[-1]), get_accuracy(get_predictions(A[-1]),Y))\n",
        "    return get_predictions(A[-1])"
      ]
    },
    {
      "cell_type": "code",
      "execution_count": null,
      "metadata": {
        "colab": {
          "base_uri": "https://localhost:8080/",
          "height": 1000
        },
        "id": "Q5FHJ-THuPJ-",
        "outputId": "2d446855-d2d9-4eca-e03d-da360d97ddd3"
      },
      "outputs": [],
      "source": [
        "W,b = init_parameter(N)\n",
        "W,b = train(N,W,b,x_train,y_train,1e-4,1001)"
      ]
    },
    {
      "cell_type": "code",
      "execution_count": null,
      "metadata": {
        "id": "rLw4zVYzKd1q"
      },
      "outputs": [],
      "source": [
        "Yhat = test(N,W,b,x_test,y_test)\n",
        "print(Yhat)\n",
        "print(y_test)\n",
        "print(\"Accuracy: \",get_accuracy(Yhat,y_test)*100)"
      ]
    }
  ],
  "metadata": {
    "colab": {
      "provenance": []
    },
    "kernelspec": {
      "display_name": "Python 3",
      "name": "python3"
    },
    "language_info": {
      "name": "python"
    }
  },
  "nbformat": 4,
  "nbformat_minor": 0
}
