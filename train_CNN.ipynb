{
 "cells": [
  {
   "cell_type": "code",
   "execution_count": 7,
   "metadata": {},
   "outputs": [],
   "source": [
    "from MLP import *\n",
    "from CNN import *"
   ]
  },
  {
   "cell_type": "code",
   "execution_count": 11,
   "metadata": {},
   "outputs": [
    {
     "name": "stdout",
     "output_type": "stream",
     "text": [
      "(1000, 28, 28) (10, 1000)\n",
      "(10000, 28, 28) (10, 10000)\n"
     ]
    }
   ],
   "source": [
    "from keras.datasets import mnist\n",
    "(x_train,y_train),(x_test,y_test) = mnist.load_data()\n",
    "\n",
    "def one_hot(Y):\n",
    "  one_hot_Y = np.zeros((Y.size,np.max(Y) + 1))\n",
    "  one_hot_Y[np.arange(Y.size),Y] = 1\n",
    "  one_hot_Y = one_hot_Y.T\n",
    "  return one_hot_Y\n",
    "\n",
    "\n",
    "y_train = one_hot(y_train)\n",
    "y_test = one_hot(y_test)\n",
    "x_train = x_train/255\n",
    "x_test = x_test/255\n",
    "x_validation = x_train[59000:60000]\n",
    "y_validation = y_train[:,59000:60000]\n",
    "x_train = x_train[0:1000]\n",
    "y_train = y_train[:,0:1000]\n",
    "\n",
    "print(x_train.shape,y_train.shape)\n",
    "print(x_test.shape,y_test.shape)\n"
   ]
  },
  {
   "cell_type": "code",
   "execution_count": 12,
   "metadata": {},
   "outputs": [
    {
     "name": "stdout",
     "output_type": "stream",
     "text": [
      "x_train:  (1000, 28, 28)\n",
      "y_train:  (10, 1000)\n",
      "x_val:  (1000, 28, 28)\n",
      "y_val:  (10, 1000)\n",
      "epochs:  0 loss:  12.478734506881676 accuracy_train: 0.083 loss_val 12.576088804996896 accuracy_validation: 0.075\n",
      "epochs:  1 loss:  11.413783710548348 accuracy_train: 0.149 loss_val 11.594890488071455 accuracy_validation: 0.135\n",
      "epochs:  2 loss:  10.230515363905479 accuracy_train: 0.233 loss_val 10.342977428314537 accuracy_validation: 0.221\n",
      "epochs:  3 loss:  8.917152238317767 accuracy_train: 0.321 loss_val 9.232049624058723 accuracy_validation: 0.301\n",
      "epochs:  4 loss:  7.9924681832289135 accuracy_train: 0.387 loss_val 8.194082440049147 accuracy_validation: 0.373\n",
      "epochs:  5 loss:  6.949420235308975 accuracy_train: 0.473 loss_val 7.316034877875878 accuracy_validation: 0.441\n",
      "epochs:  6 loss:  6.657652652305045 accuracy_train: 0.486 loss_val 7.022948721380315 accuracy_validation: 0.464\n",
      "epochs:  7 loss:  6.577168543866228 accuracy_train: 0.495 loss_val 7.131242644644192 accuracy_validation: 0.458\n",
      "epochs:  8 loss:  5.803828709867923 accuracy_train: 0.557 loss_val 6.119690486390173 accuracy_validation: 0.539\n",
      "epochs:  9 loss:  5.294265783893905 accuracy_train: 0.599 loss_val 5.921380225613323 accuracy_validation: 0.556\n",
      "epochs:  10 loss:  5.042700019951871 accuracy_train: 0.617 loss_val 5.506210202380578 accuracy_validation: 0.581\n",
      "epochs:  11 loss:  5.00934768188649 accuracy_train: 0.61 loss_val 5.553855273291078 accuracy_validation: 0.579\n",
      "epochs:  12 loss:  5.1440308218428 accuracy_train: 0.601 loss_val 5.648410677472374 accuracy_validation: 0.571\n",
      "epochs:  13 loss:  5.264380055383403 accuracy_train: 0.601 loss_val 5.957121048559161 accuracy_validation: 0.555\n",
      "epochs:  14 loss:  5.336429823390002 accuracy_train: 0.594 loss_val 6.096980768561284 accuracy_validation: 0.544\n",
      "epochs:  15 loss:  5.08944193468137 accuracy_train: 0.611 loss_val 5.880310886376344 accuracy_validation: 0.556\n",
      "epochs:  16 loss:  4.694739204501481 accuracy_train: 0.635 loss_val 5.666212638784411 accuracy_validation: 0.574\n",
      "epochs:  17 loss:  4.756615018356075 accuracy_train: 0.636 loss_val 5.9223639679199955 accuracy_validation: 0.555\n",
      "epochs:  18 loss:  4.815135267276064 accuracy_train: 0.631 loss_val 5.812786576061355 accuracy_validation: 0.552\n",
      "epochs:  19 loss:  4.494178469971898 accuracy_train: 0.654 loss_val 5.488644092838674 accuracy_validation: 0.589\n",
      "epochs:  20 loss:  4.324603369448447 accuracy_train: 0.669 loss_val 5.231945204898486 accuracy_validation: 0.609\n",
      "epochs:  21 loss:  4.03899448769584 accuracy_train: 0.691 loss_val 5.0162869534112176 accuracy_validation: 0.622\n",
      "epochs:  22 loss:  3.801647766957418 accuracy_train: 0.704 loss_val 4.726981241985593 accuracy_validation: 0.645\n",
      "epochs:  23 loss:  3.4363183210343253 accuracy_train: 0.736 loss_val 4.404353032294996 accuracy_validation: 0.665\n",
      "epochs:  24 loss:  3.083007095273308 accuracy_train: 0.76 loss_val 4.063297738857734 accuracy_validation: 0.692\n",
      "epochs:  25 loss:  2.8427208976998073 accuracy_train: 0.781 loss_val 3.910595936508059 accuracy_validation: 0.704\n",
      "epochs:  26 loss:  2.7799013615067207 accuracy_train: 0.787 loss_val 3.958607569978125 accuracy_validation: 0.704\n",
      "epochs:  27 loss:  2.95182092108945 accuracy_train: 0.775 loss_val 4.000872316665367 accuracy_validation: 0.697\n",
      "epochs:  28 loss:  2.7125966420805336 accuracy_train: 0.79 loss_val 4.003294707157655 accuracy_validation: 0.701\n",
      "epochs:  29 loss:  2.8490284383880153 accuracy_train: 0.781 loss_val 3.8658887363028507 accuracy_validation: 0.706\n",
      "train (2.8490284383880153, 0.781)\n",
      "val (3.8658887363028507, 0.706)\n",
      "test (4.462710486422059, 0.6646)\n"
     ]
    }
   ],
   "source": [
    "\n",
    "CNN1 = Convolutional(input_shape = (1,28,28), kernel_size = 3, output_depth = 4, l_rate = 0.1)\n",
    "pool1 = MaxPoolingLayer(2)\n",
    "CNN2 = Convolutional(input_shape = (4,13,13), kernel_size = 3,output_depth = 8, l_rate = 0.1)\n",
    "pool2 = MaxPoolingLayer(2)\n",
    "flatten = Flattening()\n",
    "nn = NeuralNetwork(layers_size=[288,10],activations = [\"\", \"softmax\"], loss = \"crossEntropy\", l_rate = 0.1) # 4*6*6 = 288\n",
    "model = Model([CNN1,pool1,CNN2,pool2],nn)\n",
    "model.train(x_train,y_train,x_validation,y_validation, batch_size = 64, epochs = 30)\n",
    "\n",
    "print(\"train\", model.test(x_train, y_train))\n",
    "\n",
    "print(\"val\", model.test(x_validation, y_validation))\n",
    "\n",
    "print(\"test\", model.test(x_test,y_test))\n"
   ]
  },
  {
   "cell_type": "code",
   "execution_count": 13,
   "metadata": {},
   "outputs": [
    {
     "name": "stdout",
     "output_type": "stream",
     "text": [
      "x_train:  (1000, 28, 28)\n",
      "y_train:  (10, 1000)\n",
      "x_val:  (1000, 28, 28)\n",
      "y_val:  (10, 1000)\n",
      "epochs:  0 loss:  12.945514828991788 accuracy_train: 0.049 loss_val 12.875484006845793 accuracy_validation: 0.056\n",
      "epochs:  1 loss:  12.418265626335518 accuracy_train: 0.085 loss_val 12.076177517288528 accuracy_validation: 0.107\n",
      "epochs:  2 loss:  12.178571778347916 accuracy_train: 0.101 loss_val 11.71297202946203 accuracy_validation: 0.128\n",
      "epochs:  3 loss:  12.128505878641512 accuracy_train: 0.102 loss_val 11.667318321510868 accuracy_validation: 0.133\n",
      "epochs:  4 loss:  12.056057638573018 accuracy_train: 0.108 loss_val 11.621547000312715 accuracy_validation: 0.135\n",
      "epochs:  5 loss:  12.002376529282502 accuracy_train: 0.11 loss_val 11.56645666092823 accuracy_validation: 0.138\n",
      "epochs:  6 loss:  11.944207318352325 accuracy_train: 0.116 loss_val 11.490579286017761 accuracy_validation: 0.143\n",
      "epochs:  7 loss:  11.890819607250172 accuracy_train: 0.117 loss_val 11.427791835259653 accuracy_validation: 0.145\n",
      "epochs:  8 loss:  11.826548835664648 accuracy_train: 0.123 loss_val 11.349872392719742 accuracy_validation: 0.154\n",
      "epochs:  9 loss:  11.74184035037535 accuracy_train: 0.127 loss_val 11.266097955669046 accuracy_validation: 0.16\n",
      "epochs:  10 loss:  11.633359529914026 accuracy_train: 0.132 loss_val 11.195558878215591 accuracy_validation: 0.166\n",
      "epochs:  11 loss:  11.541138817924608 accuracy_train: 0.136 loss_val 11.139429955193929 accuracy_validation: 0.172\n",
      "epochs:  12 loss:  11.445316258331951 accuracy_train: 0.141 loss_val 11.088752127456148 accuracy_validation: 0.173\n",
      "epochs:  13 loss:  11.356122778972283 accuracy_train: 0.147 loss_val 11.049358796187306 accuracy_validation: 0.177\n",
      "epochs:  14 loss:  11.276327827937795 accuracy_train: 0.153 loss_val 10.988347529533154 accuracy_validation: 0.178\n",
      "epochs:  15 loss:  11.182783860704365 accuracy_train: 0.159 loss_val 10.912278931151956 accuracy_validation: 0.181\n",
      "epochs:  16 loss:  11.09166351225848 accuracy_train: 0.164 loss_val 10.840174668014265 accuracy_validation: 0.186\n",
      "epochs:  17 loss:  11.008352388502624 accuracy_train: 0.168 loss_val 10.777713118537129 accuracy_validation: 0.195\n",
      "epochs:  18 loss:  10.932928898531035 accuracy_train: 0.173 loss_val 10.706915075410583 accuracy_validation: 0.2\n",
      "epochs:  19 loss:  10.851101778043182 accuracy_train: 0.175 loss_val 10.612143486097 accuracy_validation: 0.205\n",
      "epochs:  20 loss:  10.77668986887095 accuracy_train: 0.178 loss_val 10.508439748758674 accuracy_validation: 0.205\n",
      "epochs:  21 loss:  10.70891610395733 accuracy_train: 0.187 loss_val 10.443485609358415 accuracy_validation: 0.209\n",
      "epochs:  22 loss:  10.636569440828824 accuracy_train: 0.188 loss_val 10.37897583292292 accuracy_validation: 0.213\n",
      "epochs:  23 loss:  10.54182238013288 accuracy_train: 0.195 loss_val 10.285797051429668 accuracy_validation: 0.223\n",
      "epochs:  24 loss:  10.458955891638658 accuracy_train: 0.203 loss_val 10.226708019650538 accuracy_validation: 0.226\n",
      "epochs:  25 loss:  10.367403297315034 accuracy_train: 0.21 loss_val 10.13444556482121 accuracy_validation: 0.234\n",
      "epochs:  26 loss:  10.281873459351416 accuracy_train: 0.214 loss_val 10.051727156985935 accuracy_validation: 0.236\n",
      "epochs:  27 loss:  10.193593652894267 accuracy_train: 0.216 loss_val 9.985701373203828 accuracy_validation: 0.244\n",
      "epochs:  28 loss:  10.111411369860729 accuracy_train: 0.222 loss_val 9.945173656751905 accuracy_validation: 0.244\n",
      "epochs:  29 loss:  10.043444278764973 accuracy_train: 0.229 loss_val 9.909634502601966 accuracy_validation: 0.243\n",
      "train (10.043444278764973, 0.229)\n",
      "val (9.909634502601966, 0.243)\n",
      "test (10.33382751708399, 0.219)\n"
     ]
    }
   ],
   "source": [
    "\n",
    "CNN1 = Convolutional(input_shape = (1,28,28), kernel_size = 3, output_depth = 4, l_rate = 0.01)\n",
    "pool1 = MaxPoolingLayer(2)\n",
    "CNN2 = Convolutional(input_shape = (4,13,13), kernel_size = 3,output_depth = 8, l_rate = 0.01)\n",
    "pool2 = MaxPoolingLayer(2)\n",
    "flatten = Flattening()\n",
    "nn = NeuralNetwork(layers_size=[288,10],activations = [\"\", \"softmax\"], loss = \"crossEntropy\", l_rate = 0.01) # 4*6*6 = 288\n",
    "model = Model([CNN1,pool1,CNN2,pool2],nn)\n",
    "model.train(x_train,y_train,x_validation,y_validation, batch_size = 64, epochs = 30)\n",
    "\n",
    "print(\"train\", model.test(x_train, y_train))\n",
    "\n",
    "print(\"val\", model.test(x_validation, y_validation))\n",
    "\n",
    "print(\"test\", model.test(x_test,y_test))\n"
   ]
  },
  {
   "cell_type": "code",
   "execution_count": null,
   "metadata": {},
   "outputs": [],
   "source": [
    "CNN1 = Convolutional(input_shape = (1,28,28), kernel_size = 3, output_depth = 4, l_rate = 0.05)\n",
    "pool1 = MaxPoolingLayer(2)\n",
    "CNN2 = Convolutional(input_shape = (4,13,13), kernel_size = 3,output_depth = 8, l_rate = 0.05)\n",
    "pool2 = MaxPoolingLayer(2)\n",
    "flatten = Flattening()\n",
    "nn = NeuralNetwork(layers_size=[288,10],activations = [\"\", \"softmax\"], loss = \"crossEntropy\", l_rate = 0.05) # 4*6*6 = 288\n",
    "model = Model([CNN1,pool1,CNN2,pool2],nn)\n",
    "model.train(x_train,y_train,x_validation,y_validation, batch_size = 64, epochs = 30)\n",
    "\n",
    "print(\"train\", model.test(x_train, y_train))\n",
    "\n",
    "print(\"val\", model.test(x_validation, y_validation))\n",
    "\n",
    "print(\"test\", model.test(x_test,y_test))\n"
   ]
  }
 ],
 "metadata": {
  "kernelspec": {
   "display_name": "Python 3",
   "language": "python",
   "name": "python3"
  },
  "language_info": {
   "codemirror_mode": {
    "name": "ipython",
    "version": 3
   },
   "file_extension": ".py",
   "mimetype": "text/x-python",
   "name": "python",
   "nbconvert_exporter": "python",
   "pygments_lexer": "ipython3",
   "version": "3.11.9"
  }
 },
 "nbformat": 4,
 "nbformat_minor": 2
}
