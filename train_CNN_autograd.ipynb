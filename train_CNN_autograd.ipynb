{
 "cells": [
  {
   "cell_type": "code",
   "execution_count": 8,
   "metadata": {},
   "outputs": [
    {
     "name": "stdout",
     "output_type": "stream",
     "text": [
      "[5 0 4 ... 5 6 8]\n",
      "(1000, 1, 28, 28) (10, 1000)\n",
      "(1000, 1, 28, 28) (10, 1000)\n",
      "(10000, 1, 28, 28) (10, 10000)\n"
     ]
    }
   ],
   "source": [
    "from MLP_autograd import *\n",
    "from CNN_autograd import *\n",
    "from keras.datasets import mnist\n",
    "(x_train,y_train),(x_test,y_test) = mnist.load_data()\n",
    "\n",
    "def one_hot(Y):\n",
    "  one_hot_Y = np.zeros((Y.size,np.max(Y) + 1))\n",
    "  one_hot_Y[np.arange(Y.size),Y] = 1\n",
    "  one_hot_Y = one_hot_Y.T\n",
    "  return one_hot_Y\n",
    "\n",
    "print(y_train)\n",
    "\n",
    "y_train = one_hot(y_train)\n",
    "y_test = one_hot(y_test)\n",
    "x_train = x_train/255\n",
    "x_test = x_test/255\n",
    "x_validation = x_train[59000:60000]\n",
    "y_validation = y_train[:,59000:60000]\n",
    "x_train = x_train[0:1000]\n",
    "y_train = y_train[:,0:1000]\n",
    "\n",
    "\n",
    "x_train = x_train.reshape(x_train.shape[0],1,28,28)\n",
    "x_validation = x_validation.reshape(x_validation.shape[0],1,28,28)\n",
    "x_test = x_test.reshape(x_test.shape[0],1,28,28)\n",
    "\n",
    "print(x_train.shape,y_train.shape)\n",
    "print(x_validation.shape, y_validation.shape)\n",
    "print(x_test.shape,y_test.shape)\n"
   ]
  },
  {
   "cell_type": "code",
   "execution_count": 2,
   "metadata": {},
   "outputs": [],
   "source": [
    "CNN1 = Convolutional(input_shape = (1,28,28), kernel_size = 3, output_depth = 4, l_rate = 0.01, activeFuncion = \"relu\")\n",
    "pool1 = MaxPoolingLayer(2)\n",
    "CNN2 = Convolutional(input_shape = (4,13,13), kernel_size = 3,output_depth = 8, l_rate = 0.01, activeFuncion = \"relu\")\n",
    "pool2 = MaxPoolingLayer(2)\n",
    "flatten = Flattening()\n",
    "nn = NeuralNetwork(layers_size=[288,10],activations = [\"softmax\"], lossFunction = \"crossEntropy\", l_rate = 0.01) # 8*6*6 = 288\n",
    "\n",
    "\n",
    "model = Model([CNN1,pool1,CNN2,pool2, flatten,nn])\n"
   ]
  },
  {
   "cell_type": "code",
   "execution_count": 3,
   "metadata": {},
   "outputs": [
    {
     "name": "stdout",
     "output_type": "stream",
     "text": [
      "x_train:  (1000, 1, 28, 28)\n",
      "y_train:  (10, 1000)\n",
      "x_val:  (1000, 1, 28, 28)\n",
      "y_val:  (10, 1000)\n",
      "epochs:  0 loss_train:  12.49830051185458 accuracy_train: 0.073 loss_val 12.396705226595696 accuracy_validation: 0.079\n",
      "epochs:  1 loss_train:  12.467890101534525 accuracy_train: 0.067 loss_val 12.320100426006416 accuracy_validation: 0.085\n",
      "epochs:  2 loss_train:  12.383664214249228 accuracy_train: 0.075 loss_val 12.12274302743799 accuracy_validation: 0.09\n",
      "epochs:  3 loss_train:  12.19506212583399 accuracy_train: 0.085 loss_val 11.903896720509215 accuracy_validation: 0.1\n",
      "epochs:  4 loss_train:  11.999926307847241 accuracy_train: 0.094 loss_val 11.724345196931413 accuracy_validation: 0.118\n",
      "epochs:  5 loss_train:  11.777447574717483 accuracy_train: 0.105 loss_val 11.541470282891387 accuracy_validation: 0.125\n",
      "epochs:  6 loss_train:  11.535575361994203 accuracy_train: 0.118 loss_val 11.289093479262469 accuracy_validation: 0.141\n",
      "epochs:  7 loss_train:  11.218497909659453 accuracy_train: 0.129 loss_val 10.998675058625398 accuracy_validation: 0.154\n",
      "epochs:  8 loss_train:  10.978048315818967 accuracy_train: 0.15 loss_val 10.764068356643413 accuracy_validation: 0.168\n",
      "epochs:  9 loss_train:  10.81307792302868 accuracy_train: 0.162 loss_val 10.541199304745854 accuracy_validation: 0.189\n",
      "epochs:  10 loss_train:  10.652819822840689 accuracy_train: 0.174 loss_val 10.32002533302023 accuracy_validation: 0.201\n",
      "epochs:  11 loss_train:  10.485567009913536 accuracy_train: 0.181 loss_val 10.109307006020707 accuracy_validation: 0.218\n",
      "epochs:  12 loss_train:  10.31222880893734 accuracy_train: 0.194 loss_val 9.906131047095148 accuracy_validation: 0.23\n",
      "epochs:  13 loss_train:  10.144125511763306 accuracy_train: 0.202 loss_val 9.708289283565424 accuracy_validation: 0.241\n",
      "epochs:  14 loss_train:  9.979849913532558 accuracy_train: 0.212 loss_val 9.522134972379877 accuracy_validation: 0.251\n",
      "epochs:  15 loss_train:  9.818752372104571 accuracy_train: 0.22 loss_val 9.346932075910699 accuracy_validation: 0.268\n",
      "epochs:  16 loss_train:  9.649472805161455 accuracy_train: 0.234 loss_val 9.179566806837238 accuracy_validation: 0.277\n",
      "epochs:  17 loss_train:  9.473775363733148 accuracy_train: 0.247 loss_val 9.015740286696657 accuracy_validation: 0.288\n",
      "epochs:  18 loss_train:  9.300569745663827 accuracy_train: 0.262 loss_val 8.866285531487648 accuracy_validation: 0.297\n",
      "epochs:  19 loss_train:  9.133253117952702 accuracy_train: 0.277 loss_val 8.729481594150203 accuracy_validation: 0.302\n",
      "epochs:  20 loss_train:  8.969059060702222 accuracy_train: 0.287 loss_val 8.598147075719545 accuracy_validation: 0.314\n",
      "epochs:  21 loss_train:  8.813097014584974 accuracy_train: 0.299 loss_val 8.469520084577992 accuracy_validation: 0.317\n",
      "epochs:  22 loss_train:  8.657901398440949 accuracy_train: 0.311 loss_val 8.342610677136053 accuracy_validation: 0.33\n",
      "epochs:  23 loss_train:  8.500051303865286 accuracy_train: 0.316 loss_val 8.218450460467961 accuracy_validation: 0.339\n",
      "epochs:  24 loss_train:  8.339954183534228 accuracy_train: 0.325 loss_val 8.093181785400159 accuracy_validation: 0.346\n",
      "epochs:  25 loss_train:  8.178800797111316 accuracy_train: 0.338 loss_val 7.966252283733095 accuracy_validation: 0.359\n",
      "epochs:  26 loss_train:  8.020676728638225 accuracy_train: 0.345 loss_val 7.840529018746269 accuracy_validation: 0.364\n",
      "epochs:  27 loss_train:  7.871077685706275 accuracy_train: 0.356 loss_val 7.714896131034418 accuracy_validation: 0.371\n",
      "epochs:  28 loss_train:  7.733295252042939 accuracy_train: 0.364 loss_val 7.589385172593881 accuracy_validation: 0.377\n",
      "epochs:  29 loss_train:  7.605273274034356 accuracy_train: 0.376 loss_val 7.4665246283920865 accuracy_validation: 0.389\n",
      "epochs:  30 loss_train:  7.482386989956412 accuracy_train: 0.389 loss_val 7.347868587306665 accuracy_validation: 0.394\n",
      "epochs:  31 loss_train:  7.362768813493436 accuracy_train: 0.396 loss_val 7.232746792609526 accuracy_validation: 0.397\n",
      "epochs:  32 loss_train:  7.244802461960619 accuracy_train: 0.402 loss_val 7.120269639359335 accuracy_validation: 0.403\n",
      "epochs:  33 loss_train:  7.128033380912093 accuracy_train: 0.411 loss_val 7.010680573080202 accuracy_validation: 0.412\n",
      "epochs:  34 loss_train:  7.014581982022168 accuracy_train: 0.417 loss_val 6.904480837359678 accuracy_validation: 0.422\n",
      "epochs:  35 loss_train:  6.906527289392563 accuracy_train: 0.425 loss_val 6.802305036828022 accuracy_validation: 0.429\n",
      "epochs:  36 loss_train:  6.803689601877915 accuracy_train: 0.432 loss_val 6.703357316605789 accuracy_validation: 0.441\n",
      "epochs:  37 loss_train:  6.704653097320592 accuracy_train: 0.433 loss_val 6.607179503361813 accuracy_validation: 0.444\n",
      "epochs:  38 loss_train:  6.607882572105837 accuracy_train: 0.451 loss_val 6.514219769505599 accuracy_validation: 0.454\n",
      "epochs:  39 loss_train:  6.513888920485717 accuracy_train: 0.458 loss_val 6.424905566615485 accuracy_validation: 0.46\n",
      "epochs:  40 loss_train:  6.424530875876059 accuracy_train: 0.469 loss_val 6.337913008124039 accuracy_validation: 0.466\n",
      "epochs:  41 loss_train:  6.340367576312572 accuracy_train: 0.474 loss_val 6.251952450852591 accuracy_validation: 0.472\n",
      "epochs:  42 loss_train:  6.261185208935311 accuracy_train: 0.479 loss_val 6.166240316986287 accuracy_validation: 0.482\n",
      "epochs:  43 loss_train:  6.186403020005738 accuracy_train: 0.49 loss_val 6.079971266052643 accuracy_validation: 0.491\n",
      "epochs:  44 loss_train:  6.114747186569286 accuracy_train: 0.495 loss_val 5.992988563487976 accuracy_validation: 0.493\n",
      "epochs:  45 loss_train:  6.046277565080703 accuracy_train: 0.504 loss_val 5.9069788851395675 accuracy_validation: 0.498\n",
      "epochs:  46 loss_train:  5.980685832093738 accuracy_train: 0.506 loss_val 5.823182716073094 accuracy_validation: 0.503\n",
      "epochs:  47 loss_train:  5.917819957434809 accuracy_train: 0.511 loss_val 5.741630267467128 accuracy_validation: 0.507\n",
      "epochs:  48 loss_train:  5.857325140494051 accuracy_train: 0.516 loss_val 5.661718887207324 accuracy_validation: 0.511\n",
      "epochs:  49 loss_train:  5.798873327021763 accuracy_train: 0.519 loss_val 5.583547235953539 accuracy_validation: 0.513\n",
      "epochs:  50 loss_train:  5.741823998942093 accuracy_train: 0.523 loss_val 5.508366421060416 accuracy_validation: 0.523\n",
      "epochs:  51 loss_train:  5.685876812106595 accuracy_train: 0.528 loss_val 5.436598530281988 accuracy_validation: 0.529\n",
      "epochs:  52 loss_train:  5.6310194375751585 accuracy_train: 0.534 loss_val 5.3682391312539 accuracy_validation: 0.532\n",
      "epochs:  53 loss_train:  5.576933727948711 accuracy_train: 0.538 loss_val 5.302599740860611 accuracy_validation: 0.534\n",
      "epochs:  54 loss_train:  5.522717909266743 accuracy_train: 0.541 loss_val 5.2386792652018395 accuracy_validation: 0.539\n",
      "epochs:  55 loss_train:  5.46785269206864 accuracy_train: 0.543 loss_val 5.175578244884533 accuracy_validation: 0.542\n",
      "epochs:  56 loss_train:  5.412344132302951 accuracy_train: 0.547 loss_val 5.113069760452544 accuracy_validation: 0.547\n",
      "epochs:  57 loss_train:  5.356661574328652 accuracy_train: 0.554 loss_val 5.051531073786558 accuracy_validation: 0.553\n",
      "epochs:  58 loss_train:  5.301051048433429 accuracy_train: 0.557 loss_val 4.991475530834746 accuracy_validation: 0.562\n",
      "epochs:  59 loss_train:  5.245804973051696 accuracy_train: 0.561 loss_val 4.933572614640379 accuracy_validation: 0.568\n",
      "epochs:  60 loss_train:  5.1908935408791725 accuracy_train: 0.563 loss_val 4.877862193747013 accuracy_validation: 0.572\n",
      "epochs:  61 loss_train:  5.136190050992038 accuracy_train: 0.566 loss_val 4.8244381477192855 accuracy_validation: 0.578\n",
      "epochs:  62 loss_train:  5.081331585169534 accuracy_train: 0.566 loss_val 4.77280343055241 accuracy_validation: 0.585\n",
      "epochs:  63 loss_train:  5.026495946257268 accuracy_train: 0.569 loss_val 4.72252507543303 accuracy_validation: 0.588\n",
      "epochs:  64 loss_train:  4.972475185070885 accuracy_train: 0.572 loss_val 4.673400038116105 accuracy_validation: 0.591\n",
      "epochs:  65 loss_train:  4.920200562523455 accuracy_train: 0.574 loss_val 4.625391889886603 accuracy_validation: 0.592\n",
      "epochs:  66 loss_train:  4.8699937448425565 accuracy_train: 0.579 loss_val 4.578506398149908 accuracy_validation: 0.595\n",
      "epochs:  67 loss_train:  4.821224540782703 accuracy_train: 0.584 loss_val 4.53221504313646 accuracy_validation: 0.597\n",
      "epochs:  68 loss_train:  4.773533062940951 accuracy_train: 0.587 loss_val 4.4866183423380654 accuracy_validation: 0.603\n",
      "epochs:  69 loss_train:  4.726436572217596 accuracy_train: 0.588 loss_val 4.441297049274097 accuracy_validation: 0.607\n",
      "epochs:  70 loss_train:  4.67998833069087 accuracy_train: 0.59 loss_val 4.396121098812351 accuracy_validation: 0.609\n",
      "epochs:  71 loss_train:  4.633849276591471 accuracy_train: 0.595 loss_val 4.351078505367168 accuracy_validation: 0.616\n",
      "epochs:  72 loss_train:  4.587747254360191 accuracy_train: 0.602 loss_val 4.306227263182468 accuracy_validation: 0.618\n",
      "epochs:  73 loss_train:  4.541843313330797 accuracy_train: 0.607 loss_val 4.261734097048905 accuracy_validation: 0.624\n",
      "epochs:  74 loss_train:  4.496475559119559 accuracy_train: 0.608 loss_val 4.217995664089457 accuracy_validation: 0.625\n",
      "epochs:  75 loss_train:  4.451542099457349 accuracy_train: 0.611 loss_val 4.1747657094638155 accuracy_validation: 0.628\n",
      "epochs:  76 loss_train:  4.407035883629896 accuracy_train: 0.614 loss_val 4.132058078243714 accuracy_validation: 0.631\n",
      "epochs:  77 loss_train:  4.363123724749506 accuracy_train: 0.617 loss_val 4.089692344048698 accuracy_validation: 0.634\n",
      "epochs:  78 loss_train:  4.32029680101885 accuracy_train: 0.618 loss_val 4.047785957602637 accuracy_validation: 0.638\n",
      "epochs:  79 loss_train:  4.278697581470138 accuracy_train: 0.619 loss_val 4.006273961080431 accuracy_validation: 0.642\n",
      "epochs:  80 loss_train:  4.238423479362911 accuracy_train: 0.622 loss_val 3.9652725384824756 accuracy_validation: 0.641\n",
      "epochs:  81 loss_train:  4.199415284960055 accuracy_train: 0.627 loss_val 3.924889228960414 accuracy_validation: 0.642\n",
      "epochs:  82 loss_train:  4.1615189203693514 accuracy_train: 0.634 loss_val 3.8849195462076658 accuracy_validation: 0.642\n",
      "epochs:  83 loss_train:  4.124702898148192 accuracy_train: 0.635 loss_val 3.845433872949702 accuracy_validation: 0.647\n",
      "epochs:  84 loss_train:  4.088853442758454 accuracy_train: 0.638 loss_val 3.8068694966400916 accuracy_validation: 0.65\n",
      "epochs:  85 loss_train:  4.0538757078146155 accuracy_train: 0.641 loss_val 3.7695421171423464 accuracy_validation: 0.652\n",
      "epochs:  86 loss_train:  4.019523328594134 accuracy_train: 0.643 loss_val 3.7333334026633693 accuracy_validation: 0.653\n",
      "epochs:  87 loss_train:  3.9856488344743513 accuracy_train: 0.644 loss_val 3.6981852804257906 accuracy_validation: 0.656\n",
      "epochs:  88 loss_train:  3.9519810666073774 accuracy_train: 0.647 loss_val 3.663946864323642 accuracy_validation: 0.659\n",
      "epochs:  89 loss_train:  3.918317774075892 accuracy_train: 0.653 loss_val 3.630507693616648 accuracy_validation: 0.661\n",
      "epochs:  90 loss_train:  3.8846902862310575 accuracy_train: 0.658 loss_val 3.5978110517359747 accuracy_validation: 0.663\n",
      "epochs:  91 loss_train:  3.850971005562593 accuracy_train: 0.658 loss_val 3.5658001031130424 accuracy_validation: 0.664\n",
      "epochs:  92 loss_train:  3.81714899390326 accuracy_train: 0.661 loss_val 3.5343981092136345 accuracy_validation: 0.666\n",
      "epochs:  93 loss_train:  3.7832970800308576 accuracy_train: 0.663 loss_val 3.503506244552631 accuracy_validation: 0.668\n",
      "epochs:  94 loss_train:  3.7491551974966515 accuracy_train: 0.664 loss_val 3.4732606123453187 accuracy_validation: 0.672\n",
      "epochs:  95 loss_train:  3.7151514145606512 accuracy_train: 0.665 loss_val 3.4436625748253835 accuracy_validation: 0.674\n",
      "epochs:  96 loss_train:  3.6813542194735045 accuracy_train: 0.67 loss_val 3.414592304021002 accuracy_validation: 0.678\n",
      "epochs:  97 loss_train:  3.6479191275850593 accuracy_train: 0.67 loss_val 3.3860364666489042 accuracy_validation: 0.679\n",
      "epochs:  98 loss_train:  3.614837358022885 accuracy_train: 0.672 loss_val 3.358013183599632 accuracy_validation: 0.681\n",
      "epochs:  99 loss_train:  3.5820209531658955 accuracy_train: 0.673 loss_val 3.330476128569256 accuracy_validation: 0.685\n"
     ]
    }
   ],
   "source": [
    "model.train(x_train,y_train,x_validation,y_validation, batch_size = 64, epochs = 100)"
   ]
  },
  {
   "cell_type": "code",
   "execution_count": 4,
   "metadata": {},
   "outputs": [
    {
     "data": {
      "text/plain": [
       "(4.313796771384195, 0.6246)"
      ]
     },
     "execution_count": 4,
     "metadata": {},
     "output_type": "execute_result"
    }
   ],
   "source": [
    "model.test(x_test,y_test)"
   ]
  },
  {
   "cell_type": "code",
   "execution_count": 5,
   "metadata": {},
   "outputs": [
    {
     "name": "stdout",
     "output_type": "stream",
     "text": [
      "x_train:  (1000, 1, 28, 28)\n",
      "y_train:  (10, 1000)\n",
      "x_val:  (1000, 1, 28, 28)\n",
      "y_val:  (10, 1000)\n",
      "epochs:  0 loss_train:  3.549403130588621 accuracy_train: 0.675 loss_val 3.3033738006213116 accuracy_validation: 0.688\n",
      "epochs:  1 loss_train:  3.5169671669525315 accuracy_train: 0.676 loss_val 3.2767712447186153 accuracy_validation: 0.693\n",
      "epochs:  2 loss_train:  3.4846197872847817 accuracy_train: 0.677 loss_val 3.250870223571909 accuracy_validation: 0.692\n",
      "epochs:  3 loss_train:  3.452442182848193 accuracy_train: 0.679 loss_val 3.2256395484873663 accuracy_validation: 0.694\n",
      "epochs:  4 loss_train:  3.42043720341697 accuracy_train: 0.686 loss_val 3.2011125868980232 accuracy_validation: 0.698\n",
      "epochs:  5 loss_train:  3.388809575768997 accuracy_train: 0.687 loss_val 3.177206758807205 accuracy_validation: 0.699\n",
      "epochs:  6 loss_train:  3.3575125921001665 accuracy_train: 0.689 loss_val 3.153844344339591 accuracy_validation: 0.699\n",
      "epochs:  7 loss_train:  3.3266468776041407 accuracy_train: 0.691 loss_val 3.1309869897501046 accuracy_validation: 0.702\n",
      "epochs:  8 loss_train:  3.296093667337395 accuracy_train: 0.696 loss_val 3.108652629900578 accuracy_validation: 0.703\n",
      "epochs:  9 loss_train:  3.265849349916276 accuracy_train: 0.698 loss_val 3.08686508738884 accuracy_validation: 0.705\n",
      "epochs:  10 loss_train:  3.2360584765469453 accuracy_train: 0.704 loss_val 3.0656536389646583 accuracy_validation: 0.708\n",
      "epochs:  11 loss_train:  3.2066820028749334 accuracy_train: 0.707 loss_val 3.045067000922506 accuracy_validation: 0.712\n",
      "epochs:  12 loss_train:  3.1777105056212194 accuracy_train: 0.71 loss_val 3.025073917156882 accuracy_validation: 0.714\n",
      "epochs:  13 loss_train:  3.149206180032346 accuracy_train: 0.712 loss_val 3.005629448682809 accuracy_validation: 0.716\n",
      "epochs:  14 loss_train:  3.1212262818823517 accuracy_train: 0.714 loss_val 2.986702372498495 accuracy_validation: 0.718\n",
      "epochs:  15 loss_train:  3.0938643660879395 accuracy_train: 0.716 loss_val 2.968192230804313 accuracy_validation: 0.718\n",
      "epochs:  16 loss_train:  3.067170487376416 accuracy_train: 0.717 loss_val 2.950110105218307 accuracy_validation: 0.719\n",
      "epochs:  17 loss_train:  3.041181733240729 accuracy_train: 0.718 loss_val 2.932438799125593 accuracy_validation: 0.721\n",
      "epochs:  18 loss_train:  3.0158274013122996 accuracy_train: 0.719 loss_val 2.9152062237766003 accuracy_validation: 0.724\n",
      "epochs:  19 loss_train:  2.9910183454760744 accuracy_train: 0.722 loss_val 2.898413629844429 accuracy_validation: 0.725\n",
      "epochs:  20 loss_train:  2.9667851106343015 accuracy_train: 0.722 loss_val 2.882066781135642 accuracy_validation: 0.726\n",
      "epochs:  21 loss_train:  2.943106458539514 accuracy_train: 0.723 loss_val 2.8662329756085674 accuracy_validation: 0.729\n",
      "epochs:  22 loss_train:  2.9199909716262966 accuracy_train: 0.723 loss_val 2.850890377009141 accuracy_validation: 0.731\n",
      "epochs:  23 loss_train:  2.897379207703257 accuracy_train: 0.727 loss_val 2.8360596309600545 accuracy_validation: 0.732\n",
      "epochs:  24 loss_train:  2.875264641808677 accuracy_train: 0.73 loss_val 2.821849041841726 accuracy_validation: 0.737\n",
      "epochs:  25 loss_train:  2.8536677875385354 accuracy_train: 0.733 loss_val 2.8081028548977045 accuracy_validation: 0.738\n",
      "epochs:  26 loss_train:  2.8325915825163683 accuracy_train: 0.734 loss_val 2.79475423201244 accuracy_validation: 0.739\n",
      "epochs:  27 loss_train:  2.812002289449011 accuracy_train: 0.738 loss_val 2.7817710979065016 accuracy_validation: 0.74\n",
      "epochs:  28 loss_train:  2.7919402377131575 accuracy_train: 0.738 loss_val 2.7691905404246233 accuracy_validation: 0.742\n",
      "epochs:  29 loss_train:  2.7724323436249643 accuracy_train: 0.74 loss_val 2.75697513777892 accuracy_validation: 0.742\n",
      "epochs:  30 loss_train:  2.753432288267616 accuracy_train: 0.741 loss_val 2.745073603391206 accuracy_validation: 0.744\n",
      "epochs:  31 loss_train:  2.734894300755431 accuracy_train: 0.741 loss_val 2.733440936488549 accuracy_validation: 0.746\n",
      "epochs:  32 loss_train:  2.7167974686756526 accuracy_train: 0.743 loss_val 2.7221277460063713 accuracy_validation: 0.747\n",
      "epochs:  33 loss_train:  2.699111792979291 accuracy_train: 0.746 loss_val 2.711045802869117 accuracy_validation: 0.749\n",
      "epochs:  34 loss_train:  2.6817763620527293 accuracy_train: 0.747 loss_val 2.700219918751156 accuracy_validation: 0.749\n",
      "epochs:  35 loss_train:  2.664756115545101 accuracy_train: 0.748 loss_val 2.6895849808655843 accuracy_validation: 0.75\n",
      "epochs:  36 loss_train:  2.648060938774798 accuracy_train: 0.749 loss_val 2.6791279454891592 accuracy_validation: 0.75\n",
      "epochs:  37 loss_train:  2.6316281624337816 accuracy_train: 0.752 loss_val 2.668941432573117 accuracy_validation: 0.751\n",
      "epochs:  38 loss_train:  2.6154642113865156 accuracy_train: 0.754 loss_val 2.6589875193222277 accuracy_validation: 0.753\n",
      "epochs:  39 loss_train:  2.5995586611849806 accuracy_train: 0.755 loss_val 2.649247944943441 accuracy_validation: 0.753\n",
      "epochs:  40 loss_train:  2.583915594109916 accuracy_train: 0.757 loss_val 2.6396829974856697 accuracy_validation: 0.755\n",
      "epochs:  41 loss_train:  2.5685404716971316 accuracy_train: 0.757 loss_val 2.6302830653069296 accuracy_validation: 0.756\n",
      "epochs:  42 loss_train:  2.5534296167309645 accuracy_train: 0.759 loss_val 2.621064999895619 accuracy_validation: 0.756\n",
      "epochs:  43 loss_train:  2.5385778336009803 accuracy_train: 0.76 loss_val 2.6120110090117516 accuracy_validation: 0.756\n",
      "epochs:  44 loss_train:  2.523958839405126 accuracy_train: 0.761 loss_val 2.6031359582537688 accuracy_validation: 0.757\n",
      "epochs:  45 loss_train:  2.50956727925051 accuracy_train: 0.762 loss_val 2.594417549606177 accuracy_validation: 0.759\n",
      "epochs:  46 loss_train:  2.4953985678019714 accuracy_train: 0.764 loss_val 2.585795984392417 accuracy_validation: 0.76\n",
      "epochs:  47 loss_train:  2.4814312098349767 accuracy_train: 0.764 loss_val 2.5772816960460947 accuracy_validation: 0.762\n",
      "epochs:  48 loss_train:  2.4676336207050147 accuracy_train: 0.765 loss_val 2.5688587772350537 accuracy_validation: 0.762\n",
      "epochs:  49 loss_train:  2.453947150506065 accuracy_train: 0.765 loss_val 2.5605547370859476 accuracy_validation: 0.762\n",
      "epochs:  50 loss_train:  2.440422521660024 accuracy_train: 0.766 loss_val 2.5523441782555074 accuracy_validation: 0.762\n",
      "epochs:  51 loss_train:  2.4270459378796487 accuracy_train: 0.768 loss_val 2.544217061156504 accuracy_validation: 0.763\n",
      "epochs:  52 loss_train:  2.4138096106708127 accuracy_train: 0.77 loss_val 2.5361769726481542 accuracy_validation: 0.762\n",
      "epochs:  53 loss_train:  2.400720658568184 accuracy_train: 0.771 loss_val 2.5281983483358386 accuracy_validation: 0.764\n",
      "epochs:  54 loss_train:  2.38777763708183 accuracy_train: 0.773 loss_val 2.5203133160316957 accuracy_validation: 0.764\n",
      "epochs:  55 loss_train:  2.3750091203328223 accuracy_train: 0.776 loss_val 2.5125325766756537 accuracy_validation: 0.765\n",
      "epochs:  56 loss_train:  2.3624209512039505 accuracy_train: 0.776 loss_val 2.5048501487890515 accuracy_validation: 0.766\n",
      "epochs:  57 loss_train:  2.3500078184142286 accuracy_train: 0.776 loss_val 2.497285099801364 accuracy_validation: 0.768\n",
      "epochs:  58 loss_train:  2.337753333544595 accuracy_train: 0.776 loss_val 2.4898248859981402 accuracy_validation: 0.769\n",
      "epochs:  59 loss_train:  2.325650715576026 accuracy_train: 0.776 loss_val 2.482467141884551 accuracy_validation: 0.769\n",
      "epochs:  60 loss_train:  2.3137017424340693 accuracy_train: 0.778 loss_val 2.4752082747155644 accuracy_validation: 0.769\n",
      "epochs:  61 loss_train:  2.3018892240766395 accuracy_train: 0.779 loss_val 2.4680588292112633 accuracy_validation: 0.77\n",
      "epochs:  62 loss_train:  2.2902121196910254 accuracy_train: 0.78 loss_val 2.4610085445135748 accuracy_validation: 0.77\n",
      "epochs:  63 loss_train:  2.278666484586858 accuracy_train: 0.782 loss_val 2.4540750705436003 accuracy_validation: 0.77\n",
      "epochs:  64 loss_train:  2.267259445706669 accuracy_train: 0.784 loss_val 2.4472336745439947 accuracy_validation: 0.773\n",
      "epochs:  65 loss_train:  2.256010663737449 accuracy_train: 0.785 loss_val 2.4404937870236143 accuracy_validation: 0.774\n",
      "epochs:  66 loss_train:  2.244907988583336 accuracy_train: 0.785 loss_val 2.4338864527990203 accuracy_validation: 0.774\n",
      "epochs:  67 loss_train:  2.2339378937376386 accuracy_train: 0.785 loss_val 2.427424260015321 accuracy_validation: 0.774\n",
      "epochs:  68 loss_train:  2.2231093053729305 accuracy_train: 0.786 loss_val 2.421071492865369 accuracy_validation: 0.775\n",
      "epochs:  69 loss_train:  2.212420364615804 accuracy_train: 0.787 loss_val 2.4148305928985985 accuracy_validation: 0.776\n",
      "epochs:  70 loss_train:  2.201853644634776 accuracy_train: 0.788 loss_val 2.4086885136845066 accuracy_validation: 0.776\n",
      "epochs:  71 loss_train:  2.1914580651257967 accuracy_train: 0.788 loss_val 2.4026892062928136 accuracy_validation: 0.776\n",
      "epochs:  72 loss_train:  2.181218463573683 accuracy_train: 0.789 loss_val 2.396833671034683 accuracy_validation: 0.779\n",
      "epochs:  73 loss_train:  2.1711185188215145 accuracy_train: 0.789 loss_val 2.391075744844261 accuracy_validation: 0.779\n",
      "epochs:  74 loss_train:  2.1611392918666676 accuracy_train: 0.791 loss_val 2.3854224768238614 accuracy_validation: 0.779\n",
      "epochs:  75 loss_train:  2.151268649134318 accuracy_train: 0.793 loss_val 2.3797829570430085 accuracy_validation: 0.78\n",
      "epochs:  76 loss_train:  2.1415023527041233 accuracy_train: 0.793 loss_val 2.3742483783738044 accuracy_validation: 0.779\n",
      "epochs:  77 loss_train:  2.1318054779361053 accuracy_train: 0.793 loss_val 2.368820168339854 accuracy_validation: 0.778\n",
      "epochs:  78 loss_train:  2.122228947876687 accuracy_train: 0.797 loss_val 2.363514690558983 accuracy_validation: 0.777\n",
      "epochs:  79 loss_train:  2.1127790079224935 accuracy_train: 0.799 loss_val 2.358317063802178 accuracy_validation: 0.778\n",
      "epochs:  80 loss_train:  2.1034471804740806 accuracy_train: 0.802 loss_val 2.35308598802875 accuracy_validation: 0.779\n",
      "epochs:  81 loss_train:  2.0941997630499603 accuracy_train: 0.803 loss_val 2.347963453643747 accuracy_validation: 0.779\n",
      "epochs:  82 loss_train:  2.0850367330317368 accuracy_train: 0.803 loss_val 2.342933175584731 accuracy_validation: 0.78\n",
      "epochs:  83 loss_train:  2.0759534282688827 accuracy_train: 0.804 loss_val 2.3379665072515947 accuracy_validation: 0.781\n",
      "epochs:  84 loss_train:  2.0669303161670824 accuracy_train: 0.804 loss_val 2.333058260160495 accuracy_validation: 0.781\n",
      "epochs:  85 loss_train:  2.0579512382496814 accuracy_train: 0.805 loss_val 2.328226689143951 accuracy_validation: 0.781\n",
      "epochs:  86 loss_train:  2.0490527072296034 accuracy_train: 0.805 loss_val 2.323433649621553 accuracy_validation: 0.78\n",
      "epochs:  87 loss_train:  2.040243896343345 accuracy_train: 0.807 loss_val 2.3187109650272584 accuracy_validation: 0.781\n",
      "epochs:  88 loss_train:  2.0315393450085515 accuracy_train: 0.807 loss_val 2.3140032414502305 accuracy_validation: 0.782\n",
      "epochs:  89 loss_train:  2.0229214880906308 accuracy_train: 0.807 loss_val 2.309353464106165 accuracy_validation: 0.782\n",
      "epochs:  90 loss_train:  2.0143878210880537 accuracy_train: 0.808 loss_val 2.304735460203561 accuracy_validation: 0.783\n",
      "epochs:  91 loss_train:  2.0059349664995563 accuracy_train: 0.808 loss_val 2.3001669175144497 accuracy_validation: 0.783\n",
      "epochs:  92 loss_train:  1.9975304070643172 accuracy_train: 0.81 loss_val 2.2956515708055294 accuracy_validation: 0.783\n",
      "epochs:  93 loss_train:  1.9892156380424906 accuracy_train: 0.81 loss_val 2.2911779517842588 accuracy_validation: 0.783\n",
      "epochs:  94 loss_train:  1.98096938238909 accuracy_train: 0.811 loss_val 2.2867265644464316 accuracy_validation: 0.783\n",
      "epochs:  95 loss_train:  1.9728020031786937 accuracy_train: 0.81 loss_val 2.2823106669415245 accuracy_validation: 0.783\n",
      "epochs:  96 loss_train:  1.964718393059444 accuracy_train: 0.81 loss_val 2.2779497389289163 accuracy_validation: 0.784\n",
      "epochs:  97 loss_train:  1.956731527469939 accuracy_train: 0.811 loss_val 2.273518900889566 accuracy_validation: 0.785\n",
      "epochs:  98 loss_train:  1.948811621537502 accuracy_train: 0.811 loss_val 2.2690562846717235 accuracy_validation: 0.785\n",
      "epochs:  99 loss_train:  1.9409599826897588 accuracy_train: 0.812 loss_val 2.2646459022472176 accuracy_validation: 0.786\n"
     ]
    }
   ],
   "source": [
    "model.train(x_train,y_train,x_validation,y_validation, batch_size = 64, epochs = 100)"
   ]
  },
  {
   "cell_type": "code",
   "execution_count": 7,
   "metadata": {},
   "outputs": [
    {
     "data": {
      "text/plain": [
       "(3.1477497652898787, 0.7179)"
      ]
     },
     "execution_count": 7,
     "metadata": {},
     "output_type": "execute_result"
    }
   ],
   "source": [
    "model.test(x_test,y_test)"
   ]
  },
  {
   "cell_type": "code",
   "execution_count": 8,
   "metadata": {},
   "outputs": [
    {
     "name": "stdout",
     "output_type": "stream",
     "text": [
      "x_train:  (1000, 1, 28, 28)\n",
      "y_train:  (10, 1000)\n",
      "x_val:  (1000, 1, 28, 28)\n",
      "y_val:  (10, 1000)\n",
      "epochs:  0 loss_train:  1.9331792147765656 accuracy_train: 0.811 loss_val 2.260230194697489 accuracy_validation: 0.787\n",
      "epochs:  1 loss_train:  1.9254632849210023 accuracy_train: 0.811 loss_val 2.2557782981832535 accuracy_validation: 0.787\n",
      "epochs:  2 loss_train:  1.9178005908193285 accuracy_train: 0.811 loss_val 2.2513119072636223 accuracy_validation: 0.787\n",
      "epochs:  3 loss_train:  1.9101860779216182 accuracy_train: 0.812 loss_val 2.2468392087256315 accuracy_validation: 0.787\n",
      "epochs:  4 loss_train:  1.9026203171309553 accuracy_train: 0.813 loss_val 2.242431212955219 accuracy_validation: 0.787\n",
      "epochs:  5 loss_train:  1.8950901931704236 accuracy_train: 0.813 loss_val 2.2380229481021705 accuracy_validation: 0.787\n",
      "epochs:  6 loss_train:  1.8875995268971646 accuracy_train: 0.814 loss_val 2.233581964347464 accuracy_validation: 0.787\n",
      "epochs:  7 loss_train:  1.8801672221956982 accuracy_train: 0.814 loss_val 2.2291497039822494 accuracy_validation: 0.788\n",
      "epochs:  8 loss_train:  1.8727775140889797 accuracy_train: 0.815 loss_val 2.2246710562176792 accuracy_validation: 0.788\n",
      "epochs:  9 loss_train:  1.8654370659344044 accuracy_train: 0.817 loss_val 2.220208127346321 accuracy_validation: 0.788\n"
     ]
    }
   ],
   "source": [
    "model.train(x_train,y_train,x_validation,y_validation, batch_size = 64, epochs = 10)"
   ]
  },
  {
   "cell_type": "code",
   "execution_count": 9,
   "metadata": {},
   "outputs": [
    {
     "data": {
      "text/plain": [
       "(3.094035373672323, 0.7219)"
      ]
     },
     "execution_count": 9,
     "metadata": {},
     "output_type": "execute_result"
    }
   ],
   "source": [
    "model.test(x_test,y_test)"
   ]
  },
  {
   "cell_type": "code",
   "execution_count": 10,
   "metadata": {},
   "outputs": [
    {
     "name": "stdout",
     "output_type": "stream",
     "text": [
      "x_train:  (1000, 1, 28, 28)\n",
      "y_train:  (10, 1000)\n",
      "x_val:  (1000, 1, 28, 28)\n",
      "y_val:  (10, 1000)\n",
      "epochs:  0 loss_train:  1.8581251081197863 accuracy_train: 0.817 loss_val 2.215828912607686 accuracy_validation: 0.787\n",
      "epochs:  1 loss_train:  1.8508285173898065 accuracy_train: 0.817 loss_val 2.2114493140827824 accuracy_validation: 0.787\n",
      "epochs:  2 loss_train:  1.843582525425278 accuracy_train: 0.818 loss_val 2.2071310379076587 accuracy_validation: 0.787\n",
      "epochs:  3 loss_train:  1.8363829209714144 accuracy_train: 0.818 loss_val 2.202860929217538 accuracy_validation: 0.787\n",
      "epochs:  4 loss_train:  1.8292290213378366 accuracy_train: 0.819 loss_val 2.198582763958567 accuracy_validation: 0.788\n",
      "epochs:  5 loss_train:  1.8221197576097214 accuracy_train: 0.819 loss_val 2.1943666064605445 accuracy_validation: 0.788\n",
      "epochs:  6 loss_train:  1.8150487405575264 accuracy_train: 0.819 loss_val 2.190177244608541 accuracy_validation: 0.788\n",
      "epochs:  7 loss_train:  1.808016468341993 accuracy_train: 0.82 loss_val 2.1860038735725444 accuracy_validation: 0.787\n",
      "epochs:  8 loss_train:  1.801021563595841 accuracy_train: 0.821 loss_val 2.1818765479161844 accuracy_validation: 0.787\n",
      "epochs:  9 loss_train:  1.7940652295898545 accuracy_train: 0.821 loss_val 2.1778035450573343 accuracy_validation: 0.787\n"
     ]
    },
    {
     "data": {
      "text/plain": [
       "(3.0433446927258547, 0.7256)"
      ]
     },
     "execution_count": 10,
     "metadata": {},
     "output_type": "execute_result"
    }
   ],
   "source": [
    "model.train(x_train,y_train,x_validation,y_validation, batch_size = 64, epochs = 10)\n",
    "model.test(x_test,y_test)"
   ]
  },
  {
   "cell_type": "code",
   "execution_count": 2,
   "metadata": {},
   "outputs": [
    {
     "name": "stdout",
     "output_type": "stream",
     "text": [
      "x_train:  (1000, 1, 28, 28)\n",
      "y_train:  (10, 1000)\n",
      "x_val:  (1000, 1, 28, 28)\n",
      "y_val:  (10, 1000)\n",
      "epochs:  0 loss_train:  11.588593389150494 accuracy_train: 0.122 loss_val 11.658787535810314 accuracy_validation: 0.126\n",
      "epochs:  5 loss_train:  11.112333027061355 accuracy_train: 0.125 loss_val 11.173387079583925 accuracy_validation: 0.12\n",
      "epochs:  10 loss_train:  10.745598203053545 accuracy_train: 0.136 loss_val 10.828187279182114 accuracy_validation: 0.133\n",
      "epochs:  15 loss_train:  10.478682669548487 accuracy_train: 0.139 loss_val 10.543207302760868 accuracy_validation: 0.151\n"
     ]
    }
   ],
   "source": [
    "CNN1 = Convolutional(input_shape = (1,28,28), kernel_size = 3, output_depth = 4, l_rate = 0.01, activeFuncion = \"relu\")\n",
    "pool1 = MaxPoolingLayer(2)\n",
    "CNN2 = Convolutional(input_shape = (4,13,13), kernel_size = 3,output_depth = 8, l_rate = 0.01, activeFuncion = \"relu\")\n",
    "pool2 = MaxPoolingLayer(2)\n",
    "flatten = Flattening()\n",
    "nn = NeuralNetwork(layers_size=[288,10],activations = [\"softmax\"], lossFunction = \"crossEntropy\", l_rate = 0.01) # 8*6*6 = 288\n",
    "\n",
    "\n",
    "model = Model([CNN1,pool1,CNN2,pool2, flatten,nn])\n",
    "model.train(x_train,y_train,x_validation,y_validation, batch_size = 64, epochs = 100)\n",
    "model.test(x_test,y_test)"
   ]
  },
  {
   "cell_type": "code",
   "execution_count": 1,
   "metadata": {},
   "outputs": [
    {
     "name": "stdout",
     "output_type": "stream",
     "text": [
      "(1000, 3, 32, 32) (10, 1000)\n",
      "(1000, 3, 32, 32) (10, 1000)\n",
      "(10000, 3, 32, 32) (10, 10000)\n"
     ]
    }
   ],
   "source": [
    "from MLP_autograd import *\n",
    "from CNN_autograd import *\n",
    "from keras.datasets import cifar10\n",
    "(x_train,y_train),(x_test,y_test) = cifar10.load_data()\n",
    "x_train = x_train.transpose(0, 3, 1, 2)\n",
    "x_test = x_test.transpose(0, 3, 1, 2)\n",
    "def one_hot(Y):\n",
    "  one_hot_Y = np.zeros((Y.size,np.max(Y) + 1))\n",
    "  one_hot_Y[np.arange(Y.size),Y] = 1\n",
    "  one_hot_Y = one_hot_Y.T\n",
    "  return one_hot_Y\n",
    "\n",
    "\n",
    "y_train = one_hot(y_train.T)\n",
    "y_test = one_hot(y_test)\n",
    "x_train = x_train/255\n",
    "x_test = x_test/255\n",
    "x_validation = x_train[49000:50000]\n",
    "y_validation = y_train[:,49000:50000]\n",
    "x_train = x_train[0:1000]\n",
    "y_train = y_train[:,0:1000]\n",
    "\n",
    "\n",
    "\n",
    "\n",
    "print(x_train.shape,y_train.shape)\n",
    "print(x_validation.shape,y_validation.shape)\n",
    "print(x_test.shape,y_test.shape)"
   ]
  },
  {
   "cell_type": "code",
   "execution_count": 2,
   "metadata": {},
   "outputs": [
    {
     "name": "stdout",
     "output_type": "stream",
     "text": [
      "x_train:  (1000, 3, 32, 32)\n",
      "y_train:  (10, 1000)\n",
      "x_val:  (1000, 3, 32, 32)\n",
      "y_val:  (10, 1000)\n",
      "epochs:  0 loss_train:  12.291965619472151 accuracy_train: 0.107 loss_val 12.29174884391351 accuracy_validation: 0.106\n",
      "epochs:  1 loss_train:  12.109835478963124 accuracy_train: 0.117 loss_val 12.078083238526592 accuracy_validation: 0.123\n",
      "epochs:  2 loss_train:  11.988507802077523 accuracy_train: 0.126 loss_val 11.92451193968215 accuracy_validation: 0.129\n",
      "epochs:  3 loss_train:  11.894082266906269 accuracy_train: 0.13 loss_val 11.65877218978776 accuracy_validation: 0.149\n",
      "epochs:  4 loss_train:  11.747466984982028 accuracy_train: 0.142 loss_val 11.46652843140906 accuracy_validation: 0.162\n",
      "epochs:  5 loss_train:  11.47437328251141 accuracy_train: 0.158 loss_val 11.415662329208265 accuracy_validation: 0.165\n",
      "epochs:  6 loss_train:  11.499892598977373 accuracy_train: 0.159 loss_val 11.333385241160986 accuracy_validation: 0.162\n",
      "epochs:  7 loss_train:  11.603013792870852 accuracy_train: 0.151 loss_val 11.358398496075083 accuracy_validation: 0.166\n",
      "epochs:  8 loss_train:  11.526490353404474 accuracy_train: 0.153 loss_val 11.327913724636899 accuracy_validation: 0.169\n",
      "epochs:  9 loss_train:  11.532762656031228 accuracy_train: 0.156 loss_val 11.288593297016277 accuracy_validation: 0.172\n",
      "epochs:  10 loss_train:  11.465973079953843 accuracy_train: 0.154 loss_val 11.234558921729436 accuracy_validation: 0.171\n",
      "epochs:  11 loss_train:  11.412043775803518 accuracy_train: 0.16 loss_val 11.24956222740495 accuracy_validation: 0.169\n",
      "epochs:  12 loss_train:  11.318841246494427 accuracy_train: 0.167 loss_val 11.250566554274974 accuracy_validation: 0.167\n",
      "epochs:  13 loss_train:  11.23221920817127 accuracy_train: 0.175 loss_val 11.148653851755514 accuracy_validation: 0.181\n",
      "epochs:  14 loss_train:  11.247227921614751 accuracy_train: 0.171 loss_val 11.209608689024122 accuracy_validation: 0.176\n"
     ]
    }
   ],
   "source": [
    "CNN1 = Convolutional(input_shape = (3,32,32), kernel_size = 3, output_depth = 8, l_rate = 1, activeFuncion = \"relu\")\n",
    "pool1 = MaxPoolingLayer(2)\n",
    "CNN2 = Convolutional(input_shape = (8,15,15), kernel_size = 3,output_depth = 16, l_rate = 1, activeFuncion = \"relu\")\n",
    "pool2 = MaxPoolingLayer(2)\n",
    "flatten = Flattening()\n",
    "nn = NeuralNetwork(layers_size=[784,128,10],activations = [\"relu\",\"softmax\"], lossFunction = \"crossEntropy\", l_rate = 1) # 16*7*7 = 784\n",
    "\n",
    "\n",
    "model = Model([CNN1,pool1,CNN2,pool2, flatten,nn])\n",
    "model.train(x_train,y_train,x_validation,y_validation, batch_size = 64, epochs = 100)\n",
    "model.test(x_test,y_test)\n"
   ]
  }
 ],
 "metadata": {
  "kernelspec": {
   "display_name": "Python 3",
   "language": "python",
   "name": "python3"
  },
  "language_info": {
   "codemirror_mode": {
    "name": "ipython",
    "version": 3
   },
   "file_extension": ".py",
   "mimetype": "text/x-python",
   "name": "python",
   "nbconvert_exporter": "python",
   "pygments_lexer": "ipython3",
   "version": "3.11.9"
  }
 },
 "nbformat": 4,
 "nbformat_minor": 2
}
