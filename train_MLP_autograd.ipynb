{
 "cells": [
  {
   "cell_type": "code",
   "execution_count": 1,
   "metadata": {},
   "outputs": [
    {
     "name": "stdout",
     "output_type": "stream",
     "text": [
      "(784, 54000) (10, 54000)\n",
      "(784, 10000) (10, 10000)\n",
      "(784, 6000) (10, 6000)\n"
     ]
    }
   ],
   "source": [
    "from MLP_autograd import *\n",
    "from keras.datasets import mnist\n",
    "(x_train,y_train),(x_test,y_test) = mnist.load_data()\n",
    "\n",
    "x_train = x_train /255.0\n",
    "x_test = x_test /255.0\n",
    "x_validation = x_train[:6000]\n",
    "y_validation = y_train[:6000]\n",
    "x_train = x_train[6000:]\n",
    "y_train = y_train[6000:]\n",
    "\n",
    "x_validation = x_validation.reshape(x_validation.shape[0],-1).T\n",
    "x_train = x_train.reshape(x_train.shape[0],-1).T\n",
    "x_test = x_test.reshape(x_test.shape[0],-1).T\n",
    "\n",
    "\n",
    "def one_hot(Y):\n",
    "  one_hot_Y = np.zeros((Y.size,np.max(Y) + 1))\n",
    "  one_hot_Y[np.arange(Y.size),Y] = 1\n",
    "  one_hot_Y = one_hot_Y.T\n",
    "  return one_hot_Y\n",
    "\n",
    "y_train = one_hot(y_train)\n",
    "y_validation = one_hot(y_validation)\n",
    "y_test = one_hot(y_test)\n",
    "\n",
    "\n",
    "\n",
    "\n",
    "print(x_train.shape,y_train.shape)\n",
    "print(x_test.shape,y_test.shape)\n",
    "print(x_validation.shape,y_validation.shape)\n"
   ]
  },
  {
   "cell_type": "code",
   "execution_count": 3,
   "metadata": {},
   "outputs": [
    {
     "name": "stdout",
     "output_type": "stream",
     "text": [
      "0 loss:  9.802128351441215 Accuracy train:  0.1796875 Accuracy validation:  0.16716666666666666\n",
      "100 loss:  0.7044746910144952 Accuracy train:  0.84375 Accuracy validation:  0.796\n",
      "200 loss:  0.5643733690393936 Accuracy train:  0.875 Accuracy validation:  0.8376666666666667\n",
      "300 loss:  0.49788090248437256 Accuracy train:  0.890625 Accuracy validation:  0.8565\n",
      "400 loss:  0.4538832499098132 Accuracy train:  0.890625 Accuracy validation:  0.8688333333333333\n",
      "500 loss:  0.4231015758400817 Accuracy train:  0.8984375 Accuracy validation:  0.8753333333333333\n",
      "600 loss:  0.40037424083122214 Accuracy train:  0.890625 Accuracy validation:  0.8806666666666667\n",
      "700 loss:  0.3826213190690768 Accuracy train:  0.890625 Accuracy validation:  0.8841666666666667\n",
      "800 loss:  0.36806859626716093 Accuracy train:  0.890625 Accuracy validation:  0.8863333333333333\n",
      "900 loss:  0.3557236074649524 Accuracy train:  0.8984375 Accuracy validation:  0.8875\n",
      "1000 loss:  0.34500344065222716 Accuracy train:  0.8984375 Accuracy validation:  0.8893333333333333\n"
     ]
    },
    {
     "data": {
      "text/plain": [
       "0.887"
      ]
     },
     "execution_count": 3,
     "metadata": {},
     "output_type": "execute_result"
    }
   ],
   "source": [
    "nn = NeuralNetwork(layers_size=[28*28, 10],activations = [\"softmax\"],lossFunction = \"crossEntropy\", l_rate=0.01)\n",
    "nn.train(x_train, y_train, x_validation, y_validation, epochs=1001, batch_size=128)\n",
    "nn.test(x_test,y_test)"
   ]
  },
  {
   "cell_type": "code",
   "execution_count": null,
   "metadata": {},
   "outputs": [
    {
     "name": "stdout",
     "output_type": "stream",
     "text": [
      "0 loss:  11.856681578703316 Accuracy train:  0.1171875 Accuracy validation:  0.09366666666666666\n",
      "100 loss:  0.38365572380026924 Accuracy train:  0.90625 Accuracy validation:  0.8536666666666667\n",
      "200 loss:  0.2486834914401742 Accuracy train:  0.9140625 Accuracy validation:  0.8748333333333334\n",
      "300 loss:  0.20402150429776414 Accuracy train:  0.9296875 Accuracy validation:  0.8911666666666667\n",
      "400 loss:  0.18346819841370804 Accuracy train:  0.9375 Accuracy validation:  0.9011666666666667\n",
      "500 loss:  0.16863833517741808 Accuracy train:  0.9453125 Accuracy validation:  0.9061666666666667\n",
      "600 loss:  0.15848557241656622 Accuracy train:  0.9453125 Accuracy validation:  0.909\n",
      "700 loss:  0.15087728611567436 Accuracy train:  0.96875 Accuracy validation:  0.9111666666666667\n",
      "800 loss:  0.14337352770229825 Accuracy train:  0.96875 Accuracy validation:  0.9133333333333333\n",
      "900 loss:  0.1367786115418952 Accuracy train:  0.96875 Accuracy validation:  0.9155\n",
      "1000 loss:  0.13102776850529285 Accuracy train:  0.96875 Accuracy validation:  0.9176666666666666\n"
     ]
    },
    {
     "data": {
      "text/plain": [
       "0.9201"
      ]
     },
     "execution_count": 7,
     "metadata": {},
     "output_type": "execute_result"
    }
   ],
   "source": [
    "nn = NeuralNetwork(layers_size=[28*28,64, 10],activations = [\"relu\", \"softmax\"],lossFunction = \"crossEntropy\", l_rate=0.01)\n",
    "nn.train(x_train, y_train,x_validation, y_validation, epochs=1001,batch_size = 128)\n",
    "nn.test(x_test,y_test)"
   ]
  },
  {
   "cell_type": "code",
   "execution_count": null,
   "metadata": {},
   "outputs": [
    {
     "name": "stdout",
     "output_type": "stream",
     "text": [
      "0 loss:  12.344528380798117 Accuracy train:  0.09375 Accuracy validation:  0.11966666666666667\n",
      "100 loss:  0.09218741574333832 Accuracy train:  0.9609375 Accuracy validation:  0.9296666666666666\n",
      "200 loss:  0.04942720075848736 Accuracy train:  0.9921875 Accuracy validation:  0.9386666666666666\n",
      "300 loss:  0.030681250679184875 Accuracy train:  1.0 Accuracy validation:  0.9428333333333333\n",
      "400 loss:  0.021408195183310656 Accuracy train:  1.0 Accuracy validation:  0.9445\n",
      "500 loss:  0.014634390004557818 Accuracy train:  1.0 Accuracy validation:  0.9463333333333334\n",
      "600 loss:  0.010290391398576074 Accuracy train:  1.0 Accuracy validation:  0.9468333333333333\n",
      "700 loss:  0.007967432671558632 Accuracy train:  1.0 Accuracy validation:  0.9485\n",
      "800 loss:  0.006372734702181753 Accuracy train:  1.0 Accuracy validation:  0.9496666666666667\n",
      "900 loss:  0.005400915375682865 Accuracy train:  1.0 Accuracy validation:  0.9496666666666667\n",
      "1000 loss:  0.0048008183673879535 Accuracy train:  1.0 Accuracy validation:  0.9496666666666667\n"
     ]
    },
    {
     "data": {
      "text/plain": [
       "0.9558"
      ]
     },
     "execution_count": 3,
     "metadata": {},
     "output_type": "execute_result"
    }
   ],
   "source": [
    "nn = NeuralNetwork(layers_size=[28*28, 128, 10],activations = [\"relu\", \"softmax\"],lossFunction = \"crossEntropy\", l_rate=0.1)\n",
    "nn.train(x_train, y_train,x_validation, y_validation, epochs=1001,batch_size = 128)\n",
    "nn.test(x_test,y_test)"
   ]
  },
  {
   "cell_type": "code",
   "execution_count": 2,
   "metadata": {},
   "outputs": [
    {
     "name": "stdout",
     "output_type": "stream",
     "text": [
      "0 loss:  12.952041085591537 Accuracy train:  0.0625 Accuracy validation:  0.08533333333333333\n",
      "100 loss:  0.35439000235859186 Accuracy train:  0.90625 Accuracy validation:  0.8625\n",
      "200 loss:  0.3071375990724091 Accuracy train:  0.921875 Accuracy validation:  0.8825\n",
      "300 loss:  0.2901142558872444 Accuracy train:  0.9296875 Accuracy validation:  0.8926666666666667\n",
      "400 loss:  0.2721076409590791 Accuracy train:  0.9375 Accuracy validation:  0.8998333333333334\n",
      "500 loss:  0.2584285329773692 Accuracy train:  0.9453125 Accuracy validation:  0.9046666666666666\n",
      "600 loss:  0.24871227219424377 Accuracy train:  0.9453125 Accuracy validation:  0.9106666666666666\n",
      "700 loss:  0.24059189289965074 Accuracy train:  0.953125 Accuracy validation:  0.9145\n",
      "800 loss:  0.2323380128062395 Accuracy train:  0.953125 Accuracy validation:  0.9186666666666666\n",
      "900 loss:  0.22562306537780807 Accuracy train:  0.9609375 Accuracy validation:  0.9216666666666666\n",
      "1000 loss:  0.2200700922251682 Accuracy train:  0.9609375 Accuracy validation:  0.9235\n"
     ]
    },
    {
     "data": {
      "text/plain": [
       "0.9194"
      ]
     },
     "execution_count": 2,
     "metadata": {},
     "output_type": "execute_result"
    }
   ],
   "source": [
    "nn = NeuralNetwork(layers_size=[28*28, 128, 64, 10],activations = [\"relu\",\"relu\", \"softmax\"],lossFunction = \"crossEntropy\", l_rate=0.01)\n",
    "nn.train(x_train, y_train,x_validation, y_validation, epochs=1001,batch_size = 128)\n",
    "nn.test(x_test,y_test)"
   ]
  }
 ],
 "metadata": {
  "kernelspec": {
   "display_name": "Python 3",
   "language": "python",
   "name": "python3"
  },
  "language_info": {
   "codemirror_mode": {
    "name": "ipython",
    "version": 3
   },
   "file_extension": ".py",
   "mimetype": "text/x-python",
   "name": "python",
   "nbconvert_exporter": "python",
   "pygments_lexer": "ipython3",
   "version": "3.11.9"
  }
 },
 "nbformat": 4,
 "nbformat_minor": 2
}
