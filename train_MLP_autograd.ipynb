{
 "cells": [
  {
   "cell_type": "code",
   "execution_count": 1,
   "metadata": {},
   "outputs": [
    {
     "name": "stdout",
     "output_type": "stream",
     "text": [
      "Image dataset/test/corn/corn997.jpg has an unexpected shape: (32, 32)\n",
      "(7000, 3072) (7000, 10)\n",
      "(1000, 3072) (1000, 10)\n",
      "(1999, 3072) (1999, 10)\n"
     ]
    }
   ],
   "source": [
    "from MLP_autograd import *\n",
    "import numpy as np\n",
    "from PIL import Image\n",
    "\n",
    "\n",
    "shape = 32\n",
    "\n",
    "train_path = \"dataset/train.csv\"\n",
    "val_path = \"dataset/val.csv\"\n",
    "test_path = \"dataset/test.csv\"\n",
    "resize_to = (shape, shape)\n",
    "x_train = []\n",
    "x_validation = []\n",
    "x_test = []\n",
    "y_train = []\n",
    "y_validation = []\n",
    "y_test = []\n",
    "\n",
    "with open(train_path, \"r\") as f:\n",
    "    for line in f:\n",
    "        slip_data = line.strip().split(',')\n",
    "        image_path = \"dataset/\" + slip_data[0]\n",
    "        image = Image.open(image_path)\n",
    "        image = image.resize(resize_to)  # Resize hình ảnh\n",
    "        data = np.asarray(image)\n",
    "        x_train.append(data)\n",
    "        y_train.append(slip_data[1])\n",
    "x_train = np.array(x_train)\n",
    "y_train = np.array(y_train)\n",
    "\n",
    "with open(val_path, \"r\") as f:\n",
    "    for line in f:\n",
    "        slip_data = line.strip().split(',')\n",
    "        image_path = \"dataset/\" + slip_data[0]\n",
    "        image = Image.open(image_path)\n",
    "        image = image.resize(resize_to)  # Resize hình ảnh\n",
    "        data = np.asarray(image)\n",
    "        x_validation.append(data)\n",
    "        y_validation.append(slip_data[1])\n",
    "x_validation = np.array(x_validation)\n",
    "y_validation = np.array(y_validation)\n",
    "\n",
    "\n",
    "\n",
    "with open(test_path, \"r\") as f:\n",
    "    for line in f:\n",
    "        slip_data = line.strip().split(',')\n",
    "        image_path = \"dataset/\" + slip_data[0]\n",
    "        image = Image.open(image_path)\n",
    "        image = image.resize(resize_to)  # Resize hình ảnh\n",
    "        data = np.asarray(image)\n",
    "        if data.shape == (shape, shape, 3):\n",
    "            x_test.append(data)\n",
    "            y_test.append(slip_data[1])\n",
    "        else:\n",
    "            print(f\"Image {image_path} has an unexpected shape: {data.shape}\")\n",
    "x_test = np.array(x_test)\n",
    "y_test = np.array(y_test)\n",
    "\n",
    "\n",
    "\n",
    "\n",
    "\n",
    "x_train = x_train.reshape(x_train.shape[0],-1) /255.0\n",
    "x_validation = x_validation.reshape(x_validation.shape[0],-1) /255.0\n",
    "x_test = x_test.reshape(x_test.shape[0],-1) /255.0\n",
    "\n",
    "\n",
    "def one_hot(Y):\n",
    "    one_hot_Y = np.zeros((Y.size, np.max(Y) + 1))\n",
    "    one_hot_Y[np.arange(Y.size), Y] = 1\n",
    "    return one_hot_Y\n",
    "\n",
    "y_train = y_train.astype(int)\n",
    "y_train = one_hot(y_train)\n",
    "\n",
    "y_validation = y_validation.astype(int)\n",
    "y_validation = one_hot(y_validation)\n",
    "\n",
    "y_test = y_test.astype(int)\n",
    "y_test = one_hot(y_test)\n",
    "\n",
    "\n",
    "print(x_train.shape, y_train.shape)\n",
    "\n",
    "print(x_validation.shape,y_validation.shape)\n",
    "\n",
    "print(x_test.shape,y_test.shape)\n"
   ]
  },
  {
   "cell_type": "code",
   "execution_count": 1,
   "metadata": {},
   "outputs": [
    {
     "name": "stdout",
     "output_type": "stream",
     "text": [
      "(54000, 784) (54000, 10)\n",
      "(10000, 784) (10000, 10)\n",
      "(6000, 784) (6000, 10)\n"
     ]
    }
   ],
   "source": [
    "from MLP_autograd import *\n",
    "from keras.datasets import mnist\n",
    "(x_train,y_train),(x_test,y_test) = mnist.load_data()\n",
    "\n",
    "x_train = x_train /255.0\n",
    "x_test = x_test /255.0\n",
    "x_validation = x_train[:6000]\n",
    "y_validation = y_train[:6000]\n",
    "x_train = x_train[6000:]\n",
    "y_train = y_train[6000:]\n",
    "\n",
    "x_validation = x_validation.reshape(x_validation.shape[0],-1)\n",
    "x_train = x_train.reshape(x_train.shape[0],-1)\n",
    "x_test = x_test.reshape(x_test.shape[0],-1)\n",
    "\n",
    "\n",
    "def one_hot(Y):\n",
    "  one_hot_Y = np.zeros((Y.size,np.max(Y) + 1))\n",
    "  one_hot_Y[np.arange(Y.size),Y] = 1\n",
    "  return one_hot_Y\n",
    "\n",
    "y_train = one_hot(y_train)\n",
    "y_validation = one_hot(y_validation)\n",
    "y_test = one_hot(y_test)\n",
    "\n",
    "\n",
    "print(x_train.shape,y_train.shape)\n",
    "print(x_test.shape,y_test.shape)\n",
    "print(x_validation.shape,y_validation.shape)\n"
   ]
  },
  {
   "cell_type": "code",
   "execution_count": 2,
   "metadata": {},
   "outputs": [
    {
     "name": "stdout",
     "output_type": "stream",
     "text": [
      "0 loss:  10.189996691752748 Accuracy train:  0.078125 Accuracy validation:  0.0685\n",
      "100 loss:  0.8361323297530706 Accuracy train:  0.84375 Accuracy validation:  0.782\n",
      "200 loss:  0.6703487054163441 Accuracy train:  0.8984375 Accuracy validation:  0.8365\n",
      "300 loss:  0.6082156932429406 Accuracy train:  0.90625 Accuracy validation:  0.8556666666666667\n",
      "400 loss:  0.5672659525412593 Accuracy train:  0.9140625 Accuracy validation:  0.8675\n",
      "500 loss:  0.5345823896576796 Accuracy train:  0.921875 Accuracy validation:  0.874\n",
      "600 loss:  0.507143592252206 Accuracy train:  0.921875 Accuracy validation:  0.8773333333333333\n",
      "700 loss:  0.4840036963303526 Accuracy train:  0.921875 Accuracy validation:  0.881\n",
      "800 loss:  0.46447443000970445 Accuracy train:  0.9296875 Accuracy validation:  0.8823333333333333\n",
      "900 loss:  0.4479618238408157 Accuracy train:  0.9296875 Accuracy validation:  0.886\n",
      "1000 loss:  0.4339525344203724 Accuracy train:  0.921875 Accuracy validation:  0.8891666666666667\n"
     ]
    },
    {
     "data": {
      "text/plain": [
       "0.8898"
      ]
     },
     "execution_count": 2,
     "metadata": {},
     "output_type": "execute_result"
    }
   ],
   "source": [
    "nn = NeuralNetwork(layers_size=[28*28, 10],activations = [\"softmax\"],lossFunction = \"crossEntropy\", l_rate=0.01)\n",
    "nn.train(x_train, y_train, x_validation, y_validation, epochs=1001, batch_size=128)\n",
    "nn.test(x_test,y_test)"
   ]
  },
  {
   "cell_type": "code",
   "execution_count": 3,
   "metadata": {},
   "outputs": [
    {
     "name": "stdout",
     "output_type": "stream",
     "text": [
      "0 loss:  12.305059091883892 Accuracy train:  0.109375 Accuracy validation:  0.12\n",
      "100 loss:  0.5083524948870141 Accuracy train:  0.890625 Accuracy validation:  0.8428333333333333\n",
      "200 loss:  0.356098583188289 Accuracy train:  0.9140625 Accuracy validation:  0.8685\n",
      "300 loss:  0.2954939799284341 Accuracy train:  0.9296875 Accuracy validation:  0.882\n",
      "400 loss:  0.2601446431414607 Accuracy train:  0.953125 Accuracy validation:  0.8916666666666667\n",
      "500 loss:  0.23961469252132023 Accuracy train:  0.9609375 Accuracy validation:  0.899\n",
      "600 loss:  0.22550380708960882 Accuracy train:  0.96875 Accuracy validation:  0.9046666666666666\n",
      "700 loss:  0.2164503283089067 Accuracy train:  0.96875 Accuracy validation:  0.9093333333333333\n",
      "800 loss:  0.20859003576781482 Accuracy train:  0.96875 Accuracy validation:  0.9121666666666667\n",
      "900 loss:  0.2016555180547753 Accuracy train:  0.96875 Accuracy validation:  0.9156666666666666\n",
      "1000 loss:  0.19497887347831205 Accuracy train:  0.96875 Accuracy validation:  0.92\n"
     ]
    },
    {
     "data": {
      "text/plain": [
       "0.9174"
      ]
     },
     "execution_count": 3,
     "metadata": {},
     "output_type": "execute_result"
    }
   ],
   "source": [
    "nn = NeuralNetwork(layers_size=[28*28,64, 10],activations = [\"relu\", \"softmax\"],lossFunction = \"crossEntropy\", l_rate=0.01)\n",
    "nn.train(x_train, y_train,x_validation, y_validation, epochs=1001,batch_size = 128)\n",
    "nn.test(x_test,y_test)"
   ]
  },
  {
   "cell_type": "code",
   "execution_count": 4,
   "metadata": {},
   "outputs": [
    {
     "name": "stdout",
     "output_type": "stream",
     "text": [
      "0 loss:  12.18412451171531 Accuracy train:  0.1015625 Accuracy validation:  0.12566666666666668\n",
      "100 loss:  0.16390661047981253 Accuracy train:  0.9609375 Accuracy validation:  0.9301666666666667\n",
      "200 loss:  0.11912899831350288 Accuracy train:  0.9765625 Accuracy validation:  0.9403333333333334\n",
      "300 loss:  0.0915678192162841 Accuracy train:  0.9765625 Accuracy validation:  0.9455\n",
      "400 loss:  0.07180428561549385 Accuracy train:  0.9921875 Accuracy validation:  0.9483333333333334\n",
      "500 loss:  0.05506154745939609 Accuracy train:  0.9921875 Accuracy validation:  0.9505\n",
      "600 loss:  0.04108949069652539 Accuracy train:  0.9921875 Accuracy validation:  0.9526666666666667\n",
      "700 loss:  0.029534096726067476 Accuracy train:  0.9921875 Accuracy validation:  0.9538333333333333\n",
      "800 loss:  0.02081349542134791 Accuracy train:  1.0 Accuracy validation:  0.9551666666666667\n",
      "900 loss:  0.015419021902448345 Accuracy train:  1.0 Accuracy validation:  0.9558333333333333\n",
      "1000 loss:  0.011884412860079248 Accuracy train:  1.0 Accuracy validation:  0.956\n"
     ]
    },
    {
     "data": {
      "text/plain": [
       "0.9529"
      ]
     },
     "execution_count": 4,
     "metadata": {},
     "output_type": "execute_result"
    }
   ],
   "source": [
    "nn = NeuralNetwork(layers_size=[28*28, 128, 10],activations = [\"relu\", \"softmax\"],lossFunction = \"crossEntropy\", l_rate=0.1)\n",
    "nn.train(x_train, y_train,x_validation, y_validation, epochs=1001,batch_size = 128)\n",
    "nn.test(x_test,y_test)"
   ]
  },
  {
   "cell_type": "code",
   "execution_count": 5,
   "metadata": {},
   "outputs": [
    {
     "name": "stdout",
     "output_type": "stream",
     "text": [
      "0 loss:  12.464585041668698 Accuracy train:  0.0859375 Accuracy validation:  0.09966666666666667\n",
      "100 loss:  0.46036860956570014 Accuracy train:  0.8359375 Accuracy validation:  0.8016666666666666\n",
      "200 loss:  0.3249040537795956 Accuracy train:  0.8828125 Accuracy validation:  0.84\n",
      "300 loss:  0.27078004060540584 Accuracy train:  0.921875 Accuracy validation:  0.8585\n",
      "400 loss:  0.2416770151301409 Accuracy train:  0.9453125 Accuracy validation:  0.8726666666666667\n",
      "500 loss:  0.22627412442266304 Accuracy train:  0.953125 Accuracy validation:  0.88\n",
      "600 loss:  0.21628687959147463 Accuracy train:  0.9609375 Accuracy validation:  0.887\n",
      "700 loss:  0.2073365304456452 Accuracy train:  0.96875 Accuracy validation:  0.8923333333333333\n",
      "800 loss:  0.2004104647697995 Accuracy train:  0.96875 Accuracy validation:  0.897\n",
      "900 loss:  0.19321834614803846 Accuracy train:  0.96875 Accuracy validation:  0.9001666666666667\n",
      "1000 loss:  0.18745422490512803 Accuracy train:  0.96875 Accuracy validation:  0.904\n"
     ]
    },
    {
     "data": {
      "text/plain": [
       "0.9048"
      ]
     },
     "execution_count": 5,
     "metadata": {},
     "output_type": "execute_result"
    }
   ],
   "source": [
    "nn = NeuralNetwork(layers_size=[28*28, 128, 64, 10],activations = [\"relu\",\"relu\", \"softmax\"],lossFunction = \"crossEntropy\", l_rate=0.01)\n",
    "nn.train(x_train, y_train,x_validation, y_validation, epochs=1001,batch_size = 128)\n",
    "nn.test(x_test,y_test)"
   ]
  },
  {
   "cell_type": "code",
   "execution_count": 3,
   "metadata": {},
   "outputs": [
    {
     "name": "stdout",
     "output_type": "stream",
     "text": [
      "(44000, 3072) (44000, 10)\n",
      "(10000, 3072) (10000, 10)\n",
      "(6000, 3072) (6000, 10)\n",
      "[[0. 0. 0. ... 0. 0. 0.]\n",
      " [0. 0. 0. ... 0. 1. 0.]\n",
      " [0. 0. 0. ... 0. 1. 0.]\n",
      " ...\n",
      " [0. 0. 0. ... 0. 0. 0.]\n",
      " [0. 1. 0. ... 0. 0. 0.]\n",
      " [0. 0. 0. ... 1. 0. 0.]]\n"
     ]
    }
   ],
   "source": [
    "from MLP_autograd import *\n",
    "from keras.datasets import cifar10\n",
    "(x_train,y_train),(x_test,y_test) = cifar10.load_data()\n",
    "\n",
    "x_train = x_train /255.0\n",
    "x_test = x_test /255.0\n",
    "x_validation = x_train[:6000]\n",
    "y_validation = y_train[:6000]\n",
    "x_train = x_train[6000:]\n",
    "y_train = y_train[6000:]\n",
    "\n",
    "\n",
    "\n",
    "\n",
    "x_validation = x_validation.reshape(x_validation.shape[0],-1)\n",
    "x_train = x_train.reshape(x_train.shape[0],-1)\n",
    "x_test = x_test.reshape(x_test.shape[0],-1)\n",
    "\n",
    "\n",
    "\n",
    "def one_hot(Y):\n",
    "  one_hot_Y = np.zeros((Y.size,np.max(Y) + 1))\n",
    "  one_hot_Y[np.arange(Y.size),Y] = 1\n",
    "  return one_hot_Y\n",
    "\n",
    "y_train = one_hot(y_train.T)\n",
    "y_validation = one_hot(y_validation.T)\n",
    "y_test = one_hot(y_test.T)\n",
    "\n",
    "\n",
    "print(x_train.shape,y_train.shape)\n",
    "print(x_test.shape,y_test.shape)\n",
    "print(x_validation.shape,y_validation.shape)\n",
    "print(y_test)\n"
   ]
  },
  {
   "cell_type": "code",
   "execution_count": 4,
   "metadata": {},
   "outputs": [
    {
     "name": "stdout",
     "output_type": "stream",
     "text": [
      "0 loss:  12.196040603259688 Accuracy train:  0.1015625 Accuracy validation:  0.07466666666666667\n",
      "100 loss:  1.9087631345685416 Accuracy train:  0.28125 Accuracy validation:  0.2735\n",
      "200 loss:  1.8778539629644588 Accuracy train:  0.3046875 Accuracy validation:  0.2975\n",
      "300 loss:  1.8508386718222158 Accuracy train:  0.328125 Accuracy validation:  0.31016666666666665\n",
      "400 loss:  1.8327605065217207 Accuracy train:  0.3515625 Accuracy validation:  0.31933333333333336\n"
     ]
    }
   ],
   "source": [
    "nn = NeuralNetwork(layers_size=[32*32*3, 128, 10],activations = [\"relu\", \"softmax\"],lossFunction = \"crossEntropy\", l_rate=0.01)\n",
    "nn.train(x_train, y_train,x_validation, y_validation, epochs=1001,batch_size = 128)\n",
    "nn.test(x_test,y_test)"
   ]
  },
  {
   "cell_type": "code",
   "execution_count": 2,
   "metadata": {},
   "outputs": [
    {
     "name": "stdout",
     "output_type": "stream",
     "text": [
      "Image dataset/test/corn/corn997.jpg has an unexpected shape: (32, 32)\n",
      "(7000, 3072) (7000, 10)\n",
      "(1000, 3072) (1000, 10)\n",
      "(1999, 3072) (1999, 10)\n"
     ]
    }
   ],
   "source": [
    "import numpy as np\n",
    "from PIL import Image\n",
    "\n",
    "train_path = \"dataset/train.csv\"\n",
    "val_path = \"dataset/val.csv\"\n",
    "test_path = \"dataset/test.csv\"\n",
    "resize_to = (64, 64)\n",
    "x_train = []\n",
    "x_validation = []\n",
    "x_test = []\n",
    "y_train = []\n",
    "y_validation = []\n",
    "y_test = []\n",
    "\n",
    "with open(train_path, \"r\") as f:\n",
    "    for line in f:\n",
    "        slip_data = line.strip().split(',')\n",
    "        image_path = \"dataset/\" + slip_data[0]\n",
    "        image = Image.open(image_path)\n",
    "        image = image.resize(resize_to)  # Resize hình ảnh\n",
    "        data = np.asarray(image)\n",
    "        x_train.append(data)\n",
    "        y_train.append(slip_data[1])\n",
    "x_train = np.array(x_train)\n",
    "y_train = np.array(y_train)\n",
    "\n",
    "with open(val_path, \"r\") as f:\n",
    "    for line in f:\n",
    "        slip_data = line.strip().split(',')\n",
    "        image_path = \"dataset/\" + slip_data[0]\n",
    "        image = Image.open(image_path)\n",
    "        image = image.resize(resize_to)  # Resize hình ảnh\n",
    "        data = np.asarray(image)\n",
    "        x_validation.append(data)\n",
    "        y_validation.append(slip_data[1])\n",
    "x_validation = np.array(x_validation)\n",
    "y_validation = np.array(y_validation)\n",
    "\n",
    "\n",
    "\n",
    "with open(test_path, \"r\") as f:\n",
    "    for line in f:\n",
    "        slip_data = line.strip().split(',')\n",
    "        image_path = \"dataset/\" + slip_data[0]\n",
    "        image = Image.open(image_path)\n",
    "        image = image.resize(resize_to)  # Resize hình ảnh\n",
    "        data = np.asarray(image)\n",
    "        if data.shape == (32, 32, 3):\n",
    "            x_test.append(data)\n",
    "            y_test.append(slip_data[1])\n",
    "        else:\n",
    "            print(f\"Image {image_path} has an unexpected shape: {data.shape}\")\n",
    "x_test = np.array(x_test)\n",
    "y_test = np.array(y_test)\n",
    "\n",
    "\n",
    "\n",
    "\n",
    "\n",
    "x_train = x_train.reshape(x_train.shape[0],-1) /255.0\n",
    "x_validation = x_validation.reshape(x_validation.shape[0],-1) /255.0\n",
    "x_test = x_test.reshape(x_test.shape[0],-1) /255.0\n",
    "\n",
    "\n",
    "def one_hot(Y):\n",
    "    one_hot_Y = np.zeros((Y.size, np.max(Y) + 1))\n",
    "    one_hot_Y[np.arange(Y.size), Y] = 1\n",
    "    return one_hot_Y\n",
    "\n",
    "y_train = y_train.astype(int)\n",
    "y_train = one_hot(y_train)\n",
    "\n",
    "y_validation = y_validation.astype(int)\n",
    "y_validation = one_hot(y_validation)\n",
    "\n",
    "y_test = y_test.astype(int)\n",
    "y_test = one_hot(y_test)\n",
    "\n",
    "\n",
    "print(x_train.shape, y_train.shape)\n",
    "\n",
    "print(x_validation.shape,y_validation.shape)\n",
    "\n",
    "print(x_test.shape,y_test.shape)\n"
   ]
  },
  {
   "cell_type": "code",
   "execution_count": 2,
   "metadata": {},
   "outputs": [
    {
     "name": "stdout",
     "output_type": "stream",
     "text": [
      "epochs: 0 loss train: 12.255424619951564 Accuracy train: 0.10957142857142857 loss val: 12.128805919633344 Accuracy validation:  0.119\n",
      "epochs: 100 loss train: 2.8734543953003806 Accuracy train: 0.13785714285714284 loss val: 2.8792625875772386 Accuracy validation:  0.133\n",
      "epochs: 200 loss train: 2.4108913484298626 Accuracy train: 0.16285714285714287 loss val: 2.5117689877321925 Accuracy validation:  0.154\n",
      "epochs: 300 loss train: 2.290366229520487 Accuracy train: 0.18514285714285714 loss val: 2.4255602555104407 Accuracy validation:  0.172\n",
      "epochs: 400 loss train: 2.2170800683436123 Accuracy train: 0.18542857142857141 loss val: 2.3797569885019536 Accuracy validation:  0.169\n",
      "epochs: 500 loss train: 2.17260247718221 Accuracy train: 0.19428571428571428 loss val: 2.3623336928489818 Accuracy validation:  0.173\n",
      "epochs: 600 loss train: 2.145456750233753 Accuracy train: 0.20457142857142857 loss val: 2.3495223588099403 Accuracy validation:  0.178\n",
      "epochs: 700 loss train: 2.1308531567405975 Accuracy train: 0.20814285714285713 loss val: 2.3441369578036464 Accuracy validation:  0.188\n",
      "epochs: 800 loss train: 2.1203100870023865 Accuracy train: 0.21242857142857144 loss val: 2.3414377359375984 Accuracy validation:  0.192\n",
      "epochs: 900 loss train: 2.1124309709762774 Accuracy train: 0.21928571428571428 loss val: 2.341299058661507 Accuracy validation:  0.194\n",
      "epochs: 1000 loss train: 2.1059561938213824 Accuracy train: 0.22242857142857142 loss val: 2.3409820674438016 Accuracy validation:  0.194\n"
     ]
    },
    {
     "data": {
      "text/plain": [
       "(2.3824207823435883, 0.19259629814907453)"
      ]
     },
     "execution_count": 2,
     "metadata": {},
     "output_type": "execute_result"
    }
   ],
   "source": [
    "from MLP_autograd import *\n",
    "nn = NeuralNetwork(layers_size=[32*32*3, 128, 10],activations = [\"relu\", \"softmax\"],lossFunction = \"crossEntropy\", l_rate=0.01)\n",
    "nn.train(x_train, y_train,x_validation, y_validation, epochs=1001,batch_size = 128)\n",
    "nn.test(x_test,y_test)"
   ]
  },
  {
   "cell_type": "code",
   "execution_count": 3,
   "metadata": {},
   "outputs": [
    {
     "name": "stdout",
     "output_type": "stream",
     "text": [
      "epochs: 0 loss train: 2.105910177559866 Accuracy train: 0.22242857142857142 loss val: 2.34097535148585 Accuracy validation:  0.194\n",
      "epochs: 100 loss train: 2.103051049279821 Accuracy train: 0.2277142857142857 loss val: 2.3442476794004117 Accuracy validation:  0.196\n",
      "epochs: 200 loss train: 2.1070164671192884 Accuracy train: 0.23042857142857143 loss val: 2.35575238867266 Accuracy validation:  0.202\n",
      "epochs: 300 loss train: 2.113069640297181 Accuracy train: 0.2347142857142857 loss val: 2.3699437779143966 Accuracy validation:  0.204\n",
      "epochs: 400 loss train: 2.1096519828557567 Accuracy train: 0.24242857142857144 loss val: 2.372121390286279 Accuracy validation:  0.202\n",
      "epochs: 500 loss train: 2.1103341596586715 Accuracy train: 0.2502857142857143 loss val: 2.3801282136509077 Accuracy validation:  0.209\n",
      "epochs: 600 loss train: 2.1029848221963867 Accuracy train: 0.25485714285714284 loss val: 2.3796523903576943 Accuracy validation:  0.212\n",
      "epochs: 700 loss train: 2.1008406200206196 Accuracy train: 0.258 loss val: 2.3845027788187036 Accuracy validation:  0.215\n",
      "epochs: 800 loss train: 2.094933831669894 Accuracy train: 0.26042857142857145 loss val: 2.384033506961601 Accuracy validation:  0.214\n",
      "epochs: 900 loss train: 2.086712859680157 Accuracy train: 0.2634285714285714 loss val: 2.3804760557286984 Accuracy validation:  0.217\n",
      "epochs: 1000 loss train: 2.07776781011947 Accuracy train: 0.2661428571428571 loss val: 2.374749126762348 Accuracy validation:  0.219\n"
     ]
    },
    {
     "data": {
      "text/plain": [
       "(2.4417187495985937, 0.20860430215107553)"
      ]
     },
     "execution_count": 3,
     "metadata": {},
     "output_type": "execute_result"
    }
   ],
   "source": [
    "nn.train(x_train, y_train,x_validation, y_validation, epochs=1001,batch_size = 128)\n",
    "nn.test(x_test,y_test)"
   ]
  },
  {
   "cell_type": "code",
   "execution_count": 4,
   "metadata": {},
   "outputs": [
    {
     "name": "stdout",
     "output_type": "stream",
     "text": [
      "epochs: 0 loss train: 2.077675831246312 Accuracy train: 0.26671428571428574 loss val: 2.374692088963349 Accuracy validation:  0.219\n",
      "epochs: 100 loss train: 2.0692799407184728 Accuracy train: 0.27385714285714285 loss val: 2.371426238137712 Accuracy validation:  0.225\n",
      "epochs: 200 loss train: 2.0619297562613648 Accuracy train: 0.276 loss val: 2.368334820190751 Accuracy validation:  0.23\n",
      "epochs: 300 loss train: 2.053150774336612 Accuracy train: 0.2795714285714286 loss val: 2.3632159797427787 Accuracy validation:  0.231\n",
      "epochs: 400 loss train: 2.0438085948515523 Accuracy train: 0.2812857142857143 loss val: 2.3578588549409454 Accuracy validation:  0.234\n",
      "epochs: 500 loss train: 2.035862788307115 Accuracy train: 0.28614285714285714 loss val: 2.3539517217381913 Accuracy validation:  0.235\n",
      "epochs: 600 loss train: 2.029821249384104 Accuracy train: 0.2874285714285714 loss val: 2.352104423130929 Accuracy validation:  0.238\n",
      "epochs: 700 loss train: 2.0222517378401212 Accuracy train: 0.28914285714285715 loss val: 2.3473948975397425 Accuracy validation:  0.238\n",
      "epochs: 800 loss train: 2.0148413487660286 Accuracy train: 0.2915714285714286 loss val: 2.342532483276462 Accuracy validation:  0.242\n",
      "epochs: 900 loss train: 2.007795119618134 Accuracy train: 0.2937142857142857 loss val: 2.3382774705583125 Accuracy validation:  0.243\n",
      "epochs: 1000 loss train: 2.002916006558651 Accuracy train: 0.2957142857142857 loss val: 2.3364471991467064 Accuracy validation:  0.245\n"
     ]
    },
    {
     "data": {
      "text/plain": [
       "(2.416670680973636, 0.22011005502751377)"
      ]
     },
     "execution_count": 4,
     "metadata": {},
     "output_type": "execute_result"
    }
   ],
   "source": [
    "nn.train(x_train, y_train,x_validation, y_validation, epochs=1001,batch_size = 128)\n",
    "nn.test(x_test,y_test)"
   ]
  },
  {
   "cell_type": "code",
   "execution_count": 5,
   "metadata": {},
   "outputs": [
    {
     "name": "stdout",
     "output_type": "stream",
     "text": [
      "epochs: 0 loss train: 2.002876925515921 Accuracy train: 0.2958571428571429 loss val: 2.336410413060331 Accuracy validation:  0.245\n",
      "epochs: 100 loss train: 1.9974810157900786 Accuracy train: 0.2977142857142857 loss val: 2.3340082257922403 Accuracy validation:  0.245\n",
      "epochs: 200 loss train: 1.9918528978369714 Accuracy train: 0.2997142857142857 loss val: 2.3318733738552218 Accuracy validation:  0.243\n",
      "epochs: 300 loss train: 1.9864979664159297 Accuracy train: 0.3008571428571429 loss val: 2.330734489113408 Accuracy validation:  0.241\n",
      "epochs: 400 loss train: 1.9808255027123793 Accuracy train: 0.30342857142857144 loss val: 2.329158510688789 Accuracy validation:  0.241\n",
      "epochs: 500 loss train: 1.9756657874212522 Accuracy train: 0.3047142857142857 loss val: 2.327279646672671 Accuracy validation:  0.241\n",
      "epochs: 600 loss train: 1.969790416286812 Accuracy train: 0.30757142857142855 loss val: 2.323653927955463 Accuracy validation:  0.238\n",
      "epochs: 700 loss train: 1.9645945597228567 Accuracy train: 0.30957142857142855 loss val: 2.320982116739381 Accuracy validation:  0.24\n",
      "epochs: 800 loss train: 1.9605831669821825 Accuracy train: 0.31114285714285717 loss val: 2.319310181121889 Accuracy validation:  0.242\n",
      "epochs: 900 loss train: 1.9565778838584196 Accuracy train: 0.31157142857142855 loss val: 2.3173006066539754 Accuracy validation:  0.243\n",
      "epochs: 1000 loss train: 1.9525878384665754 Accuracy train: 0.312 loss val: 2.315924276125945 Accuracy validation:  0.236\n"
     ]
    },
    {
     "data": {
      "text/plain": [
       "(2.3995086720864514, 0.22961480740370185)"
      ]
     },
     "execution_count": 5,
     "metadata": {},
     "output_type": "execute_result"
    }
   ],
   "source": [
    "nn.train(x_train, y_train,x_validation, y_validation, epochs=1001,batch_size = 128)\n",
    "nn.test(x_test,y_test)"
   ]
  },
  {
   "cell_type": "code",
   "execution_count": 6,
   "metadata": {},
   "outputs": [
    {
     "name": "stdout",
     "output_type": "stream",
     "text": [
      "epochs: 0 loss train: 1.952545269790125 Accuracy train: 0.312 loss val: 2.315882773597659 Accuracy validation:  0.236\n",
      "epochs: 100 loss train: 1.9483262574860465 Accuracy train: 0.315 loss val: 2.3140295393122456 Accuracy validation:  0.234\n",
      "epochs: 200 loss train: 1.9425007084759673 Accuracy train: 0.3162857142857143 loss val: 2.311220766076579 Accuracy validation:  0.238\n",
      "epochs: 300 loss train: 1.9381981749047759 Accuracy train: 0.3177142857142857 loss val: 2.309692404753694 Accuracy validation:  0.239\n",
      "epochs: 400 loss train: 1.9370385707946058 Accuracy train: 0.313 loss val: 2.31097989354959 Accuracy validation:  0.245\n",
      "epochs: 500 loss train: 1.933113402743141 Accuracy train: 0.31242857142857144 loss val: 2.308967256802646 Accuracy validation:  0.245\n",
      "epochs: 600 loss train: 1.9285993257717997 Accuracy train: 0.313 loss val: 2.306609492815951 Accuracy validation:  0.246\n",
      "epochs: 700 loss train: 1.9238700817630807 Accuracy train: 0.31314285714285717 loss val: 2.3039354066438387 Accuracy validation:  0.241\n",
      "epochs: 800 loss train: 1.9204736794048998 Accuracy train: 0.31257142857142856 loss val: 2.303532091002634 Accuracy validation:  0.24\n",
      "epochs: 900 loss train: 1.9160889570978472 Accuracy train: 0.31357142857142856 loss val: 2.3020049577322887 Accuracy validation:  0.239\n",
      "epochs: 1000 loss train: 1.9117987629190887 Accuracy train: 0.316 loss val: 2.302228351580049 Accuracy validation:  0.238\n"
     ]
    },
    {
     "data": {
      "text/plain": [
       "(2.3870944620830294, 0.24862431215607803)"
      ]
     },
     "execution_count": 6,
     "metadata": {},
     "output_type": "execute_result"
    }
   ],
   "source": [
    "nn.train(x_train, y_train,x_validation, y_validation, epochs=1001,batch_size = 128)\n",
    "nn.test(x_test,y_test)"
   ]
  },
  {
   "cell_type": "code",
   "execution_count": 7,
   "metadata": {},
   "outputs": [
    {
     "name": "stdout",
     "output_type": "stream",
     "text": [
      "epochs: 0 loss train: 1.9116970825831832 Accuracy train: 0.31585714285714284 loss val: 2.30229349503831 Accuracy validation:  0.238\n",
      "epochs: 100 loss train: 1.9091841304226855 Accuracy train: 0.318 loss val: 2.30295270294496 Accuracy validation:  0.241\n",
      "epochs: 200 loss train: 1.9060426242178017 Accuracy train: 0.3201428571428571 loss val: 2.3032550384533064 Accuracy validation:  0.244\n",
      "epochs: 300 loss train: 1.9034938154991974 Accuracy train: 0.31942857142857145 loss val: 2.304581984552388 Accuracy validation:  0.244\n",
      "epochs: 400 loss train: 1.9028089936494526 Accuracy train: 0.3211428571428571 loss val: 2.307390770204689 Accuracy validation:  0.242\n",
      "epochs: 500 loss train: 1.9014740167357738 Accuracy train: 0.3212857142857143 loss val: 2.3089633313424707 Accuracy validation:  0.243\n",
      "epochs: 600 loss train: 1.8966689857903989 Accuracy train: 0.32242857142857145 loss val: 2.3072849919911405 Accuracy validation:  0.244\n",
      "epochs: 700 loss train: 1.8960249989927405 Accuracy train: 0.322 loss val: 2.31004188432915 Accuracy validation:  0.245\n",
      "epochs: 800 loss train: 1.89344443287306 Accuracy train: 0.32185714285714284 loss val: 2.3104337820136975 Accuracy validation:  0.244\n",
      "epochs: 900 loss train: 1.890992819888336 Accuracy train: 0.32371428571428573 loss val: 2.310928728571106 Accuracy validation:  0.246\n",
      "epochs: 1000 loss train: 1.88692826746701 Accuracy train: 0.32442857142857146 loss val: 2.310525472391248 Accuracy validation:  0.246\n"
     ]
    },
    {
     "data": {
      "text/plain": [
       "(2.3926130172000275, 0.25162581290645325)"
      ]
     },
     "execution_count": 7,
     "metadata": {},
     "output_type": "execute_result"
    }
   ],
   "source": [
    "nn.train(x_train, y_train,x_validation, y_validation, epochs=1001,batch_size = 128)\n",
    "nn.test(x_test,y_test)"
   ]
  },
  {
   "cell_type": "code",
   "execution_count": 8,
   "metadata": {},
   "outputs": [
    {
     "name": "stdout",
     "output_type": "stream",
     "text": [
      "epochs: 0 loss train: 1.886949160428896 Accuracy train: 0.32457142857142857 loss val: 2.3105882676125553 Accuracy validation:  0.246\n",
      "epochs: 100 loss train: 1.8838463266039227 Accuracy train: 0.3261428571428571 loss val: 2.310958135779821 Accuracy validation:  0.246\n",
      "epochs: 200 loss train: 1.8797521903811125 Accuracy train: 0.32957142857142857 loss val: 2.310186479455326 Accuracy validation:  0.25\n",
      "epochs: 300 loss train: 1.8751915281545821 Accuracy train: 0.3325714285714286 loss val: 2.3083064506140025 Accuracy validation:  0.255\n",
      "epochs: 400 loss train: 1.8711988403595188 Accuracy train: 0.33485714285714285 loss val: 2.30738901138115 Accuracy validation:  0.257\n",
      "epochs: 500 loss train: 1.8662571694631125 Accuracy train: 0.3352857142857143 loss val: 2.305126000530971 Accuracy validation:  0.264\n",
      "epochs: 600 loss train: 1.8620046152765533 Accuracy train: 0.3355714285714286 loss val: 2.303725131840832 Accuracy validation:  0.269\n",
      "epochs: 700 loss train: 1.859316299510495 Accuracy train: 0.33714285714285713 loss val: 2.304117647456996 Accuracy validation:  0.272\n",
      "epochs: 800 loss train: 1.8556774179968394 Accuracy train: 0.3394285714285714 loss val: 2.303431867180962 Accuracy validation:  0.274\n",
      "epochs: 900 loss train: 1.851788055617056 Accuracy train: 0.3405714285714286 loss val: 2.3032679122754836 Accuracy validation:  0.274\n",
      "epochs: 1000 loss train: 1.847919025999339 Accuracy train: 0.3404285714285714 loss val: 2.303266866420932 Accuracy validation:  0.274\n"
     ]
    },
    {
     "data": {
      "text/plain": [
       "(2.385415608355965, 0.2696348174087044)"
      ]
     },
     "execution_count": 8,
     "metadata": {},
     "output_type": "execute_result"
    }
   ],
   "source": [
    "nn.train(x_train, y_train,x_validation, y_validation, epochs=1001,batch_size = 128)\n",
    "nn.test(x_test,y_test)"
   ]
  },
  {
   "cell_type": "code",
   "execution_count": 9,
   "metadata": {},
   "outputs": [
    {
     "name": "stdout",
     "output_type": "stream",
     "text": [
      "epochs: 0 loss train: 1.847905059587127 Accuracy train: 0.3404285714285714 loss val: 2.3032831869409507 Accuracy validation:  0.274\n",
      "epochs: 100 loss train: 1.8440358109288135 Accuracy train: 0.34085714285714286 loss val: 2.3024095206422017 Accuracy validation:  0.273\n",
      "epochs: 200 loss train: 1.8409119422188391 Accuracy train: 0.342 loss val: 2.301846043939233 Accuracy validation:  0.276\n",
      "epochs: 300 loss train: 1.8382818836466412 Accuracy train: 0.3422857142857143 loss val: 2.301324714623467 Accuracy validation:  0.277\n",
      "epochs: 400 loss train: 1.8348781731602184 Accuracy train: 0.3432857142857143 loss val: 2.300815569388543 Accuracy validation:  0.281\n",
      "epochs: 500 loss train: 1.8324372371244537 Accuracy train: 0.3425714285714286 loss val: 2.301118027974052 Accuracy validation:  0.281\n",
      "epochs: 600 loss train: 1.8290383547214246 Accuracy train: 0.34385714285714286 loss val: 2.3005246913363844 Accuracy validation:  0.283\n",
      "epochs: 700 loss train: 1.8257027088074351 Accuracy train: 0.3452857142857143 loss val: 2.2994727617800743 Accuracy validation:  0.284\n",
      "epochs: 800 loss train: 1.822391829694567 Accuracy train: 0.345 loss val: 2.298184996985494 Accuracy validation:  0.286\n",
      "epochs: 900 loss train: 1.818293952033686 Accuracy train: 0.3474285714285714 loss val: 2.2961086869505682 Accuracy validation:  0.288\n",
      "epochs: 1000 loss train: 1.8141533606239202 Accuracy train: 0.3482857142857143 loss val: 2.29408625409886 Accuracy validation:  0.287\n"
     ]
    },
    {
     "data": {
      "text/plain": [
       "(2.3836790934728307, 0.27463731865932967)"
      ]
     },
     "execution_count": 9,
     "metadata": {},
     "output_type": "execute_result"
    }
   ],
   "source": [
    "nn.train(x_train, y_train,x_validation, y_validation, epochs=1001,batch_size = 128)\n",
    "nn.test(x_test,y_test)"
   ]
  },
  {
   "cell_type": "code",
   "execution_count": 10,
   "metadata": {},
   "outputs": [
    {
     "name": "stdout",
     "output_type": "stream",
     "text": [
      "epochs: 0 loss train: 1.814179089560892 Accuracy train: 0.3482857142857143 loss val: 2.294096426379918 Accuracy validation:  0.287\n",
      "epochs: 100 loss train: 1.8100944106567258 Accuracy train: 0.349 loss val: 2.2918448637054922 Accuracy validation:  0.287\n",
      "epochs: 200 loss train: 1.8062122606494977 Accuracy train: 0.3502857142857143 loss val: 2.290077096690266 Accuracy validation:  0.289\n",
      "epochs: 300 loss train: 1.8019137186841478 Accuracy train: 0.3525714285714286 loss val: 2.287802715886756 Accuracy validation:  0.292\n",
      "epochs: 400 loss train: 1.7966173096515707 Accuracy train: 0.3544285714285714 loss val: 2.284812912038031 Accuracy validation:  0.293\n",
      "epochs: 500 loss train: 1.7917966434639687 Accuracy train: 0.35585714285714287 loss val: 2.2821589300693836 Accuracy validation:  0.292\n",
      "epochs: 600 loss train: 1.7875023945429591 Accuracy train: 0.35814285714285715 loss val: 2.280070739783216 Accuracy validation:  0.293\n",
      "epochs: 700 loss train: 1.783428959787761 Accuracy train: 0.35842857142857143 loss val: 2.2782211032017963 Accuracy validation:  0.292\n",
      "epochs: 800 loss train: 1.7793672892014176 Accuracy train: 0.35942857142857143 loss val: 2.2765915002445962 Accuracy validation:  0.294\n",
      "epochs: 900 loss train: 1.7754676037259363 Accuracy train: 0.3605714285714286 loss val: 2.2748466950775255 Accuracy validation:  0.294\n",
      "epochs: 1000 loss train: 1.7717718335984087 Accuracy train: 0.36142857142857143 loss val: 2.273577269893185 Accuracy validation:  0.296\n"
     ]
    },
    {
     "data": {
      "text/plain": [
       "(2.36906793864467, 0.27913956978489246)"
      ]
     },
     "execution_count": 10,
     "metadata": {},
     "output_type": "execute_result"
    }
   ],
   "source": [
    "nn.train(x_train, y_train,x_validation, y_validation, epochs=1001,batch_size = 128)\n",
    "nn.test(x_test,y_test)"
   ]
  },
  {
   "cell_type": "code",
   "execution_count": 11,
   "metadata": {},
   "outputs": [
    {
     "name": "stdout",
     "output_type": "stream",
     "text": [
      "epochs: 0 loss train: 1.771707708763106 Accuracy train: 0.36142857142857143 loss val: 2.273625351176157 Accuracy validation:  0.296\n",
      "epochs: 100 loss train: 1.7679159026585705 Accuracy train: 0.36328571428571427 loss val: 2.2720894386909367 Accuracy validation:  0.295\n",
      "epochs: 200 loss train: 1.7636453697592347 Accuracy train: 0.36414285714285716 loss val: 2.269509536662909 Accuracy validation:  0.297\n",
      "epochs: 300 loss train: 1.7599306740024523 Accuracy train: 0.3657142857142857 loss val: 2.26751681314166 Accuracy validation:  0.297\n",
      "epochs: 400 loss train: 1.7562202129026525 Accuracy train: 0.36657142857142855 loss val: 2.265667663212579 Accuracy validation:  0.301\n",
      "epochs: 500 loss train: 1.752406529977094 Accuracy train: 0.36714285714285716 loss val: 2.2632578303059145 Accuracy validation:  0.303\n",
      "epochs: 600 loss train: 1.748489945334974 Accuracy train: 0.3687142857142857 loss val: 2.260730798991778 Accuracy validation:  0.311\n",
      "epochs: 700 loss train: 1.7437302990030132 Accuracy train: 0.3702857142857143 loss val: 2.2579803723219594 Accuracy validation:  0.311\n",
      "epochs: 800 loss train: 1.7395528522209087 Accuracy train: 0.3717142857142857 loss val: 2.2552337299486878 Accuracy validation:  0.313\n",
      "epochs: 900 loss train: 1.7352416184964468 Accuracy train: 0.37214285714285716 loss val: 2.2528564002070404 Accuracy validation:  0.312\n",
      "epochs: 1000 loss train: 1.7306748564894299 Accuracy train: 0.37242857142857144 loss val: 2.2502427810852406 Accuracy validation:  0.311\n"
     ]
    },
    {
     "data": {
      "text/plain": [
       "(2.351524020744725, 0.2911455727863932)"
      ]
     },
     "execution_count": 11,
     "metadata": {},
     "output_type": "execute_result"
    }
   ],
   "source": [
    "nn.train(x_train, y_train,x_validation, y_validation, epochs=1001,batch_size = 128)\n",
    "nn.test(x_test,y_test)"
   ]
  },
  {
   "cell_type": "code",
   "execution_count": 12,
   "metadata": {},
   "outputs": [
    {
     "name": "stdout",
     "output_type": "stream",
     "text": [
      "epochs: 0 loss train: 1.7306148687690261 Accuracy train: 0.37242857142857144 loss val: 2.250248668869078 Accuracy validation:  0.311\n",
      "epochs: 100 loss train: 1.726115957552355 Accuracy train: 0.3732857142857143 loss val: 2.2474783835948746 Accuracy validation:  0.311\n",
      "epochs: 200 loss train: 1.7220341514494106 Accuracy train: 0.3742857142857143 loss val: 2.2446775014835514 Accuracy validation:  0.313\n",
      "epochs: 300 loss train: 1.7176939637394797 Accuracy train: 0.3757142857142857 loss val: 2.2419853901978706 Accuracy validation:  0.315\n",
      "epochs: 400 loss train: 1.7131587372991988 Accuracy train: 0.3767142857142857 loss val: 2.2391770001549496 Accuracy validation:  0.317\n",
      "epochs: 500 loss train: 1.7083280077048468 Accuracy train: 0.3782857142857143 loss val: 2.235836692830693 Accuracy validation:  0.317\n",
      "epochs: 600 loss train: 1.7039896453216405 Accuracy train: 0.37885714285714284 loss val: 2.2327706767794564 Accuracy validation:  0.318\n",
      "epochs: 700 loss train: 1.6996212860741895 Accuracy train: 0.3797142857142857 loss val: 2.2304517456883177 Accuracy validation:  0.318\n",
      "epochs: 800 loss train: 1.6953360554688832 Accuracy train: 0.3821428571428571 loss val: 2.228086199674696 Accuracy validation:  0.319\n",
      "epochs: 900 loss train: 1.6911828863597138 Accuracy train: 0.38271428571428573 loss val: 2.2260149956619903 Accuracy validation:  0.32\n",
      "epochs: 1000 loss train: 1.6870424918626254 Accuracy train: 0.38285714285714284 loss val: 2.224761612664646 Accuracy validation:  0.321\n"
     ]
    },
    {
     "data": {
      "text/plain": [
       "(2.339120982077195, 0.29814907453726863)"
      ]
     },
     "execution_count": 12,
     "metadata": {},
     "output_type": "execute_result"
    }
   ],
   "source": [
    "nn.train(x_train, y_train,x_validation, y_validation, epochs=1001,batch_size = 128)\n",
    "nn.test(x_test,y_test)"
   ]
  },
  {
   "cell_type": "code",
   "execution_count": 13,
   "metadata": {},
   "outputs": [
    {
     "name": "stdout",
     "output_type": "stream",
     "text": [
      "epochs: 0 loss train: 1.687107733818427 Accuracy train: 0.38271428571428573 loss val: 2.2246614754102167 Accuracy validation:  0.321\n",
      "epochs: 100 loss train: 1.6832983081262143 Accuracy train: 0.3831428571428571 loss val: 2.224216694368084 Accuracy validation:  0.321\n",
      "epochs: 200 loss train: 1.679273874187889 Accuracy train: 0.38442857142857145 loss val: 2.2235103523470867 Accuracy validation:  0.319\n",
      "epochs: 300 loss train: 1.6749634341739792 Accuracy train: 0.38485714285714284 loss val: 2.221816340243608 Accuracy validation:  0.319\n",
      "epochs: 400 loss train: 1.6705884079687578 Accuracy train: 0.3871428571428571 loss val: 2.2198970210378217 Accuracy validation:  0.321\n",
      "epochs: 500 loss train: 1.6665510333927693 Accuracy train: 0.3871428571428571 loss val: 2.2180461244902223 Accuracy validation:  0.321\n",
      "epochs: 600 loss train: 1.6626640203413097 Accuracy train: 0.388 loss val: 2.216629149148023 Accuracy validation:  0.321\n",
      "epochs: 700 loss train: 1.6585438800121162 Accuracy train: 0.38957142857142857 loss val: 2.214895994629798 Accuracy validation:  0.321\n",
      "epochs: 800 loss train: 1.654534369167593 Accuracy train: 0.3904285714285714 loss val: 2.2134645430181847 Accuracy validation:  0.321\n",
      "epochs: 900 loss train: 1.6508146974893838 Accuracy train: 0.39171428571428574 loss val: 2.2121357128783283 Accuracy validation:  0.321\n",
      "epochs: 1000 loss train: 1.6470331927008024 Accuracy train: 0.3932857142857143 loss val: 2.2106162723489273 Accuracy validation:  0.325\n"
     ]
    },
    {
     "data": {
      "text/plain": [
       "(2.3397723557716996, 0.3051525762881441)"
      ]
     },
     "execution_count": 13,
     "metadata": {},
     "output_type": "execute_result"
    }
   ],
   "source": [
    "nn.train(x_train, y_train,x_validation, y_validation, epochs=1001,batch_size = 128)\n",
    "nn.test(x_test,y_test)"
   ]
  },
  {
   "cell_type": "code",
   "execution_count": 14,
   "metadata": {},
   "outputs": [
    {
     "name": "stdout",
     "output_type": "stream",
     "text": [
      "epochs: 0 loss train: 1.6470152029406466 Accuracy train: 0.39357142857142857 loss val: 2.210651159961456 Accuracy validation:  0.324\n",
      "epochs: 100 loss train: 1.6432590629130528 Accuracy train: 0.3944285714285714 loss val: 2.2093341565364084 Accuracy validation:  0.325\n",
      "epochs: 200 loss train: 1.6395182801291457 Accuracy train: 0.39614285714285713 loss val: 2.2078505915831688 Accuracy validation:  0.326\n",
      "epochs: 300 loss train: 1.635726151906843 Accuracy train: 0.3974285714285714 loss val: 2.2064059154001754 Accuracy validation:  0.327\n",
      "epochs: 400 loss train: 1.6316879916157125 Accuracy train: 0.39885714285714285 loss val: 2.2042863099219945 Accuracy validation:  0.328\n",
      "epochs: 500 loss train: 1.6273899015048217 Accuracy train: 0.39985714285714286 loss val: 2.2015400432221486 Accuracy validation:  0.328\n",
      "epochs: 600 loss train: 1.6233373799689055 Accuracy train: 0.4007142857142857 loss val: 2.1990905584654774 Accuracy validation:  0.329\n",
      "epochs: 700 loss train: 1.6195995281314222 Accuracy train: 0.4024285714285714 loss val: 2.1971960254741387 Accuracy validation:  0.326\n",
      "epochs: 800 loss train: 1.6155649575761857 Accuracy train: 0.404 loss val: 2.1952739091500857 Accuracy validation:  0.326\n",
      "epochs: 900 loss train: 1.611739661444926 Accuracy train: 0.40485714285714286 loss val: 2.193469615588265 Accuracy validation:  0.326\n",
      "epochs: 1000 loss train: 1.6079512682483939 Accuracy train: 0.4054285714285714 loss val: 2.1920519541491887 Accuracy validation:  0.327\n"
     ]
    },
    {
     "data": {
      "text/plain": [
       "(2.3391970446549646, 0.31765882941470736)"
      ]
     },
     "execution_count": 14,
     "metadata": {},
     "output_type": "execute_result"
    }
   ],
   "source": [
    "nn.train(x_train, y_train,x_validation, y_validation, epochs=1001,batch_size = 128)\n",
    "nn.test(x_test,y_test)"
   ]
  },
  {
   "cell_type": "code",
   "execution_count": 15,
   "metadata": {},
   "outputs": [
    {
     "name": "stdout",
     "output_type": "stream",
     "text": [
      "epochs: 0 loss train: 1.6079157919804945 Accuracy train: 0.4055714285714286 loss val: 2.1920709775548484 Accuracy validation:  0.327\n",
      "epochs: 100 loss train: 1.604546997907075 Accuracy train: 0.4075714285714286 loss val: 2.190724556384396 Accuracy validation:  0.328\n",
      "epochs: 200 loss train: 1.6009949238934766 Accuracy train: 0.4094285714285714 loss val: 2.189253823647131 Accuracy validation:  0.33\n",
      "epochs: 300 loss train: 1.5975603009418988 Accuracy train: 0.4107142857142857 loss val: 2.1879585713448804 Accuracy validation:  0.33\n",
      "epochs: 400 loss train: 1.5938861621527738 Accuracy train: 0.4122857142857143 loss val: 2.18653220605856 Accuracy validation:  0.333\n",
      "epochs: 500 loss train: 1.5902141100808402 Accuracy train: 0.41314285714285715 loss val: 2.185186252857449 Accuracy validation:  0.334\n",
      "epochs: 600 loss train: 1.5868169435814818 Accuracy train: 0.4147142857142857 loss val: 2.1838491611133457 Accuracy validation:  0.336\n",
      "epochs: 700 loss train: 1.5834165816598749 Accuracy train: 0.41628571428571426 loss val: 2.182560974766432 Accuracy validation:  0.337\n",
      "epochs: 800 loss train: 1.5801058524489546 Accuracy train: 0.41728571428571426 loss val: 2.1812860585096425 Accuracy validation:  0.337\n",
      "epochs: 900 loss train: 1.5767231187431245 Accuracy train: 0.4187142857142857 loss val: 2.1802636152677013 Accuracy validation:  0.339\n",
      "epochs: 1000 loss train: 1.5735753001023896 Accuracy train: 0.42 loss val: 2.179685092706275 Accuracy validation:  0.339\n"
     ]
    },
    {
     "data": {
      "text/plain": [
       "(2.343553971918136, 0.32366183091545775)"
      ]
     },
     "execution_count": 15,
     "metadata": {},
     "output_type": "execute_result"
    }
   ],
   "source": [
    "nn.train(x_train, y_train,x_validation, y_validation, epochs=1001,batch_size = 128)\n",
    "nn.test(x_test,y_test)"
   ]
  },
  {
   "cell_type": "code",
   "execution_count": 16,
   "metadata": {},
   "outputs": [
    {
     "name": "stdout",
     "output_type": "stream",
     "text": [
      "epochs: 0 loss train: 1.5735390221944445 Accuracy train: 0.4198571428571429 loss val: 2.179658599269808 Accuracy validation:  0.339\n",
      "epochs: 100 loss train: 1.5703722768766217 Accuracy train: 0.4207142857142857 loss val: 2.179017767455589 Accuracy validation:  0.338\n",
      "epochs: 200 loss train: 1.5672024852297508 Accuracy train: 0.4218571428571429 loss val: 2.178516372303549 Accuracy validation:  0.338\n",
      "epochs: 300 loss train: 1.5643020103338292 Accuracy train: 0.4225714285714286 loss val: 2.1778889221580493 Accuracy validation:  0.337\n",
      "epochs: 400 loss train: 1.5611753635701886 Accuracy train: 0.42442857142857143 loss val: 2.1771017302064912 Accuracy validation:  0.338\n",
      "epochs: 500 loss train: 1.5580842962092947 Accuracy train: 0.4258571428571429 loss val: 2.176347870296406 Accuracy validation:  0.338\n",
      "epochs: 600 loss train: 1.5552595667001547 Accuracy train: 0.427 loss val: 2.175566133701715 Accuracy validation:  0.339\n",
      "epochs: 700 loss train: 1.5522164918062096 Accuracy train: 0.4277142857142857 loss val: 2.174711592639672 Accuracy validation:  0.339\n",
      "epochs: 800 loss train: 1.5491210068178027 Accuracy train: 0.42942857142857144 loss val: 2.1740656815312986 Accuracy validation:  0.34\n",
      "epochs: 900 loss train: 1.5459514628985298 Accuracy train: 0.431 loss val: 2.173471883971283 Accuracy validation:  0.34\n",
      "epochs: 1000 loss train: 1.542860357001032 Accuracy train: 0.4328571428571429 loss val: 2.173159548391095 Accuracy validation:  0.342\n"
     ]
    },
    {
     "data": {
      "text/plain": [
       "(2.3454913579320795, 0.3321660830415208)"
      ]
     },
     "execution_count": 16,
     "metadata": {},
     "output_type": "execute_result"
    }
   ],
   "source": [
    "nn.train(x_train, y_train,x_validation, y_validation, epochs=1001,batch_size = 128)\n",
    "nn.test(x_test,y_test)"
   ]
  },
  {
   "cell_type": "code",
   "execution_count": 17,
   "metadata": {},
   "outputs": [
    {
     "name": "stdout",
     "output_type": "stream",
     "text": [
      "epochs: 0 loss train: 1.5428570824495722 Accuracy train: 0.4328571428571429 loss val: 2.1731263499253806 Accuracy validation:  0.342\n",
      "epochs: 100 loss train: 1.539591414975932 Accuracy train: 0.43342857142857144 loss val: 2.172094045043696 Accuracy validation:  0.343\n",
      "epochs: 200 loss train: 1.5363112663709424 Accuracy train: 0.43485714285714283 loss val: 2.170835788914384 Accuracy validation:  0.344\n",
      "epochs: 300 loss train: 1.5331862334712465 Accuracy train: 0.43685714285714283 loss val: 2.169832666217916 Accuracy validation:  0.346\n",
      "epochs: 400 loss train: 1.5300680850884252 Accuracy train: 0.43885714285714283 loss val: 2.169165733268116 Accuracy validation:  0.346\n",
      "epochs: 500 loss train: 1.5270469586561908 Accuracy train: 0.43957142857142856 loss val: 2.168222993212501 Accuracy validation:  0.347\n",
      "epochs: 600 loss train: 1.5239894761260522 Accuracy train: 0.44085714285714284 loss val: 2.167100122113633 Accuracy validation:  0.348\n",
      "epochs: 700 loss train: 1.5211081387922183 Accuracy train: 0.44114285714285717 loss val: 2.1664136844681945 Accuracy validation:  0.348\n",
      "epochs: 800 loss train: 1.5180954698980684 Accuracy train: 0.44242857142857145 loss val: 2.165638963374928 Accuracy validation:  0.351\n",
      "epochs: 900 loss train: 1.5145352669984569 Accuracy train: 0.4431428571428571 loss val: 2.164631728108115 Accuracy validation:  0.353\n",
      "epochs: 1000 loss train: 1.511420213924264 Accuracy train: 0.44385714285714284 loss val: 2.1634758753968235 Accuracy validation:  0.353\n"
     ]
    },
    {
     "data": {
      "text/plain": [
       "(2.3449469801555067, 0.3381690845422711)"
      ]
     },
     "execution_count": 17,
     "metadata": {},
     "output_type": "execute_result"
    }
   ],
   "source": [
    "nn.train(x_train, y_train,x_validation, y_validation, epochs=1001,batch_size = 128)\n",
    "nn.test(x_test,y_test)"
   ]
  },
  {
   "cell_type": "code",
   "execution_count": 18,
   "metadata": {},
   "outputs": [
    {
     "name": "stdout",
     "output_type": "stream",
     "text": [
      "epochs: 0 loss train: 1.5115244528389695 Accuracy train: 0.4437142857142857 loss val: 2.1636329108476735 Accuracy validation:  0.353\n",
      "epochs: 100 loss train: 1.5086093676007482 Accuracy train: 0.4441428571428571 loss val: 2.162684349736181 Accuracy validation:  0.353\n",
      "epochs: 200 loss train: 1.5059881835648143 Accuracy train: 0.4451428571428571 loss val: 2.1621194738963343 Accuracy validation:  0.354\n",
      "epochs: 300 loss train: 1.5033134150441478 Accuracy train: 0.44542857142857145 loss val: 2.1613978574352997 Accuracy validation:  0.356\n",
      "epochs: 400 loss train: 1.5006186646267778 Accuracy train: 0.44557142857142856 loss val: 2.1607487992463077 Accuracy validation:  0.356\n",
      "epochs: 500 loss train: 1.4980310713297924 Accuracy train: 0.4461428571428571 loss val: 2.1601545791055448 Accuracy validation:  0.357\n",
      "epochs: 600 loss train: 1.4954622585024262 Accuracy train: 0.44685714285714284 loss val: 2.1596608092742717 Accuracy validation:  0.357\n",
      "epochs: 700 loss train: 1.4926939871547953 Accuracy train: 0.44757142857142856 loss val: 2.1589354652223807 Accuracy validation:  0.356\n",
      "epochs: 800 loss train: 1.4898310595689395 Accuracy train: 0.4471428571428571 loss val: 2.158189839299423 Accuracy validation:  0.357\n",
      "epochs: 900 loss train: 1.4869425688562103 Accuracy train: 0.4482857142857143 loss val: 2.1574561442844726 Accuracy validation:  0.358\n",
      "epochs: 1000 loss train: 1.4841503143818588 Accuracy train: 0.4491428571428571 loss val: 2.1567471746208597 Accuracy validation:  0.358\n"
     ]
    },
    {
     "data": {
      "text/plain": [
       "(2.346979427555554, 0.3416708354177089)"
      ]
     },
     "execution_count": 18,
     "metadata": {},
     "output_type": "execute_result"
    }
   ],
   "source": [
    "nn.train(x_train, y_train,x_validation, y_validation, epochs=1001,batch_size = 128)\n",
    "nn.test(x_test,y_test)"
   ]
  },
  {
   "cell_type": "code",
   "execution_count": 19,
   "metadata": {},
   "outputs": [
    {
     "name": "stdout",
     "output_type": "stream",
     "text": [
      "epochs: 0 loss train: 1.4841294196332435 Accuracy train: 0.4491428571428571 loss val: 2.156766952739689 Accuracy validation:  0.358\n",
      "epochs: 100 loss train: 1.48129381150026 Accuracy train: 0.45071428571428573 loss val: 2.1564370877366903 Accuracy validation:  0.36\n",
      "epochs: 200 loss train: 1.4783799733074372 Accuracy train: 0.451 loss val: 2.1557303924071434 Accuracy validation:  0.36\n",
      "epochs: 300 loss train: 1.4757653732074565 Accuracy train: 0.45085714285714285 loss val: 2.155474458551255 Accuracy validation:  0.361\n",
      "epochs: 400 loss train: 1.472902106947103 Accuracy train: 0.45157142857142857 loss val: 2.155057171365136 Accuracy validation:  0.362\n",
      "epochs: 500 loss train: 1.4701337832424917 Accuracy train: 0.4522857142857143 loss val: 2.154292797168188 Accuracy validation:  0.364\n",
      "epochs: 600 loss train: 1.4673411893991903 Accuracy train: 0.45385714285714285 loss val: 2.153631399297262 Accuracy validation:  0.365\n",
      "epochs: 700 loss train: 1.4645924447023289 Accuracy train: 0.45385714285714285 loss val: 2.152871906778541 Accuracy validation:  0.366\n",
      "epochs: 800 loss train: 1.4617306584995102 Accuracy train: 0.45557142857142857 loss val: 2.151952473462853 Accuracy validation:  0.365\n",
      "epochs: 900 loss train: 1.4591504469380623 Accuracy train: 0.4562857142857143 loss val: 2.1513362037446515 Accuracy validation:  0.365\n",
      "epochs: 1000 loss train: 1.4566720016084538 Accuracy train: 0.457 loss val: 2.150585312727365 Accuracy validation:  0.367\n"
     ]
    },
    {
     "data": {
      "text/plain": [
       "(2.3523436008099674, 0.344672336168084)"
      ]
     },
     "execution_count": 19,
     "metadata": {},
     "output_type": "execute_result"
    }
   ],
   "source": [
    "nn.train(x_train, y_train,x_validation, y_validation, epochs=1001,batch_size = 128)\n",
    "nn.test(x_test,y_test)"
   ]
  },
  {
   "cell_type": "code",
   "execution_count": 20,
   "metadata": {},
   "outputs": [
    {
     "name": "stdout",
     "output_type": "stream",
     "text": [
      "epochs: 0 loss train: 1.4565813548179103 Accuracy train: 0.45714285714285713 loss val: 2.150603010732242 Accuracy validation:  0.367\n",
      "epochs: 100 loss train: 1.453983319148216 Accuracy train: 0.4572857142857143 loss val: 2.149723908865769 Accuracy validation:  0.368\n",
      "epochs: 200 loss train: 1.4514204180559847 Accuracy train: 0.458 loss val: 2.1491937572058806 Accuracy validation:  0.37\n",
      "epochs: 300 loss train: 1.4491050780725911 Accuracy train: 0.459 loss val: 2.14878070030379 Accuracy validation:  0.37\n",
      "epochs: 400 loss train: 1.4466677134313373 Accuracy train: 0.4605714285714286 loss val: 2.1482090763346995 Accuracy validation:  0.37\n",
      "epochs: 500 loss train: 1.4444195868456435 Accuracy train: 0.4612857142857143 loss val: 2.1478792710303956 Accuracy validation:  0.37\n",
      "epochs: 600 loss train: 1.4421533252017709 Accuracy train: 0.462 loss val: 2.14738881147481 Accuracy validation:  0.37\n",
      "epochs: 700 loss train: 1.4399123666358447 Accuracy train: 0.46314285714285713 loss val: 2.1471027069398696 Accuracy validation:  0.371\n",
      "epochs: 800 loss train: 1.4376355318141303 Accuracy train: 0.464 loss val: 2.1467243285473483 Accuracy validation:  0.37\n",
      "epochs: 900 loss train: 1.4352556823923948 Accuracy train: 0.4645714285714286 loss val: 2.1463532953686615 Accuracy validation:  0.37\n",
      "epochs: 1000 loss train: 1.4329165638854646 Accuracy train: 0.4655714285714286 loss val: 2.145687324742071 Accuracy validation:  0.371\n"
     ]
    },
    {
     "data": {
      "text/plain": [
       "(2.357566026025801, 0.34967483741870936)"
      ]
     },
     "execution_count": 20,
     "metadata": {},
     "output_type": "execute_result"
    }
   ],
   "source": [
    "nn.train(x_train, y_train,x_validation, y_validation, epochs=1001,batch_size = 128)\n",
    "nn.test(x_test,y_test)"
   ]
  },
  {
   "cell_type": "code",
   "execution_count": 21,
   "metadata": {},
   "outputs": [
    {
     "name": "stdout",
     "output_type": "stream",
     "text": [
      "epochs: 0 loss train: 1.4328886984163152 Accuracy train: 0.4657142857142857 loss val: 2.145707081050082 Accuracy validation:  0.371\n",
      "epochs: 100 loss train: 1.4306404807113837 Accuracy train: 0.4664285714285714 loss val: 2.1455012116414087 Accuracy validation:  0.372\n",
      "epochs: 200 loss train: 1.4282823396070925 Accuracy train: 0.4675714285714286 loss val: 2.1450358044808553 Accuracy validation:  0.372\n",
      "epochs: 300 loss train: 1.4259599083720775 Accuracy train: 0.4677142857142857 loss val: 2.144646870497346 Accuracy validation:  0.372\n",
      "epochs: 400 loss train: 1.4237372549734504 Accuracy train: 0.4685714285714286 loss val: 2.144284049881947 Accuracy validation:  0.375\n",
      "epochs: 500 loss train: 1.4214650774474769 Accuracy train: 0.46985714285714286 loss val: 2.144034250291681 Accuracy validation:  0.375\n",
      "epochs: 600 loss train: 1.4192967549246664 Accuracy train: 0.47114285714285714 loss val: 2.143749699420978 Accuracy validation:  0.375\n",
      "epochs: 700 loss train: 1.4170376238800901 Accuracy train: 0.4722857142857143 loss val: 2.1435563329368144 Accuracy validation:  0.379\n",
      "epochs: 800 loss train: 1.4146620773125695 Accuracy train: 0.47285714285714286 loss val: 2.1431748460159645 Accuracy validation:  0.378\n",
      "epochs: 900 loss train: 1.4121360298299312 Accuracy train: 0.47385714285714287 loss val: 2.142864062948179 Accuracy validation:  0.378\n",
      "epochs: 1000 loss train: 1.4098504432822192 Accuracy train: 0.474 loss val: 2.1427448905647144 Accuracy validation:  0.377\n"
     ]
    },
    {
     "data": {
      "text/plain": [
       "(2.365048636232729, 0.35617808904452225)"
      ]
     },
     "execution_count": 21,
     "metadata": {},
     "output_type": "execute_result"
    }
   ],
   "source": [
    "nn.train(x_train, y_train,x_validation, y_validation, epochs=1001,batch_size = 128)\n",
    "nn.test(x_test,y_test)"
   ]
  },
  {
   "cell_type": "code",
   "execution_count": 22,
   "metadata": {},
   "outputs": [
    {
     "name": "stdout",
     "output_type": "stream",
     "text": [
      "epochs: 0 loss train: 1.40980198180965 Accuracy train: 0.474 loss val: 2.142646714386551 Accuracy validation:  0.377\n",
      "epochs: 100 loss train: 1.407486344382449 Accuracy train: 0.4747142857142857 loss val: 2.142489572844893 Accuracy validation:  0.378\n",
      "epochs: 200 loss train: 1.4052669751347187 Accuracy train: 0.4755714285714286 loss val: 2.142193902330597 Accuracy validation:  0.379\n",
      "epochs: 300 loss train: 1.4029506986597824 Accuracy train: 0.4755714285714286 loss val: 2.141992651240937 Accuracy validation:  0.379\n",
      "epochs: 400 loss train: 1.4007065443269275 Accuracy train: 0.47714285714285715 loss val: 2.141943223946325 Accuracy validation:  0.379\n",
      "epochs: 500 loss train: 1.3983281286321325 Accuracy train: 0.47814285714285715 loss val: 2.142006345901131 Accuracy validation:  0.379\n",
      "epochs: 600 loss train: 1.3958748903055667 Accuracy train: 0.4785714285714286 loss val: 2.1420521969230206 Accuracy validation:  0.379\n",
      "epochs: 700 loss train: 1.39342441511926 Accuracy train: 0.479 loss val: 2.1417458621658887 Accuracy validation:  0.38\n",
      "epochs: 800 loss train: 1.3910867018520983 Accuracy train: 0.48014285714285715 loss val: 2.142106765413925 Accuracy validation:  0.38\n",
      "epochs: 900 loss train: 1.3888739368970122 Accuracy train: 0.48014285714285715 loss val: 2.141888999165367 Accuracy validation:  0.38\n",
      "epochs: 1000 loss train: 1.38674620335888 Accuracy train: 0.48128571428571426 loss val: 2.1419453455626583 Accuracy validation:  0.379\n"
     ]
    },
    {
     "data": {
      "text/plain": [
       "(2.37711559401242, 0.3601800900450225)"
      ]
     },
     "execution_count": 22,
     "metadata": {},
     "output_type": "execute_result"
    }
   ],
   "source": [
    "nn.train(x_train, y_train,x_validation, y_validation, epochs=1001,batch_size = 128)\n",
    "nn.test(x_test,y_test)"
   ]
  },
  {
   "cell_type": "code",
   "execution_count": 23,
   "metadata": {},
   "outputs": [
    {
     "name": "stdout",
     "output_type": "stream",
     "text": [
      "epochs: 0 loss train: 1.3867196104200006 Accuracy train: 0.48114285714285715 loss val: 2.1420002574374384 Accuracy validation:  0.379\n",
      "epochs: 100 loss train: 1.3846166170174112 Accuracy train: 0.4815714285714286 loss val: 2.142137751130855 Accuracy validation:  0.379\n",
      "epochs: 200 loss train: 1.382517529975388 Accuracy train: 0.4827142857142857 loss val: 2.1421279158450304 Accuracy validation:  0.378\n",
      "epochs: 300 loss train: 1.3802578518868673 Accuracy train: 0.4835714285714286 loss val: 2.1420816549460486 Accuracy validation:  0.377\n",
      "epochs: 400 loss train: 1.378316748995285 Accuracy train: 0.48414285714285715 loss val: 2.142319386785636 Accuracy validation:  0.376\n",
      "epochs: 500 loss train: 1.3761756932491769 Accuracy train: 0.485 loss val: 2.142313010943339 Accuracy validation:  0.376\n",
      "epochs: 600 loss train: 1.3740998016091817 Accuracy train: 0.4857142857142857 loss val: 2.142208355848547 Accuracy validation:  0.377\n",
      "epochs: 700 loss train: 1.3720607006121057 Accuracy train: 0.48642857142857143 loss val: 2.1425536549837365 Accuracy validation:  0.377\n",
      "epochs: 800 loss train: 1.3700118207019707 Accuracy train: 0.48742857142857143 loss val: 2.142675212092165 Accuracy validation:  0.378\n",
      "epochs: 900 loss train: 1.3678373578245415 Accuracy train: 0.48814285714285716 loss val: 2.1427090403796667 Accuracy validation:  0.377\n",
      "epochs: 1000 loss train: 1.3658270151983691 Accuracy train: 0.4887142857142857 loss val: 2.142970502417223 Accuracy validation:  0.376\n"
     ]
    },
    {
     "data": {
      "text/plain": [
       "(2.390689511822882, 0.35967983991996)"
      ]
     },
     "execution_count": 23,
     "metadata": {},
     "output_type": "execute_result"
    }
   ],
   "source": [
    "nn.train(x_train, y_train,x_validation, y_validation, epochs=1001,batch_size = 128)\n",
    "nn.test(x_test,y_test)"
   ]
  },
  {
   "cell_type": "code",
   "execution_count": 24,
   "metadata": {},
   "outputs": [
    {
     "name": "stdout",
     "output_type": "stream",
     "text": [
      "epochs: 0 loss train: 1.3657335988707715 Accuracy train: 0.4887142857142857 loss val: 2.142894238668128 Accuracy validation:  0.376\n",
      "epochs: 100 loss train: 1.3634704807193412 Accuracy train: 0.48957142857142855 loss val: 2.1431604342837534 Accuracy validation:  0.376\n",
      "epochs: 200 loss train: 1.361259425071896 Accuracy train: 0.4897142857142857 loss val: 2.1432491185286904 Accuracy validation:  0.376\n",
      "epochs: 300 loss train: 1.3593652785319235 Accuracy train: 0.4907142857142857 loss val: 2.143446306651248 Accuracy validation:  0.378\n",
      "epochs: 400 loss train: 1.3573766077515164 Accuracy train: 0.4918571428571429 loss val: 2.1436159027567587 Accuracy validation:  0.379\n",
      "epochs: 500 loss train: 1.3552828601917792 Accuracy train: 0.49242857142857144 loss val: 2.1434918622711314 Accuracy validation:  0.379\n",
      "epochs: 600 loss train: 1.353228495163308 Accuracy train: 0.49342857142857144 loss val: 2.1433928689176103 Accuracy validation:  0.379\n",
      "epochs: 700 loss train: 1.3513555774112753 Accuracy train: 0.49357142857142855 loss val: 2.1434792778013536 Accuracy validation:  0.38\n",
      "epochs: 800 loss train: 1.349429449230568 Accuracy train: 0.4942857142857143 loss val: 2.1434429223088616 Accuracy validation:  0.381\n",
      "epochs: 900 loss train: 1.3474317831239906 Accuracy train: 0.4957142857142857 loss val: 2.1432734201207193 Accuracy validation:  0.382\n",
      "epochs: 1000 loss train: 1.3455416091651755 Accuracy train: 0.49614285714285716 loss val: 2.143377204259161 Accuracy validation:  0.381\n"
     ]
    },
    {
     "data": {
      "text/plain": [
       "(2.4047232565310033, 0.3611805902951476)"
      ]
     },
     "execution_count": 24,
     "metadata": {},
     "output_type": "execute_result"
    }
   ],
   "source": [
    "nn.train(x_train, y_train,x_validation, y_validation, epochs=1001,batch_size = 128)\n",
    "nn.test(x_test,y_test)"
   ]
  },
  {
   "cell_type": "code",
   "execution_count": 25,
   "metadata": {},
   "outputs": [
    {
     "name": "stdout",
     "output_type": "stream",
     "text": [
      "epochs: 0 loss train: 1.3454976360708382 Accuracy train: 0.4962857142857143 loss val: 2.143298045861827 Accuracy validation:  0.381\n",
      "epochs: 100 loss train: 1.3435825367794099 Accuracy train: 0.4967142857142857 loss val: 2.143493948513069 Accuracy validation:  0.381\n",
      "epochs: 200 loss train: 1.3416406393296956 Accuracy train: 0.4972857142857143 loss val: 2.1435378949813844 Accuracy validation:  0.381\n",
      "epochs: 300 loss train: 1.339850348755778 Accuracy train: 0.4967142857142857 loss val: 2.143598245968087 Accuracy validation:  0.382\n",
      "epochs: 400 loss train: 1.3380132709777208 Accuracy train: 0.4972857142857143 loss val: 2.143762552165159 Accuracy validation:  0.383\n",
      "epochs: 500 loss train: 1.3361805195658525 Accuracy train: 0.49785714285714283 loss val: 2.143856138802929 Accuracy validation:  0.382\n",
      "epochs: 600 loss train: 1.3344782933630153 Accuracy train: 0.499 loss val: 2.14421687703331 Accuracy validation:  0.382\n",
      "epochs: 700 loss train: 1.3326538354302497 Accuracy train: 0.499 loss val: 2.1444575994189368 Accuracy validation:  0.382\n",
      "epochs: 800 loss train: 1.3307973534891626 Accuracy train: 0.49985714285714283 loss val: 2.1442903990451003 Accuracy validation:  0.381\n",
      "epochs: 900 loss train: 1.3289557170714155 Accuracy train: 0.5001428571428571 loss val: 2.144379616683395 Accuracy validation:  0.381\n",
      "epochs: 1000 loss train: 1.3272855862810233 Accuracy train: 0.5002857142857143 loss val: 2.1447653625848817 Accuracy validation:  0.382\n"
     ]
    },
    {
     "data": {
      "text/plain": [
       "(2.4161318981735533, 0.36218109054527264)"
      ]
     },
     "execution_count": 25,
     "metadata": {},
     "output_type": "execute_result"
    }
   ],
   "source": [
    "nn.train(x_train, y_train,x_validation, y_validation, epochs=1001,batch_size = 128)\n",
    "nn.test(x_test,y_test)"
   ]
  },
  {
   "cell_type": "code",
   "execution_count": 26,
   "metadata": {},
   "outputs": [
    {
     "name": "stdout",
     "output_type": "stream",
     "text": [
      "epochs: 0 loss train: 1.3272793581926734 Accuracy train: 0.5002857142857143 loss val: 2.1447527692958563 Accuracy validation:  0.382\n",
      "epochs: 100 loss train: 1.325415944387516 Accuracy train: 0.5004285714285714 loss val: 2.1449945408317745 Accuracy validation:  0.383\n",
      "epochs: 200 loss train: 1.3238237741603007 Accuracy train: 0.5001428571428571 loss val: 2.1455078574215247 Accuracy validation:  0.382\n",
      "epochs: 300 loss train: 1.3220689738976403 Accuracy train: 0.5002857142857143 loss val: 2.1458663279776604 Accuracy validation:  0.383\n",
      "epochs: 400 loss train: 1.3203770980158411 Accuracy train: 0.5011428571428571 loss val: 2.1465503428197263 Accuracy validation:  0.382\n",
      "epochs: 500 loss train: 1.3186374119431785 Accuracy train: 0.5017142857142857 loss val: 2.1471501534519013 Accuracy validation:  0.383\n",
      "epochs: 600 loss train: 1.3168242223371154 Accuracy train: 0.5034285714285714 loss val: 2.1478551744403243 Accuracy validation:  0.384\n",
      "epochs: 700 loss train: 1.3147254861196795 Accuracy train: 0.5044285714285714 loss val: 2.148954556503083 Accuracy validation:  0.383\n",
      "epochs: 800 loss train: 1.3126044786967284 Accuracy train: 0.5051428571428571 loss val: 2.150077149229297 Accuracy validation:  0.383\n",
      "epochs: 900 loss train: 1.3105657160133581 Accuracy train: 0.5058571428571429 loss val: 2.150784283307808 Accuracy validation:  0.383\n",
      "epochs: 1000 loss train: 1.3086361665561097 Accuracy train: 0.5064285714285715 loss val: 2.151640788639913 Accuracy validation:  0.384\n"
     ]
    },
    {
     "data": {
      "text/plain": [
       "(2.4296057480924786, 0.3611805902951476)"
      ]
     },
     "execution_count": 26,
     "metadata": {},
     "output_type": "execute_result"
    }
   ],
   "source": [
    "nn.train(x_train, y_train,x_validation, y_validation, epochs=1001,batch_size = 128)\n",
    "nn.test(x_test,y_test)"
   ]
  },
  {
   "cell_type": "code",
   "execution_count": 27,
   "metadata": {},
   "outputs": [
    {
     "name": "stdout",
     "output_type": "stream",
     "text": [
      "epochs: 0 loss train: 1.308629247207611 Accuracy train: 0.5064285714285715 loss val: 2.151795180861216 Accuracy validation:  0.384\n",
      "epochs: 100 loss train: 1.3066492954578783 Accuracy train: 0.507 loss val: 2.1525216513477816 Accuracy validation:  0.384\n",
      "epochs: 200 loss train: 1.3047448190684847 Accuracy train: 0.5078571428571429 loss val: 2.153271687055149 Accuracy validation:  0.382\n",
      "epochs: 300 loss train: 1.3028020713511594 Accuracy train: 0.5082857142857143 loss val: 2.153974686093452 Accuracy validation:  0.382\n",
      "epochs: 400 loss train: 1.3009761032917544 Accuracy train: 0.5087142857142857 loss val: 2.154701113565281 Accuracy validation:  0.382\n",
      "epochs: 500 loss train: 1.2992077432215772 Accuracy train: 0.509 loss val: 2.15550777887143 Accuracy validation:  0.382\n",
      "epochs: 600 loss train: 1.2974139665724125 Accuracy train: 0.5094285714285715 loss val: 2.1562972640747837 Accuracy validation:  0.382\n",
      "epochs: 700 loss train: 1.295497209275606 Accuracy train: 0.51 loss val: 2.157011705041888 Accuracy validation:  0.382\n",
      "epochs: 800 loss train: 1.2935816505988615 Accuracy train: 0.5105714285714286 loss val: 2.1575613806303258 Accuracy validation:  0.382\n",
      "epochs: 900 loss train: 1.291817369406253 Accuracy train: 0.5111428571428571 loss val: 2.1585099232964633 Accuracy validation:  0.383\n",
      "epochs: 1000 loss train: 1.2900461275932449 Accuracy train: 0.512 loss val: 2.1591374083247135 Accuracy validation:  0.384\n"
     ]
    },
    {
     "data": {
      "text/plain": [
       "(2.445425447219333, 0.3626813406703352)"
      ]
     },
     "execution_count": 27,
     "metadata": {},
     "output_type": "execute_result"
    }
   ],
   "source": [
    "nn.train(x_train, y_train,x_validation, y_validation, epochs=1001,batch_size = 128)\n",
    "nn.test(x_test,y_test)"
   ]
  },
  {
   "cell_type": "code",
   "execution_count": 28,
   "metadata": {},
   "outputs": [
    {
     "name": "stdout",
     "output_type": "stream",
     "text": [
      "epochs: 0 loss train: 1.28995394150134 Accuracy train: 0.512 loss val: 2.1590975339960767 Accuracy validation:  0.384\n",
      "epochs: 100 loss train: 1.2879593106377742 Accuracy train: 0.5128571428571429 loss val: 2.159938335683103 Accuracy validation:  0.385\n",
      "epochs: 200 loss train: 1.286196090692025 Accuracy train: 0.5132857142857142 loss val: 2.1611313692792673 Accuracy validation:  0.386\n",
      "epochs: 300 loss train: 1.28438915577352 Accuracy train: 0.5144285714285715 loss val: 2.1617789643318184 Accuracy validation:  0.385\n",
      "epochs: 400 loss train: 1.2824653686733098 Accuracy train: 0.5145714285714286 loss val: 2.162303622106699 Accuracy validation:  0.386\n",
      "epochs: 500 loss train: 1.280590539532242 Accuracy train: 0.5152857142857142 loss val: 2.1629011681502823 Accuracy validation:  0.389\n",
      "epochs: 600 loss train: 1.2787535421351932 Accuracy train: 0.516 loss val: 2.163391507235601 Accuracy validation:  0.387\n",
      "epochs: 700 loss train: 1.2769538916394996 Accuracy train: 0.5158571428571429 loss val: 2.1639761459669784 Accuracy validation:  0.387\n",
      "epochs: 800 loss train: 1.2752510600979023 Accuracy train: 0.516 loss val: 2.164583613240715 Accuracy validation:  0.385\n",
      "epochs: 900 loss train: 1.2735819941471604 Accuracy train: 0.5158571428571429 loss val: 2.1651955103793954 Accuracy validation:  0.385\n",
      "epochs: 1000 loss train: 1.2717917963145253 Accuracy train: 0.517 loss val: 2.1655761246780236 Accuracy validation:  0.385\n"
     ]
    },
    {
     "data": {
      "text/plain": [
       "(2.4616665019588426, 0.36568284142071034)"
      ]
     },
     "execution_count": 28,
     "metadata": {},
     "output_type": "execute_result"
    }
   ],
   "source": [
    "nn.train(x_train, y_train,x_validation, y_validation, epochs=1001,batch_size = 128)\n",
    "nn.test(x_test,y_test)"
   ]
  },
  {
   "cell_type": "code",
   "execution_count": 29,
   "metadata": {},
   "outputs": [
    {
     "name": "stdout",
     "output_type": "stream",
     "text": [
      "epochs: 0 loss train: 1.2716766296353448 Accuracy train: 0.5172857142857142 loss val: 2.1655470456292103 Accuracy validation:  0.384\n",
      "epochs: 100 loss train: 1.2700086263255437 Accuracy train: 0.5171428571428571 loss val: 2.165958065503911 Accuracy validation:  0.384\n",
      "epochs: 200 loss train: 1.2683165687849975 Accuracy train: 0.5178571428571429 loss val: 2.166653313763521 Accuracy validation:  0.383\n",
      "epochs: 300 loss train: 1.266599307125259 Accuracy train: 0.5184285714285715 loss val: 2.1671841681460817 Accuracy validation:  0.382\n",
      "epochs: 400 loss train: 1.2649225933254569 Accuracy train: 0.5197142857142857 loss val: 2.168127462062413 Accuracy validation:  0.382\n",
      "epochs: 500 loss train: 1.262989190771031 Accuracy train: 0.5202857142857142 loss val: 2.1694592426619557 Accuracy validation:  0.384\n",
      "epochs: 600 loss train: 1.2611753979388671 Accuracy train: 0.521 loss val: 2.170434528994477 Accuracy validation:  0.388\n",
      "epochs: 700 loss train: 1.259231736183003 Accuracy train: 0.5221428571428571 loss val: 2.1708168079393992 Accuracy validation:  0.389\n",
      "epochs: 800 loss train: 1.2576025034917937 Accuracy train: 0.5224285714285715 loss val: 2.171849449233248 Accuracy validation:  0.391\n",
      "epochs: 900 loss train: 1.255795565864803 Accuracy train: 0.523 loss val: 2.172587550379515 Accuracy validation:  0.391\n",
      "epochs: 1000 loss train: 1.2539794166800227 Accuracy train: 0.5241428571428571 loss val: 2.1731489648512072 Accuracy validation:  0.392\n"
     ]
    },
    {
     "data": {
      "text/plain": [
       "(2.478528649093433, 0.3696848424212106)"
      ]
     },
     "execution_count": 29,
     "metadata": {},
     "output_type": "execute_result"
    }
   ],
   "source": [
    "nn.train(x_train, y_train,x_validation, y_validation, epochs=1001,batch_size = 128)\n",
    "nn.test(x_test,y_test)"
   ]
  },
  {
   "cell_type": "code",
   "execution_count": 30,
   "metadata": {},
   "outputs": [
    {
     "name": "stdout",
     "output_type": "stream",
     "text": [
      "epochs: 0 loss train: 1.2540624663073712 Accuracy train: 0.5242857142857142 loss val: 2.173231927201363 Accuracy validation:  0.392\n",
      "epochs: 100 loss train: 1.2523782640168553 Accuracy train: 0.5242857142857142 loss val: 2.1736783540911664 Accuracy validation:  0.393\n",
      "epochs: 200 loss train: 1.2507576026159397 Accuracy train: 0.5252857142857142 loss val: 2.174197931220109 Accuracy validation:  0.393\n",
      "epochs: 300 loss train: 1.2490065239367631 Accuracy train: 0.5258571428571429 loss val: 2.1745988220048065 Accuracy validation:  0.394\n",
      "epochs: 400 loss train: 1.2475698478547923 Accuracy train: 0.5257142857142857 loss val: 2.1753265729824385 Accuracy validation:  0.393\n",
      "epochs: 500 loss train: 1.2458844140981236 Accuracy train: 0.5261428571428571 loss val: 2.1757470727231367 Accuracy validation:  0.394\n",
      "epochs: 600 loss train: 1.244322829756112 Accuracy train: 0.527 loss val: 2.176311781586886 Accuracy validation:  0.393\n",
      "epochs: 700 loss train: 1.24275205179272 Accuracy train: 0.528 loss val: 2.17690944655746 Accuracy validation:  0.394\n",
      "epochs: 800 loss train: 1.2411896379020686 Accuracy train: 0.5288571428571428 loss val: 2.1774345940378343 Accuracy validation:  0.393\n",
      "epochs: 900 loss train: 1.2395816803329247 Accuracy train: 0.5295714285714286 loss val: 2.177743714404165 Accuracy validation:  0.395\n",
      "epochs: 1000 loss train: 1.2379476848558355 Accuracy train: 0.5295714285714286 loss val: 2.1775700414080736 Accuracy validation:  0.396\n"
     ]
    },
    {
     "data": {
      "text/plain": [
       "(2.495835853241341, 0.36818409204602304)"
      ]
     },
     "execution_count": 30,
     "metadata": {},
     "output_type": "execute_result"
    }
   ],
   "source": [
    "nn.train(x_train, y_train,x_validation, y_validation, epochs=1001,batch_size = 128)\n",
    "nn.test(x_test,y_test)"
   ]
  },
  {
   "cell_type": "code",
   "execution_count": 31,
   "metadata": {},
   "outputs": [
    {
     "name": "stdout",
     "output_type": "stream",
     "text": [
      "epochs: 0 loss train: 1.2378860484538188 Accuracy train: 0.5295714285714286 loss val: 2.177616633931756 Accuracy validation:  0.396\n",
      "epochs: 100 loss train: 1.2362629514497065 Accuracy train: 0.5297142857142857 loss val: 2.1778606014983866 Accuracy validation:  0.396\n",
      "epochs: 200 loss train: 1.2347517008546225 Accuracy train: 0.53 loss val: 2.1783663412644447 Accuracy validation:  0.398\n",
      "epochs: 300 loss train: 1.2331644577928735 Accuracy train: 0.5305714285714286 loss val: 2.178892341771296 Accuracy validation:  0.399\n",
      "epochs: 400 loss train: 1.2315874445427404 Accuracy train: 0.5312857142857143 loss val: 2.179527306652017 Accuracy validation:  0.399\n",
      "epochs: 500 loss train: 1.2298558830088189 Accuracy train: 0.5324285714285715 loss val: 2.1798501155894026 Accuracy validation:  0.401\n",
      "epochs: 600 loss train: 1.2276024658088867 Accuracy train: 0.5347142857142857 loss val: 2.180958749052527 Accuracy validation:  0.401\n",
      "epochs: 700 loss train: 1.225310082015951 Accuracy train: 0.5351428571428571 loss val: 2.1812178780852944 Accuracy validation:  0.401\n",
      "epochs: 800 loss train: 1.2235947356717085 Accuracy train: 0.5354285714285715 loss val: 2.181876206415182 Accuracy validation:  0.402\n",
      "epochs: 900 loss train: 1.2218935377437183 Accuracy train: 0.5362857142857143 loss val: 2.1821985750125195 Accuracy validation:  0.403\n",
      "epochs: 1000 loss train: 1.220172838854066 Accuracy train: 0.5372857142857143 loss val: 2.1826685868217095 Accuracy validation:  0.403\n"
     ]
    },
    {
     "data": {
      "text/plain": [
       "(2.511741344072342, 0.3706853426713357)"
      ]
     },
     "execution_count": 31,
     "metadata": {},
     "output_type": "execute_result"
    }
   ],
   "source": [
    "nn.train(x_train, y_train,x_validation, y_validation, epochs=1001,batch_size = 128)\n",
    "nn.test(x_test,y_test)"
   ]
  },
  {
   "cell_type": "code",
   "execution_count": 32,
   "metadata": {},
   "outputs": [
    {
     "name": "stdout",
     "output_type": "stream",
     "text": [
      "epochs: 0 loss train: 1.2201926649794423 Accuracy train: 0.5371428571428571 loss val: 2.1826234491847463 Accuracy validation:  0.403\n",
      "epochs: 100 loss train: 1.2187199194095484 Accuracy train: 0.5371428571428571 loss val: 2.1832368086181537 Accuracy validation:  0.405\n",
      "epochs: 200 loss train: 1.2168858074192554 Accuracy train: 0.5377142857142857 loss val: 2.183449853473833 Accuracy validation:  0.405\n",
      "epochs: 300 loss train: 1.2151720004331736 Accuracy train: 0.5385714285714286 loss val: 2.183972014459833 Accuracy validation:  0.405\n",
      "epochs: 400 loss train: 1.213498009508633 Accuracy train: 0.539 loss val: 2.184552385738918 Accuracy validation:  0.406\n",
      "epochs: 500 loss train: 1.211928190171407 Accuracy train: 0.5394285714285715 loss val: 2.185003006873261 Accuracy validation:  0.407\n",
      "epochs: 600 loss train: 1.2103160620256583 Accuracy train: 0.5394285714285715 loss val: 2.1853811851462916 Accuracy validation:  0.408\n",
      "epochs: 700 loss train: 1.2086773178668946 Accuracy train: 0.5397142857142857 loss val: 2.1859502624739737 Accuracy validation:  0.411\n",
      "epochs: 800 loss train: 1.2071815271941793 Accuracy train: 0.5398571428571428 loss val: 2.1864628130457997 Accuracy validation:  0.411\n",
      "epochs: 900 loss train: 1.205526726769424 Accuracy train: 0.5405714285714286 loss val: 2.1868190459886185 Accuracy validation:  0.411\n",
      "epochs: 1000 loss train: 1.2040536340474823 Accuracy train: 0.5408571428571428 loss val: 2.187476810784517 Accuracy validation:  0.412\n"
     ]
    },
    {
     "data": {
      "text/plain": [
       "(2.5291597718041388, 0.37168584292146073)"
      ]
     },
     "execution_count": 32,
     "metadata": {},
     "output_type": "execute_result"
    }
   ],
   "source": [
    "nn.train(x_train, y_train,x_validation, y_validation, epochs=1001,batch_size = 128)\n",
    "nn.test(x_test,y_test)"
   ]
  },
  {
   "cell_type": "code",
   "execution_count": 33,
   "metadata": {},
   "outputs": [
    {
     "name": "stdout",
     "output_type": "stream",
     "text": [
      "epochs: 0 loss train: 1.203999500600958 Accuracy train: 0.5411428571428571 loss val: 2.187440180038452 Accuracy validation:  0.412\n",
      "epochs: 100 loss train: 1.2025278012955738 Accuracy train: 0.5417142857142857 loss val: 2.1879536070289323 Accuracy validation:  0.414\n",
      "epochs: 200 loss train: 1.2009257052107072 Accuracy train: 0.5421428571428571 loss val: 2.1882787594555277 Accuracy validation:  0.415\n",
      "epochs: 300 loss train: 1.1995408751417658 Accuracy train: 0.5418571428571428 loss val: 2.1891818314287126 Accuracy validation:  0.415\n",
      "epochs: 400 loss train: 1.1980402269676977 Accuracy train: 0.5422857142857143 loss val: 2.1899768979423664 Accuracy validation:  0.415\n",
      "epochs: 500 loss train: 1.1964848401189219 Accuracy train: 0.542 loss val: 2.1908815376477295 Accuracy validation:  0.414\n",
      "epochs: 600 loss train: 1.1946036458391747 Accuracy train: 0.5427142857142857 loss val: 2.191292027360583 Accuracy validation:  0.415\n",
      "epochs: 700 loss train: 1.1927652936653304 Accuracy train: 0.5431428571428571 loss val: 2.1920631439251417 Accuracy validation:  0.415\n",
      "epochs: 800 loss train: 1.191240782137213 Accuracy train: 0.5434285714285715 loss val: 2.193011066027825 Accuracy validation:  0.417\n",
      "epochs: 900 loss train: 1.1896515001676424 Accuracy train: 0.5438571428571428 loss val: 2.1935006788802243 Accuracy validation:  0.418\n",
      "epochs: 1000 loss train: 1.1880667451545859 Accuracy train: 0.545 loss val: 2.193979855360676 Accuracy validation:  0.418\n"
     ]
    },
    {
     "data": {
      "text/plain": [
       "(2.54619121240117, 0.375687843921961)"
      ]
     },
     "execution_count": 33,
     "metadata": {},
     "output_type": "execute_result"
    }
   ],
   "source": [
    "nn.train(x_train, y_train,x_validation, y_validation, epochs=1001,batch_size = 128)\n",
    "nn.test(x_test,y_test)"
   ]
  },
  {
   "cell_type": "code",
   "execution_count": 35,
   "metadata": {},
   "outputs": [
    {
     "name": "stdout",
     "output_type": "stream",
     "text": [
      "epochs: 0 loss train: 12.437584812292645 Accuracy train: 0.09885714285714285 loss val: 12.431612251236647 Accuracy validation:  0.099\n",
      "epochs: 100 loss train: 3.9170871716675033 Accuracy train: 0.198 loss val: 4.0625426273612595 Accuracy validation:  0.176\n",
      "epochs: 200 loss train: 2.627519103560179 Accuracy train: 0.21671428571428572 loss val: 3.08160771230373 Accuracy validation:  0.18\n",
      "epochs: 300 loss train: 2.3102417341975823 Accuracy train: 0.246 loss val: 2.8661935966263203 Accuracy validation:  0.188\n",
      "epochs: 400 loss train: 2.1358102133433614 Accuracy train: 0.26385714285714285 loss val: 2.7449916216968235 Accuracy validation:  0.199\n",
      "epochs: 500 loss train: 2.0299844822116713 Accuracy train: 0.2824285714285714 loss val: 2.671116951435005 Accuracy validation:  0.2\n",
      "epochs: 600 loss train: 1.9595312083883267 Accuracy train: 0.2947142857142857 loss val: 2.6002084721101073 Accuracy validation:  0.205\n",
      "epochs: 700 loss train: 1.906628550808555 Accuracy train: 0.3117142857142857 loss val: 2.5450332537125266 Accuracy validation:  0.216\n",
      "epochs: 800 loss train: 1.8685722806260783 Accuracy train: 0.32057142857142856 loss val: 2.509084971441943 Accuracy validation:  0.221\n",
      "epochs: 900 loss train: 1.8400997812961206 Accuracy train: 0.3385714285714286 loss val: 2.4837662735348185 Accuracy validation:  0.246\n",
      "epochs: 1000 loss train: 1.8156467220128558 Accuracy train: 0.34414285714285714 loss val: 2.4640606072374784 Accuracy validation:  0.249\n"
     ]
    },
    {
     "data": {
      "text/plain": [
       "(2.6431830071054985, 0.21310655327663833)"
      ]
     },
     "execution_count": 35,
     "metadata": {},
     "output_type": "execute_result"
    }
   ],
   "source": [
    "from MLP_autograd import *\n",
    "nn = NeuralNetwork(layers_size=[32*32*3,256, 10],activations = [\"relu\", \"softmax\"],lossFunction = \"crossEntropy\", l_rate=0.01)\n",
    "nn.train(x_train, y_train,x_validation, y_validation, epochs=1001,batch_size = 128)\n",
    "nn.test(x_test,y_test)"
   ]
  },
  {
   "cell_type": "code",
   "execution_count": 36,
   "metadata": {},
   "outputs": [
    {
     "name": "stdout",
     "output_type": "stream",
     "text": [
      "epochs: 0 loss train: 1.815409469279602 Accuracy train: 0.3442857142857143 loss val: 2.463797740722088 Accuracy validation:  0.248\n",
      "epochs: 100 loss train: 1.793323177947034 Accuracy train: 0.348 loss val: 2.4513789747042574 Accuracy validation:  0.257\n",
      "epochs: 200 loss train: 1.774157554472659 Accuracy train: 0.35114285714285715 loss val: 2.439433452899652 Accuracy validation:  0.256\n",
      "epochs: 300 loss train: 1.757215808623707 Accuracy train: 0.3512857142857143 loss val: 2.4288350264323713 Accuracy validation:  0.259\n",
      "epochs: 400 loss train: 1.7417963020309637 Accuracy train: 0.35514285714285715 loss val: 2.418532207748558 Accuracy validation:  0.258\n",
      "epochs: 500 loss train: 1.7260961324281296 Accuracy train: 0.3628571428571429 loss val: 2.4094317690209452 Accuracy validation:  0.27\n",
      "epochs: 600 loss train: 1.7099538051584178 Accuracy train: 0.36642857142857144 loss val: 2.398294297361143 Accuracy validation:  0.276\n",
      "epochs: 700 loss train: 1.696069893220427 Accuracy train: 0.371 loss val: 2.3886464048230844 Accuracy validation:  0.282\n",
      "epochs: 800 loss train: 1.6820666360096177 Accuracy train: 0.3692857142857143 loss val: 2.3825114811349155 Accuracy validation:  0.285\n",
      "epochs: 900 loss train: 1.6711134040666134 Accuracy train: 0.36828571428571427 loss val: 2.3766866892967635 Accuracy validation:  0.283\n",
      "epochs: 1000 loss train: 1.661696802843372 Accuracy train: 0.37414285714285717 loss val: 2.3740819864227354 Accuracy validation:  0.287\n"
     ]
    },
    {
     "data": {
      "text/plain": [
       "(2.601397036696896, 0.2481240620310155)"
      ]
     },
     "execution_count": 36,
     "metadata": {},
     "output_type": "execute_result"
    }
   ],
   "source": [
    "nn.train(x_train, y_train,x_validation, y_validation, epochs=1001,batch_size = 128)\n",
    "nn.test(x_test,y_test)"
   ]
  },
  {
   "cell_type": "code",
   "execution_count": 37,
   "metadata": {},
   "outputs": [
    {
     "name": "stdout",
     "output_type": "stream",
     "text": [
      "epochs: 0 loss train: 1.6615922028883061 Accuracy train: 0.37414285714285717 loss val: 2.374064788648524 Accuracy validation:  0.287\n",
      "epochs: 100 loss train: 1.6502682449553363 Accuracy train: 0.37614285714285717 loss val: 2.370011958047519 Accuracy validation:  0.284\n",
      "epochs: 200 loss train: 1.63944286776317 Accuracy train: 0.3787142857142857 loss val: 2.367756707791935 Accuracy validation:  0.285\n",
      "epochs: 300 loss train: 1.628924008028103 Accuracy train: 0.3807142857142857 loss val: 2.36272594818553 Accuracy validation:  0.285\n",
      "epochs: 400 loss train: 1.6220419956364538 Accuracy train: 0.382 loss val: 2.3620112937363578 Accuracy validation:  0.285\n",
      "epochs: 500 loss train: 1.615505335894789 Accuracy train: 0.382 loss val: 2.362686607540938 Accuracy validation:  0.291\n",
      "epochs: 600 loss train: 1.6088488634699871 Accuracy train: 0.38442857142857145 loss val: 2.360957850488946 Accuracy validation:  0.292\n",
      "epochs: 700 loss train: 1.6010081973814774 Accuracy train: 0.387 loss val: 2.358085871270269 Accuracy validation:  0.292\n",
      "epochs: 800 loss train: 1.5920227384717007 Accuracy train: 0.3904285714285714 loss val: 2.353317344265618 Accuracy validation:  0.294\n",
      "epochs: 900 loss train: 1.5845487622195407 Accuracy train: 0.3952857142857143 loss val: 2.3501850036093774 Accuracy validation:  0.302\n",
      "epochs: 1000 loss train: 1.5756864962664883 Accuracy train: 0.3992857142857143 loss val: 2.3460363165861593 Accuracy validation:  0.303\n"
     ]
    },
    {
     "data": {
      "text/plain": [
       "(2.593519993406636, 0.26163081540770383)"
      ]
     },
     "execution_count": 37,
     "metadata": {},
     "output_type": "execute_result"
    }
   ],
   "source": [
    "nn.train(x_train, y_train,x_validation, y_validation, epochs=1001,batch_size = 128)\n",
    "nn.test(x_test,y_test)"
   ]
  },
  {
   "cell_type": "code",
   "execution_count": 38,
   "metadata": {},
   "outputs": [
    {
     "name": "stdout",
     "output_type": "stream",
     "text": [
      "epochs: 0 loss train: 1.5756179665201724 Accuracy train: 0.3994285714285714 loss val: 2.3461509526782773 Accuracy validation:  0.303\n",
      "epochs: 100 loss train: 1.5683907591068778 Accuracy train: 0.40214285714285714 loss val: 2.342704945984061 Accuracy validation:  0.304\n",
      "epochs: 200 loss train: 1.5614197470711817 Accuracy train: 0.4042857142857143 loss val: 2.3395804718136906 Accuracy validation:  0.306\n",
      "epochs: 300 loss train: 1.5546079399061712 Accuracy train: 0.40685714285714286 loss val: 2.337408418649108 Accuracy validation:  0.305\n",
      "epochs: 400 loss train: 1.5478499040593587 Accuracy train: 0.40685714285714286 loss val: 2.3346146948081588 Accuracy validation:  0.306\n",
      "epochs: 500 loss train: 1.5414814884143635 Accuracy train: 0.4087142857142857 loss val: 2.3322419866901787 Accuracy validation:  0.308\n",
      "epochs: 600 loss train: 1.5352867875751612 Accuracy train: 0.41214285714285714 loss val: 2.3300816395839443 Accuracy validation:  0.311\n",
      "epochs: 700 loss train: 1.5293579997233135 Accuracy train: 0.4142857142857143 loss val: 2.328736620872965 Accuracy validation:  0.317\n",
      "epochs: 800 loss train: 1.5237501493224477 Accuracy train: 0.417 loss val: 2.3283121640933517 Accuracy validation:  0.32\n",
      "epochs: 900 loss train: 1.5176068082017196 Accuracy train: 0.41928571428571426 loss val: 2.326808814667644 Accuracy validation:  0.322\n",
      "epochs: 1000 loss train: 1.51169317308794 Accuracy train: 0.4217142857142857 loss val: 2.324849011864257 Accuracy validation:  0.324\n"
     ]
    },
    {
     "data": {
      "text/plain": [
       "(2.5952922860094527, 0.2876438219109555)"
      ]
     },
     "execution_count": 38,
     "metadata": {},
     "output_type": "execute_result"
    }
   ],
   "source": [
    "nn.train(x_train, y_train,x_validation, y_validation, epochs=1001,batch_size = 128)\n",
    "nn.test(x_test,y_test)"
   ]
  },
  {
   "cell_type": "code",
   "execution_count": 39,
   "metadata": {},
   "outputs": [
    {
     "name": "stdout",
     "output_type": "stream",
     "text": [
      "epochs: 0 loss train: 1.5116230565538094 Accuracy train: 0.422 loss val: 2.324961796195996 Accuracy validation:  0.324\n",
      "epochs: 100 loss train: 1.5055498532186264 Accuracy train: 0.4257142857142857 loss val: 2.3228708761503922 Accuracy validation:  0.325\n",
      "epochs: 200 loss train: 1.5002355040960291 Accuracy train: 0.42942857142857144 loss val: 2.3215556552852767 Accuracy validation:  0.327\n",
      "epochs: 300 loss train: 1.4951659425289874 Accuracy train: 0.4317142857142857 loss val: 2.32063851276597 Accuracy validation:  0.327\n",
      "epochs: 400 loss train: 1.4902315810514102 Accuracy train: 0.43442857142857144 loss val: 2.3192327706937164 Accuracy validation:  0.326\n",
      "epochs: 500 loss train: 1.4849420135867266 Accuracy train: 0.43685714285714283 loss val: 2.3176870242682237 Accuracy validation:  0.327\n",
      "epochs: 600 loss train: 1.4802888461823789 Accuracy train: 0.4387142857142857 loss val: 2.3167684386097376 Accuracy validation:  0.333\n",
      "epochs: 700 loss train: 1.4759327826253112 Accuracy train: 0.441 loss val: 2.3162766442101965 Accuracy validation:  0.334\n",
      "epochs: 800 loss train: 1.4714846526599328 Accuracy train: 0.4421428571428571 loss val: 2.3150858657812394 Accuracy validation:  0.337\n",
      "epochs: 900 loss train: 1.4675099633795492 Accuracy train: 0.444 loss val: 2.31471613312927 Accuracy validation:  0.337\n",
      "epochs: 1000 loss train: 1.4635329790756004 Accuracy train: 0.44542857142857145 loss val: 2.314468751246991 Accuracy validation:  0.338\n"
     ]
    },
    {
     "data": {
      "text/plain": [
       "(2.6046222285796325, 0.2971485742871436)"
      ]
     },
     "execution_count": 39,
     "metadata": {},
     "output_type": "execute_result"
    }
   ],
   "source": [
    "nn.train(x_train, y_train,x_validation, y_validation, epochs=1001,batch_size = 128)\n",
    "nn.test(x_test,y_test)"
   ]
  },
  {
   "cell_type": "code",
   "execution_count": 40,
   "metadata": {},
   "outputs": [
    {
     "name": "stdout",
     "output_type": "stream",
     "text": [
      "epochs: 0 loss train: 1.463480145847721 Accuracy train: 0.44542857142857145 loss val: 2.3144694786495013 Accuracy validation:  0.338\n",
      "epochs: 100 loss train: 1.4597277536401656 Accuracy train: 0.4461428571428571 loss val: 2.3140751562001225 Accuracy validation:  0.339\n",
      "epochs: 200 loss train: 1.4553423573126436 Accuracy train: 0.44771428571428573 loss val: 2.3132553617324785 Accuracy validation:  0.341\n",
      "epochs: 300 loss train: 1.4507955479347423 Accuracy train: 0.4492857142857143 loss val: 2.3145769835388847 Accuracy validation:  0.338\n",
      "epochs: 400 loss train: 1.4467506692001693 Accuracy train: 0.451 loss val: 2.3138065000456733 Accuracy validation:  0.34\n",
      "epochs: 500 loss train: 1.4417665499964658 Accuracy train: 0.4524285714285714 loss val: 2.3119689918024484 Accuracy validation:  0.339\n",
      "epochs: 600 loss train: 1.4365437225986921 Accuracy train: 0.45485714285714285 loss val: 2.310124813425143 Accuracy validation:  0.341\n",
      "epochs: 700 loss train: 1.4328487195799633 Accuracy train: 0.4575714285714286 loss val: 2.309501105904313 Accuracy validation:  0.344\n",
      "epochs: 800 loss train: 1.4290105885027502 Accuracy train: 0.46114285714285713 loss val: 2.309273054735762 Accuracy validation:  0.344\n",
      "epochs: 900 loss train: 1.4244800969317843 Accuracy train: 0.46214285714285713 loss val: 2.3079097102132136 Accuracy validation:  0.344\n",
      "epochs: 1000 loss train: 1.4205048532871583 Accuracy train: 0.4642857142857143 loss val: 2.3076868464080533 Accuracy validation:  0.346\n"
     ]
    },
    {
     "data": {
      "text/plain": [
       "(2.6140016781070816, 0.31115557778889447)"
      ]
     },
     "execution_count": 40,
     "metadata": {},
     "output_type": "execute_result"
    }
   ],
   "source": [
    "nn.train(x_train, y_train,x_validation, y_validation, epochs=1001,batch_size = 128)\n",
    "nn.test(x_test,y_test)"
   ]
  },
  {
   "cell_type": "code",
   "execution_count": 41,
   "metadata": {},
   "outputs": [
    {
     "name": "stdout",
     "output_type": "stream",
     "text": [
      "epochs: 0 loss train: 1.4204602508530662 Accuracy train: 0.4642857142857143 loss val: 2.3077492922466107 Accuracy validation:  0.346\n",
      "epochs: 100 loss train: 1.4174807176839526 Accuracy train: 0.4662857142857143 loss val: 2.3079071005397744 Accuracy validation:  0.347\n",
      "epochs: 200 loss train: 1.414106379100166 Accuracy train: 0.468 loss val: 2.3076469846714533 Accuracy validation:  0.346\n",
      "epochs: 300 loss train: 1.4112347079372343 Accuracy train: 0.4674285714285714 loss val: 2.307914469943819 Accuracy validation:  0.345\n",
      "epochs: 400 loss train: 1.4084290059345146 Accuracy train: 0.4692857142857143 loss val: 2.3083145250341595 Accuracy validation:  0.345\n",
      "epochs: 500 loss train: 1.4057927029779256 Accuracy train: 0.47014285714285714 loss val: 2.3090350057123015 Accuracy validation:  0.347\n",
      "epochs: 600 loss train: 1.4026608187424343 Accuracy train: 0.4714285714285714 loss val: 2.3086539825458767 Accuracy validation:  0.349\n",
      "epochs: 700 loss train: 1.398951585755824 Accuracy train: 0.4725714285714286 loss val: 2.3077455287679163 Accuracy validation:  0.347\n",
      "epochs: 800 loss train: 1.3957609710515144 Accuracy train: 0.4732857142857143 loss val: 2.3069560956417066 Accuracy validation:  0.346\n",
      "epochs: 900 loss train: 1.3918925410164402 Accuracy train: 0.4742857142857143 loss val: 2.3054885177825044 Accuracy validation:  0.345\n",
      "epochs: 1000 loss train: 1.3880540183061407 Accuracy train: 0.4752857142857143 loss val: 2.3045228469467123 Accuracy validation:  0.346\n"
     ]
    },
    {
     "data": {
      "text/plain": [
       "(2.628448145189535, 0.3141570785392696)"
      ]
     },
     "execution_count": 41,
     "metadata": {},
     "output_type": "execute_result"
    }
   ],
   "source": [
    "nn.train(x_train, y_train,x_validation, y_validation, epochs=1001,batch_size = 128)\n",
    "nn.test(x_test,y_test)"
   ]
  },
  {
   "cell_type": "code",
   "execution_count": 42,
   "metadata": {},
   "outputs": [
    {
     "name": "stdout",
     "output_type": "stream",
     "text": [
      "epochs: 0 loss train: 1.388008485586147 Accuracy train: 0.4752857142857143 loss val: 2.3044329439213542 Accuracy validation:  0.346\n",
      "epochs: 100 loss train: 1.384497033884844 Accuracy train: 0.47585714285714287 loss val: 2.303761720630536 Accuracy validation:  0.346\n",
      "epochs: 200 loss train: 1.3809355517879942 Accuracy train: 0.4784285714285714 loss val: 2.3029221558273565 Accuracy validation:  0.35\n",
      "epochs: 300 loss train: 1.3777626993129555 Accuracy train: 0.47985714285714287 loss val: 2.3025978214104144 Accuracy validation:  0.35\n",
      "epochs: 400 loss train: 1.3741574418764482 Accuracy train: 0.482 loss val: 2.301554707732722 Accuracy validation:  0.349\n",
      "epochs: 500 loss train: 1.370686085357312 Accuracy train: 0.4838571428571429 loss val: 2.301094198835396 Accuracy validation:  0.35\n",
      "epochs: 600 loss train: 1.3673430114445209 Accuracy train: 0.4857142857142857 loss val: 2.300966190568323 Accuracy validation:  0.352\n",
      "epochs: 700 loss train: 1.3644342860993237 Accuracy train: 0.48628571428571427 loss val: 2.3015707725031467 Accuracy validation:  0.353\n",
      "epochs: 800 loss train: 1.3617379617531566 Accuracy train: 0.48828571428571427 loss val: 2.3027471899867944 Accuracy validation:  0.351\n",
      "epochs: 900 loss train: 1.3583195506324655 Accuracy train: 0.48914285714285716 loss val: 2.3032865051421703 Accuracy validation:  0.352\n",
      "epochs: 1000 loss train: 1.3550070737044717 Accuracy train: 0.4907142857142857 loss val: 2.3038399341747744 Accuracy validation:  0.353\n"
     ]
    },
    {
     "data": {
      "text/plain": [
       "(2.632952948115883, 0.31915957978989495)"
      ]
     },
     "execution_count": 42,
     "metadata": {},
     "output_type": "execute_result"
    }
   ],
   "source": [
    "nn.train(x_train, y_train,x_validation, y_validation, epochs=1001,batch_size = 128)\n",
    "nn.test(x_test,y_test)"
   ]
  },
  {
   "cell_type": "code",
   "execution_count": 43,
   "metadata": {},
   "outputs": [
    {
     "name": "stdout",
     "output_type": "stream",
     "text": [
      "epochs: 0 loss train: 1.3549697547764032 Accuracy train: 0.491 loss val: 2.30379040122341 Accuracy validation:  0.353\n",
      "epochs: 100 loss train: 1.351608912042945 Accuracy train: 0.4917142857142857 loss val: 2.303665701633913 Accuracy validation:  0.357\n",
      "epochs: 200 loss train: 1.3483564065013693 Accuracy train: 0.49357142857142855 loss val: 2.303506967988519 Accuracy validation:  0.357\n",
      "epochs: 300 loss train: 1.3451194295278812 Accuracy train: 0.49457142857142855 loss val: 2.303300403120349 Accuracy validation:  0.356\n",
      "epochs: 400 loss train: 1.3417433829198049 Accuracy train: 0.49657142857142855 loss val: 2.3030964896119794 Accuracy validation:  0.358\n",
      "epochs: 500 loss train: 1.3382648767547964 Accuracy train: 0.4972857142857143 loss val: 2.302927788184238 Accuracy validation:  0.357\n",
      "epochs: 600 loss train: 1.334785598561864 Accuracy train: 0.49842857142857144 loss val: 2.302861721336907 Accuracy validation:  0.36\n",
      "epochs: 700 loss train: 1.3313643512601612 Accuracy train: 0.49914285714285717 loss val: 2.30329774524759 Accuracy validation:  0.361\n",
      "epochs: 800 loss train: 1.3279417710280041 Accuracy train: 0.5007142857142857 loss val: 2.303232288156313 Accuracy validation:  0.361\n",
      "epochs: 900 loss train: 1.3245494011059247 Accuracy train: 0.5014285714285714 loss val: 2.3030127578763087 Accuracy validation:  0.361\n",
      "epochs: 1000 loss train: 1.32140337838241 Accuracy train: 0.5034285714285714 loss val: 2.303124716168812 Accuracy validation:  0.361\n"
     ]
    },
    {
     "data": {
      "text/plain": [
       "(2.6362267660871583, 0.3261630815407704)"
      ]
     },
     "execution_count": 43,
     "metadata": {},
     "output_type": "execute_result"
    }
   ],
   "source": [
    "nn.train(x_train, y_train,x_validation, y_validation, epochs=1001,batch_size = 128)\n",
    "nn.test(x_test,y_test)"
   ]
  },
  {
   "cell_type": "code",
   "execution_count": 44,
   "metadata": {},
   "outputs": [
    {
     "name": "stdout",
     "output_type": "stream",
     "text": [
      "epochs: 0 loss train: 1.3213919549977753 Accuracy train: 0.5034285714285714 loss val: 2.3031935833475607 Accuracy validation:  0.361\n",
      "epochs: 100 loss train: 1.3180754522075746 Accuracy train: 0.5041428571428571 loss val: 2.3030505526353786 Accuracy validation:  0.361\n",
      "epochs: 200 loss train: 1.3150462789298705 Accuracy train: 0.5061428571428571 loss val: 2.3031837439692318 Accuracy validation:  0.364\n",
      "epochs: 300 loss train: 1.311808428417308 Accuracy train: 0.5071428571428571 loss val: 2.303456714635399 Accuracy validation:  0.364\n",
      "epochs: 400 loss train: 1.308614181870608 Accuracy train: 0.5087142857142857 loss val: 2.30347831349032 Accuracy validation:  0.365\n",
      "epochs: 500 loss train: 1.305288752528439 Accuracy train: 0.51 loss val: 2.3036938671461287 Accuracy validation:  0.366\n",
      "epochs: 600 loss train: 1.3018825353313819 Accuracy train: 0.5108571428571429 loss val: 2.30382135229336 Accuracy validation:  0.365\n",
      "epochs: 700 loss train: 1.2984285950867682 Accuracy train: 0.5118571428571429 loss val: 2.3046405923384117 Accuracy validation:  0.367\n",
      "epochs: 800 loss train: 1.294884193230724 Accuracy train: 0.5125714285714286 loss val: 2.304566263708818 Accuracy validation:  0.367\n",
      "epochs: 900 loss train: 1.2915386694420798 Accuracy train: 0.5132857142857142 loss val: 2.304916446655648 Accuracy validation:  0.368\n",
      "epochs: 1000 loss train: 1.2882741764457593 Accuracy train: 0.5141428571428571 loss val: 2.3048085782829424 Accuracy validation:  0.37\n"
     ]
    },
    {
     "data": {
      "text/plain": [
       "(2.640518957022451, 0.33366683341670833)"
      ]
     },
     "execution_count": 44,
     "metadata": {},
     "output_type": "execute_result"
    }
   ],
   "source": [
    "nn.train(x_train, y_train,x_validation, y_validation, epochs=1001,batch_size = 128)\n",
    "nn.test(x_test,y_test)"
   ]
  },
  {
   "cell_type": "code",
   "execution_count": 45,
   "metadata": {},
   "outputs": [
    {
     "name": "stdout",
     "output_type": "stream",
     "text": [
      "epochs: 0 loss train: 1.2882034296304974 Accuracy train: 0.5142857142857142 loss val: 2.3048008449671076 Accuracy validation:  0.37\n",
      "epochs: 100 loss train: 1.2850067481719267 Accuracy train: 0.5161428571428571 loss val: 2.304905822122556 Accuracy validation:  0.371\n",
      "epochs: 200 loss train: 1.2816048274941636 Accuracy train: 0.5174285714285715 loss val: 2.3047740518527635 Accuracy validation:  0.374\n",
      "epochs: 300 loss train: 1.2782007995838731 Accuracy train: 0.5178571428571429 loss val: 2.3044210663510913 Accuracy validation:  0.376\n",
      "epochs: 400 loss train: 1.2748828254119593 Accuracy train: 0.5195714285714286 loss val: 2.3041486010442775 Accuracy validation:  0.378\n",
      "epochs: 500 loss train: 1.271550651001925 Accuracy train: 0.5205714285714286 loss val: 2.3036732608830017 Accuracy validation:  0.379\n",
      "epochs: 600 loss train: 1.2684242151388572 Accuracy train: 0.5212857142857142 loss val: 2.303200878928754 Accuracy validation:  0.379\n",
      "epochs: 700 loss train: 1.2651534701961988 Accuracy train: 0.524 loss val: 2.302621355559466 Accuracy validation:  0.379\n",
      "epochs: 800 loss train: 1.2617821479543545 Accuracy train: 0.5251428571428571 loss val: 2.301236751669061 Accuracy validation:  0.378\n",
      "epochs: 900 loss train: 1.2585732575226294 Accuracy train: 0.5267142857142857 loss val: 2.300988829168806 Accuracy validation:  0.376\n",
      "epochs: 1000 loss train: 1.2552736023054183 Accuracy train: 0.5274285714285715 loss val: 2.301481758866921 Accuracy validation:  0.376\n"
     ]
    },
    {
     "data": {
      "text/plain": [
       "(2.6468438581331775, 0.34667333666833416)"
      ]
     },
     "execution_count": 45,
     "metadata": {},
     "output_type": "execute_result"
    }
   ],
   "source": [
    "nn.train(x_train, y_train,x_validation, y_validation, epochs=1001,batch_size = 128)\n",
    "nn.test(x_test,y_test)"
   ]
  },
  {
   "cell_type": "code",
   "execution_count": 46,
   "metadata": {},
   "outputs": [
    {
     "name": "stdout",
     "output_type": "stream",
     "text": [
      "epochs: 0 loss train: 12.447025984577857 Accuracy train: 0.09885714285714285 loss val: 12.453704224840935 Accuracy validation:  0.098\n",
      "epochs: 100 loss train: 7.26308795918607 Accuracy train: 0.3251428571428571 loss val: 8.258116497898461 Accuracy validation:  0.262\n",
      "epochs: 200 loss train: 3.5088015835405018 Accuracy train: 0.391 loss val: 5.052019309667027 Accuracy validation:  0.275\n",
      "epochs: 300 loss train: 2.5277803338441336 Accuracy train: 0.462 loss val: 4.320488718242574 Accuracy validation:  0.315\n",
      "epochs: 400 loss train: 2.0370061294686432 Accuracy train: 0.5195714285714286 loss val: 3.960641093452297 Accuracy validation:  0.346\n",
      "epochs: 500 loss train: 1.7326606207123347 Accuracy train: 0.5667142857142857 loss val: 3.7587335404212814 Accuracy validation:  0.376\n",
      "epochs: 600 loss train: 1.5166749803925912 Accuracy train: 0.5938571428571429 loss val: 3.5979244398254204 Accuracy validation:  0.387\n",
      "epochs: 700 loss train: 1.3589339071696886 Accuracy train: 0.6161428571428571 loss val: 3.472994893755688 Accuracy validation:  0.398\n",
      "epochs: 800 loss train: 1.2419062719457485 Accuracy train: 0.636 loss val: 3.3754431315504476 Accuracy validation:  0.408\n",
      "epochs: 900 loss train: 1.1533896170961844 Accuracy train: 0.6498571428571429 loss val: 3.3063423020594436 Accuracy validation:  0.416\n",
      "epochs: 1000 loss train: 1.0858016772443067 Accuracy train: 0.6631428571428571 loss val: 3.253225963447431 Accuracy validation:  0.419\n"
     ]
    },
    {
     "data": {
      "text/plain": [
       "(4.167793002971325, 0.3456728364182091)"
      ]
     },
     "execution_count": 46,
     "metadata": {},
     "output_type": "execute_result"
    }
   ],
   "source": [
    "from MLP_autograd import *\n",
    "nn = NeuralNetwork(layers_size=[32*32*3,512, 10],activations = [\"relu\", \"softmax\"],lossFunction = \"crossEntropy\", l_rate=0.01)\n",
    "nn.train(x_train, y_train,x_validation, y_validation, epochs=1001,batch_size = 128)\n",
    "nn.test(x_test,y_test)"
   ]
  },
  {
   "cell_type": "code",
   "execution_count": 47,
   "metadata": {},
   "outputs": [
    {
     "name": "stdout",
     "output_type": "stream",
     "text": [
      "epochs: 0 loss train: 1.085233900764303 Accuracy train: 0.6632857142857143 loss val: 3.252597433216268 Accuracy validation:  0.419\n",
      "epochs: 100 loss train: 1.0332772069556793 Accuracy train: 0.6718571428571428 loss val: 3.2148333731409395 Accuracy validation:  0.425\n",
      "epochs: 200 loss train: 0.9915599819880759 Accuracy train: 0.6811428571428572 loss val: 3.1850789606226515 Accuracy validation:  0.43\n",
      "epochs: 300 loss train: 0.9561589786857592 Accuracy train: 0.687 loss val: 3.16122138568124 Accuracy validation:  0.436\n",
      "epochs: 400 loss train: 0.9252832420448408 Accuracy train: 0.6947142857142857 loss val: 3.14055206477847 Accuracy validation:  0.439\n",
      "epochs: 500 loss train: 0.8974240166695999 Accuracy train: 0.701 loss val: 3.1215519363394018 Accuracy validation:  0.441\n",
      "epochs: 600 loss train: 0.872371081602309 Accuracy train: 0.7041428571428572 loss val: 3.104188020229544 Accuracy validation:  0.445\n",
      "epochs: 700 loss train: 0.8498133879726072 Accuracy train: 0.7108571428571429 loss val: 3.088756934813196 Accuracy validation:  0.445\n",
      "epochs: 800 loss train: 0.8300659543377906 Accuracy train: 0.715 loss val: 3.0746517271152243 Accuracy validation:  0.446\n",
      "epochs: 900 loss train: 0.8120717483152544 Accuracy train: 0.7194285714285714 loss val: 3.0620688613134455 Accuracy validation:  0.449\n",
      "epochs: 1000 loss train: 0.7956045339458959 Accuracy train: 0.7237142857142858 loss val: 3.0516137925860214 Accuracy validation:  0.449\n"
     ]
    },
    {
     "data": {
      "text/plain": [
       "(3.979514622817842, 0.375687843921961)"
      ]
     },
     "execution_count": 47,
     "metadata": {},
     "output_type": "execute_result"
    }
   ],
   "source": [
    "nn.train(x_train, y_train,x_validation, y_validation, epochs=1001,batch_size = 128)\n",
    "nn.test(x_test,y_test)"
   ]
  },
  {
   "cell_type": "code",
   "execution_count": 48,
   "metadata": {},
   "outputs": [
    {
     "name": "stdout",
     "output_type": "stream",
     "text": [
      "epochs: 0 loss train: 0.795483069638326 Accuracy train: 0.7238571428571429 loss val: 3.052055317270488 Accuracy validation:  0.449\n",
      "epochs: 100 loss train: 0.779721515895893 Accuracy train: 0.727 loss val: 3.042091589531327 Accuracy validation:  0.455\n",
      "epochs: 200 loss train: 0.7653213941840966 Accuracy train: 0.7301428571428571 loss val: 3.0345253688838856 Accuracy validation:  0.459\n",
      "epochs: 300 loss train: 0.7490198792502132 Accuracy train: 0.74 loss val: 3.0243693149434607 Accuracy validation:  0.469\n",
      "epochs: 400 loss train: 0.7358671819330698 Accuracy train: 0.7448571428571429 loss val: 3.0168312632465795 Accuracy validation:  0.475\n",
      "epochs: 500 loss train: 0.7238925592857492 Accuracy train: 0.7495714285714286 loss val: 3.009062463412309 Accuracy validation:  0.481\n",
      "epochs: 600 loss train: 0.7122413902442503 Accuracy train: 0.7534285714285714 loss val: 3.0008838281744183 Accuracy validation:  0.485\n",
      "epochs: 700 loss train: 0.7012549098500696 Accuracy train: 0.7587142857142857 loss val: 2.9938746782383516 Accuracy validation:  0.489\n",
      "epochs: 800 loss train: 0.6905868678067678 Accuracy train: 0.7608571428571429 loss val: 2.9868303177735074 Accuracy validation:  0.493\n",
      "epochs: 900 loss train: 0.6806122629316119 Accuracy train: 0.7644285714285715 loss val: 2.979151799643872 Accuracy validation:  0.497\n",
      "epochs: 1000 loss train: 0.6711465728977034 Accuracy train: 0.7672857142857142 loss val: 2.9722940561915383 Accuracy validation:  0.5\n"
     ]
    },
    {
     "data": {
      "text/plain": [
       "(3.9298178529149195, 0.3981990995497749)"
      ]
     },
     "execution_count": 48,
     "metadata": {},
     "output_type": "execute_result"
    }
   ],
   "source": [
    "nn.train(x_train, y_train,x_validation, y_validation, epochs=1001,batch_size = 128)\n",
    "nn.test(x_test,y_test)"
   ]
  },
  {
   "cell_type": "code",
   "execution_count": 49,
   "metadata": {},
   "outputs": [
    {
     "name": "stdout",
     "output_type": "stream",
     "text": [
      "epochs: 0 loss train: 0.6710434943061719 Accuracy train: 0.7674285714285715 loss val: 2.972176668370041 Accuracy validation:  0.5\n",
      "epochs: 100 loss train: 0.6621211793795164 Accuracy train: 0.7697142857142857 loss val: 2.9669950946600276 Accuracy validation:  0.502\n",
      "epochs: 200 loss train: 0.6531719907054638 Accuracy train: 0.7717142857142857 loss val: 2.9609918673629765 Accuracy validation:  0.504\n",
      "epochs: 300 loss train: 0.6445925946350873 Accuracy train: 0.776 loss val: 2.954101037682869 Accuracy validation:  0.503\n",
      "epochs: 400 loss train: 0.6362601018947762 Accuracy train: 0.7788571428571428 loss val: 2.9471527215401485 Accuracy validation:  0.503\n",
      "epochs: 500 loss train: 0.6283142554119504 Accuracy train: 0.7812857142857143 loss val: 2.941170225474874 Accuracy validation:  0.506\n",
      "epochs: 600 loss train: 0.6203503963615443 Accuracy train: 0.7844285714285715 loss val: 2.9377664992205546 Accuracy validation:  0.51\n",
      "epochs: 700 loss train: 0.6124958736452217 Accuracy train: 0.7871428571428571 loss val: 2.931960482582933 Accuracy validation:  0.513\n",
      "epochs: 800 loss train: 0.6051754966371982 Accuracy train: 0.7904285714285715 loss val: 2.927070608051346 Accuracy validation:  0.517\n",
      "epochs: 900 loss train: 0.5982294646692996 Accuracy train: 0.7917142857142857 loss val: 2.9222369323441 Accuracy validation:  0.518\n",
      "epochs: 1000 loss train: 0.5915800266440581 Accuracy train: 0.7944285714285715 loss val: 2.9177436752468595 Accuracy validation:  0.518\n"
     ]
    },
    {
     "data": {
      "text/plain": [
       "(3.9186939204161506, 0.41670835417708857)"
      ]
     },
     "execution_count": 49,
     "metadata": {},
     "output_type": "execute_result"
    }
   ],
   "source": [
    "nn.train(x_train, y_train,x_validation, y_validation, epochs=1001,batch_size = 128)\n",
    "nn.test(x_test,y_test)"
   ]
  },
  {
   "cell_type": "code",
   "execution_count": 50,
   "metadata": {},
   "outputs": [
    {
     "name": "stdout",
     "output_type": "stream",
     "text": [
      "epochs: 0 loss train: 12.418791989171886 Accuracy train: 0.10085714285714285 loss val: 12.420143317629877 Accuracy validation:  0.101\n",
      "epochs: 100 loss train: 8.216653824606508 Accuracy train: 0.3454285714285714 loss val: 9.219499028959673 Accuracy validation:  0.284\n",
      "epochs: 200 loss train: 3.9467522451009702 Accuracy train: 0.48742857142857143 loss val: 6.199409236024673 Accuracy validation:  0.365\n",
      "epochs: 300 loss train: 2.5648684665466686 Accuracy train: 0.5695714285714286 loss val: 5.4308807956028575 Accuracy validation:  0.381\n",
      "epochs: 400 loss train: 1.7926202525138353 Accuracy train: 0.6574285714285715 loss val: 4.947052010202804 Accuracy validation:  0.41\n",
      "epochs: 500 loss train: 1.3404761369055762 Accuracy train: 0.7102857142857143 loss val: 4.6065385476132725 Accuracy validation:  0.432\n",
      "epochs: 600 loss train: 1.0525095915180185 Accuracy train: 0.7582857142857143 loss val: 4.360374934041016 Accuracy validation:  0.46\n",
      "epochs: 700 loss train: 0.8646465700905398 Accuracy train: 0.7942857142857143 loss val: 4.194676515773886 Accuracy validation:  0.475\n",
      "epochs: 800 loss train: 0.7322135651547271 Accuracy train: 0.8174285714285714 loss val: 4.081441973326732 Accuracy validation:  0.496\n",
      "epochs: 900 loss train: 0.6371142667883154 Accuracy train: 0.8338571428571429 loss val: 4.0009672175268465 Accuracy validation:  0.505\n",
      "epochs: 1000 loss train: 0.5609484910305003 Accuracy train: 0.8498571428571429 loss val: 3.9127024487504523 Accuracy validation:  0.515\n"
     ]
    },
    {
     "data": {
      "text/plain": [
       "(5.280347824744553, 0.4467233616808404)"
      ]
     },
     "execution_count": 50,
     "metadata": {},
     "output_type": "execute_result"
    }
   ],
   "source": [
    "from MLP_autograd import *\n",
    "nn = NeuralNetwork(layers_size=[32*32*3,640, 10],activations = [\"relu\", \"softmax\"],lossFunction = \"crossEntropy\", l_rate=0.01)\n",
    "nn.train(x_train, y_train,x_validation, y_validation, epochs=1001,batch_size = 128)\n",
    "nn.test(x_test,y_test)"
   ]
  },
  {
   "cell_type": "code",
   "execution_count": 51,
   "metadata": {},
   "outputs": [
    {
     "name": "stdout",
     "output_type": "stream",
     "text": [
      "epochs: 0 loss train: 0.5602196842574672 Accuracy train: 0.85 loss val: 3.9118199932495226 Accuracy validation:  0.515\n",
      "epochs: 100 loss train: 0.5031183191091342 Accuracy train: 0.8597142857142858 loss val: 3.8502199764978053 Accuracy validation:  0.527\n",
      "epochs: 200 loss train: 0.4594615324048733 Accuracy train: 0.8714285714285714 loss val: 3.8098425672201492 Accuracy validation:  0.54\n",
      "epochs: 300 loss train: 0.4249793140988985 Accuracy train: 0.8795714285714286 loss val: 3.7780627727562495 Accuracy validation:  0.551\n",
      "epochs: 400 loss train: 0.396624565183352 Accuracy train: 0.8838571428571429 loss val: 3.752610464224027 Accuracy validation:  0.559\n",
      "epochs: 500 loss train: 0.3727509069349714 Accuracy train: 0.8888571428571429 loss val: 3.736162586020288 Accuracy validation:  0.572\n",
      "epochs: 600 loss train: 0.3527064698616022 Accuracy train: 0.8937142857142857 loss val: 3.7187332333153313 Accuracy validation:  0.578\n",
      "epochs: 700 loss train: 0.3359929860824252 Accuracy train: 0.8992857142857142 loss val: 3.703539381943076 Accuracy validation:  0.582\n",
      "epochs: 800 loss train: 0.32157192872818513 Accuracy train: 0.9032857142857142 loss val: 3.6906272537599634 Accuracy validation:  0.585\n",
      "epochs: 900 loss train: 0.3088759583747857 Accuracy train: 0.9054285714285715 loss val: 3.680928074533402 Accuracy validation:  0.591\n",
      "epochs: 1000 loss train: 0.2975831244314497 Accuracy train: 0.9081428571428571 loss val: 3.6731821211005706 Accuracy validation:  0.593\n"
     ]
    },
    {
     "data": {
      "text/plain": [
       "(4.998686663771664, 0.48624312156078037)"
      ]
     },
     "execution_count": 51,
     "metadata": {},
     "output_type": "execute_result"
    }
   ],
   "source": [
    "nn.train(x_train, y_train,x_validation, y_validation, epochs=1001,batch_size = 128)\n",
    "nn.test(x_test,y_test)"
   ]
  },
  {
   "cell_type": "code",
   "execution_count": 52,
   "metadata": {},
   "outputs": [
    {
     "name": "stdout",
     "output_type": "stream",
     "text": [
      "epochs: 0 loss train: 0.2974706460590248 Accuracy train: 0.9081428571428571 loss val: 3.6729407415124853 Accuracy validation:  0.592\n",
      "epochs: 100 loss train: 0.2873126899202517 Accuracy train: 0.91 loss val: 3.6669464892442547 Accuracy validation:  0.597\n",
      "epochs: 200 loss train: 0.2781625989058254 Accuracy train: 0.9111428571428571 loss val: 3.661880867822112 Accuracy validation:  0.6\n",
      "epochs: 300 loss train: 0.26960445813952505 Accuracy train: 0.9138571428571428 loss val: 3.656713738050739 Accuracy validation:  0.606\n",
      "epochs: 400 loss train: 0.26173049581529245 Accuracy train: 0.916 loss val: 3.65139985158078 Accuracy validation:  0.607\n",
      "epochs: 500 loss train: 0.2547591981447169 Accuracy train: 0.9185714285714286 loss val: 3.646971291808678 Accuracy validation:  0.607\n",
      "epochs: 600 loss train: 0.2482902757969026 Accuracy train: 0.9201428571428572 loss val: 3.6430514584027636 Accuracy validation:  0.611\n",
      "epochs: 700 loss train: 0.24245088829318379 Accuracy train: 0.9215714285714286 loss val: 3.639467310447356 Accuracy validation:  0.613\n",
      "epochs: 800 loss train: 0.23715648274133608 Accuracy train: 0.923 loss val: 3.6357508685805544 Accuracy validation:  0.613\n",
      "epochs: 900 loss train: 0.23226570154053294 Accuracy train: 0.9241428571428572 loss val: 3.632185683291358 Accuracy validation:  0.615\n",
      "epochs: 1000 loss train: 0.2277131756534217 Accuracy train: 0.9258571428571428 loss val: 3.629008706182768 Accuracy validation:  0.616\n"
     ]
    },
    {
     "data": {
      "text/plain": [
       "(4.9044268885814235, 0.5042521260630315)"
      ]
     },
     "execution_count": 52,
     "metadata": {},
     "output_type": "execute_result"
    }
   ],
   "source": [
    "nn.train(x_train, y_train,x_validation, y_validation, epochs=1001,batch_size = 128)\n",
    "nn.test(x_test,y_test)"
   ]
  },
  {
   "cell_type": "code",
   "execution_count": 53,
   "metadata": {},
   "outputs": [
    {
     "name": "stdout",
     "output_type": "stream",
     "text": [
      "epochs: 0 loss train: 0.22767054525322658 Accuracy train: 0.9258571428571428 loss val: 3.6288656886937067 Accuracy validation:  0.617\n",
      "epochs: 100 loss train: 0.22327707665228272 Accuracy train: 0.927 loss val: 3.6261291006039293 Accuracy validation:  0.617\n",
      "epochs: 200 loss train: 0.21881454340133313 Accuracy train: 0.9288571428571428 loss val: 3.6246869429527124 Accuracy validation:  0.622\n",
      "epochs: 300 loss train: 0.21472441508436377 Accuracy train: 0.9305714285714286 loss val: 3.6225638833395655 Accuracy validation:  0.624\n",
      "epochs: 400 loss train: 0.21089871883279804 Accuracy train: 0.9324285714285714 loss val: 3.620191614006812 Accuracy validation:  0.624\n",
      "epochs: 500 loss train: 0.20731544511403144 Accuracy train: 0.9341428571428572 loss val: 3.6188544936004092 Accuracy validation:  0.626\n",
      "epochs: 600 loss train: 0.20394123578712836 Accuracy train: 0.9357142857142857 loss val: 3.617036325711644 Accuracy validation:  0.628\n",
      "epochs: 700 loss train: 0.20065647736181655 Accuracy train: 0.9365714285714286 loss val: 3.614951892365373 Accuracy validation:  0.627\n",
      "epochs: 800 loss train: 0.19756820448398785 Accuracy train: 0.9382857142857143 loss val: 3.613967508978497 Accuracy validation:  0.627\n",
      "epochs: 900 loss train: 0.19463226502108735 Accuracy train: 0.9392857142857143 loss val: 3.613232132838803 Accuracy validation:  0.628\n",
      "epochs: 1000 loss train: 0.19183280229501032 Accuracy train: 0.94 loss val: 3.6125210584087637 Accuracy validation:  0.628\n"
     ]
    },
    {
     "data": {
      "text/plain": [
       "(4.88463523140963, 0.5117558779389695)"
      ]
     },
     "execution_count": 53,
     "metadata": {},
     "output_type": "execute_result"
    }
   ],
   "source": [
    "nn.train(x_train, y_train,x_validation, y_validation, epochs=1001,batch_size = 128)\n",
    "nn.test(x_test,y_test)"
   ]
  },
  {
   "cell_type": "code",
   "execution_count": 54,
   "metadata": {},
   "outputs": [
    {
     "name": "stdout",
     "output_type": "stream",
     "text": [
      "epochs: 0 loss train: 0.1918059677494163 Accuracy train: 0.94 loss val: 3.612506586633418 Accuracy validation:  0.628\n",
      "epochs: 100 loss train: 0.18905898205555455 Accuracy train: 0.9412857142857143 loss val: 3.612477817259957 Accuracy validation:  0.629\n",
      "epochs: 200 loss train: 0.18637963876013477 Accuracy train: 0.9427142857142857 loss val: 3.6114425207057512 Accuracy validation:  0.633\n",
      "epochs: 300 loss train: 0.18379280461029943 Accuracy train: 0.9437142857142857 loss val: 3.6108783626703413 Accuracy validation:  0.633\n",
      "epochs: 400 loss train: 0.1812157043975131 Accuracy train: 0.9447142857142857 loss val: 3.610702122791001 Accuracy validation:  0.634\n",
      "epochs: 500 loss train: 0.17876427817976592 Accuracy train: 0.9454285714285714 loss val: 3.6104619414169092 Accuracy validation:  0.634\n",
      "epochs: 600 loss train: 0.17636193920024285 Accuracy train: 0.946 loss val: 3.6108405188461457 Accuracy validation:  0.635\n",
      "epochs: 700 loss train: 0.1740581761909482 Accuracy train: 0.9464285714285714 loss val: 3.6107285546029217 Accuracy validation:  0.636\n",
      "epochs: 800 loss train: 0.17179302399296603 Accuracy train: 0.9471428571428572 loss val: 3.6108641464325 Accuracy validation:  0.638\n",
      "epochs: 900 loss train: 0.16959535735727074 Accuracy train: 0.9484285714285714 loss val: 3.610946258428803 Accuracy validation:  0.638\n",
      "epochs: 1000 loss train: 0.16735993559783263 Accuracy train: 0.949 loss val: 3.611177250744524 Accuracy validation:  0.639\n"
     ]
    },
    {
     "data": {
      "text/plain": [
       "(4.881134294478161, 0.5152576288144072)"
      ]
     },
     "execution_count": 54,
     "metadata": {},
     "output_type": "execute_result"
    }
   ],
   "source": [
    "nn.train(x_train, y_train,x_validation, y_validation, epochs=1001,batch_size = 128)\n",
    "nn.test(x_test,y_test)"
   ]
  },
  {
   "cell_type": "code",
   "execution_count": 55,
   "metadata": {},
   "outputs": [
    {
     "name": "stdout",
     "output_type": "stream",
     "text": [
      "epochs: 0 loss train: 0.16732452939000347 Accuracy train: 0.949 loss val: 3.6109011746792565 Accuracy validation:  0.639\n",
      "epochs: 100 loss train: 0.16512690521104517 Accuracy train: 0.95 loss val: 3.6115152905739643 Accuracy validation:  0.639\n",
      "epochs: 200 loss train: 0.16302186127019644 Accuracy train: 0.9502857142857143 loss val: 3.6118222150168564 Accuracy validation:  0.639\n",
      "epochs: 300 loss train: 0.16099861492982478 Accuracy train: 0.9508571428571428 loss val: 3.612480558818357 Accuracy validation:  0.642\n",
      "epochs: 400 loss train: 0.15908039850217334 Accuracy train: 0.9514285714285714 loss val: 3.6128807540156105 Accuracy validation:  0.643\n",
      "epochs: 500 loss train: 0.1572411778837171 Accuracy train: 0.9521428571428572 loss val: 3.6137149498283367 Accuracy validation:  0.644\n",
      "epochs: 600 loss train: 0.15544501250867632 Accuracy train: 0.9525714285714286 loss val: 3.6140898569774396 Accuracy validation:  0.643\n",
      "epochs: 700 loss train: 0.15372206567765231 Accuracy train: 0.953 loss val: 3.6148717985293652 Accuracy validation:  0.644\n",
      "epochs: 800 loss train: 0.15206853760525121 Accuracy train: 0.9532857142857143 loss val: 3.615076708260777 Accuracy validation:  0.643\n",
      "epochs: 900 loss train: 0.1504427161406779 Accuracy train: 0.9535714285714286 loss val: 3.616386836957986 Accuracy validation:  0.643\n",
      "epochs: 1000 loss train: 0.14885284458166004 Accuracy train: 0.954 loss val: 3.6176255388856378 Accuracy validation:  0.642\n"
     ]
    },
    {
     "data": {
      "text/plain": [
       "(4.886554233218241, 0.5207603801900951)"
      ]
     },
     "execution_count": 55,
     "metadata": {},
     "output_type": "execute_result"
    }
   ],
   "source": [
    "nn.train(x_train, y_train,x_validation, y_validation, epochs=1001,batch_size = 128)\n",
    "nn.test(x_test,y_test)"
   ]
  },
  {
   "cell_type": "code",
   "execution_count": 56,
   "metadata": {},
   "outputs": [
    {
     "name": "stdout",
     "output_type": "stream",
     "text": [
      "epochs: 0 loss train: 12.440131147295906 Accuracy train: 0.09942857142857142 loss val: 12.430770451930668 Accuracy validation:  0.1\n",
      "epochs: 100 loss train: 9.224475021117362 Accuracy train: 0.308 loss val: 10.033345358405134 Accuracy validation:  0.254\n",
      "epochs: 200 loss train: 5.773411774117357 Accuracy train: 0.4918571428571429 loss val: 7.995214503425533 Accuracy validation:  0.352\n",
      "epochs: 300 loss train: 3.328259067416095 Accuracy train: 0.611 loss val: 6.714851244926949 Accuracy validation:  0.408\n",
      "epochs: 400 loss train: 1.9305738521547096 Accuracy train: 0.7044285714285714 loss val: 5.891426344503376 Accuracy validation:  0.437\n",
      "epochs: 500 loss train: 1.1472944214356486 Accuracy train: 0.779 loss val: 5.347133924258531 Accuracy validation:  0.485\n",
      "epochs: 600 loss train: 0.7069667143063583 Accuracy train: 0.8414285714285714 loss val: 5.001730294576578 Accuracy validation:  0.523\n",
      "epochs: 700 loss train: 0.460116406866935 Accuracy train: 0.8931428571428571 loss val: 4.77834477453891 Accuracy validation:  0.545\n",
      "epochs: 800 loss train: 0.31426855747805205 Accuracy train: 0.932 loss val: 4.6116345570608095 Accuracy validation:  0.566\n",
      "epochs: 900 loss train: 0.2294988394576283 Accuracy train: 0.9551428571428572 loss val: 4.532918439644069 Accuracy validation:  0.59\n",
      "epochs: 1000 loss train: 0.1787773371827135 Accuracy train: 0.9687142857142857 loss val: 4.4985579630345605 Accuracy validation:  0.597\n"
     ]
    },
    {
     "data": {
      "text/plain": [
       "(6.017967760866101, 0.4977488744372186)"
      ]
     },
     "execution_count": 56,
     "metadata": {},
     "output_type": "execute_result"
    }
   ],
   "source": [
    "from MLP_autograd import *\n",
    "nn = NeuralNetwork(layers_size=[32*32*3,768, 10],activations = [\"relu\", \"softmax\"],lossFunction = \"crossEntropy\", l_rate=0.01)\n",
    "nn.train(x_train, y_train,x_validation, y_validation, epochs=1001,batch_size = 128)\n",
    "nn.test(x_test,y_test)"
   ]
  },
  {
   "cell_type": "code",
   "execution_count": 58,
   "metadata": {},
   "outputs": [
    {
     "name": "stdout",
     "output_type": "stream",
     "text": [
      "epochs: 0 loss train: 0.042995855465417 Accuracy train: 0.9941428571428571 loss val: 4.332729680054193 Accuracy validation:  0.633\n",
      "epochs: 100 loss train: 0.03937069493002792 Accuracy train: 0.9947142857142857 loss val: 4.324918671807904 Accuracy validation:  0.635\n",
      "epochs: 200 loss train: 0.036234710850425414 Accuracy train: 0.9952857142857143 loss val: 4.318209950740764 Accuracy validation:  0.636\n",
      "epochs: 300 loss train: 0.033502859902098885 Accuracy train: 0.9957142857142857 loss val: 4.311937760747624 Accuracy validation:  0.639\n",
      "epochs: 400 loss train: 0.031084542306179817 Accuracy train: 0.996 loss val: 4.305994072197996 Accuracy validation:  0.645\n",
      "epochs: 500 loss train: 0.028904399851585303 Accuracy train: 0.9964285714285714 loss val: 4.300328262872682 Accuracy validation:  0.646\n",
      "epochs: 600 loss train: 0.026958495838901392 Accuracy train: 0.9965714285714286 loss val: 4.2941823961835315 Accuracy validation:  0.646\n",
      "epochs: 700 loss train: 0.025126938852288328 Accuracy train: 0.9967142857142857 loss val: 4.289485468083701 Accuracy validation:  0.648\n",
      "epochs: 800 loss train: 0.023462265730702175 Accuracy train: 0.997 loss val: 4.284909598062984 Accuracy validation:  0.651\n",
      "epochs: 900 loss train: 0.0219412847213251 Accuracy train: 0.997 loss val: 4.280839038535109 Accuracy validation:  0.649\n",
      "epochs: 1000 loss train: 0.020540283812707675 Accuracy train: 0.9971428571428571 loss val: 4.276860751663042 Accuracy validation:  0.648\n"
     ]
    },
    {
     "data": {
      "text/plain": [
       "(5.88908838553103, 0.5222611305652827)"
      ]
     },
     "execution_count": 58,
     "metadata": {},
     "output_type": "execute_result"
    }
   ],
   "source": [
    "nn.train(x_train, y_train,x_validation, y_validation, epochs=1001,batch_size = 128)\n",
    "nn.test(x_test,y_test)"
   ]
  },
  {
   "cell_type": "code",
   "execution_count": 3,
   "metadata": {},
   "outputs": [
    {
     "name": "stdout",
     "output_type": "stream",
     "text": [
      "epochs: 0 loss train: 12.439632193623726 Accuracy train: 0.09957142857142857 loss val: 12.433959403757749 Accuracy validation:  0.1\n",
      "epochs: 100 loss train: 2.254336105183463 Accuracy train: 0.12871428571428573 loss val: 2.483627289463806 Accuracy validation:  0.115\n",
      "epochs: 200 loss train: 2.2320344729687847 Accuracy train: 0.12871428571428573 loss val: 2.4658065329071763 Accuracy validation:  0.118\n",
      "epochs: 300 loss train: 2.228656533283064 Accuracy train: 0.12442857142857143 loss val: 2.463397374656008 Accuracy validation:  0.112\n",
      "epochs: 400 loss train: 2.2276136370551556 Accuracy train: 0.12442857142857143 loss val: 2.4632527564518814 Accuracy validation:  0.112\n",
      "epochs: 500 loss train: 2.226729476993801 Accuracy train: 0.12457142857142857 loss val: 2.4630449718680034 Accuracy validation:  0.112\n",
      "epochs: 600 loss train: 2.2261870605677236 Accuracy train: 0.12485714285714286 loss val: 2.4633508582025727 Accuracy validation:  0.112\n",
      "epochs: 700 loss train: 2.225450113925454 Accuracy train: 0.12557142857142858 loss val: 2.4633048202965595 Accuracy validation:  0.112\n",
      "epochs: 800 loss train: 2.2246851656053495 Accuracy train: 0.12571428571428572 loss val: 2.462775464043945 Accuracy validation:  0.112\n",
      "epochs: 900 loss train: 2.224234328797087 Accuracy train: 0.12571428571428572 loss val: 2.4624709840812162 Accuracy validation:  0.112\n",
      "epochs: 1000 loss train: 2.2232767390910526 Accuracy train: 0.126 loss val: 2.461840856056519 Accuracy validation:  0.112\n"
     ]
    },
    {
     "data": {
      "text/plain": [
       "(2.615771951750899, 0.09554777388694347)"
      ]
     },
     "execution_count": 3,
     "metadata": {},
     "output_type": "execute_result"
    }
   ],
   "source": [
    "from MLP_autograd import *\n",
    "nn = NeuralNetwork(layers_size=[32*32*3,768,256, 10],activations = [\"relu\",\"relu\", \"softmax\"],lossFunction = \"crossEntropy\", l_rate=0.01)\n",
    "nn.train(x_train, y_train,x_validation, y_validation, epochs=1001,batch_size = 128)\n",
    "nn.test(x_test,y_test)"
   ]
  },
  {
   "cell_type": "code",
   "execution_count": 4,
   "metadata": {},
   "outputs": [
    {
     "name": "stdout",
     "output_type": "stream",
     "text": [
      "epochs: 0 loss train: 12.433959402167897 Accuracy train: 0.1 loss val: 12.433959402167897 Accuracy validation:  0.1\n",
      "epochs: 100 loss train: 3.909991356960318 Accuracy train: 0.4402857142857143 loss val: 5.781553065575637 Accuracy validation:  0.321\n",
      "epochs: 200 loss train: 2.099316705801503 Accuracy train: 0.5711428571428572 loss val: 4.773096545777689 Accuracy validation:  0.36\n",
      "epochs: 300 loss train: 1.4353068413464665 Accuracy train: 0.651 loss val: 4.3772958529932255 Accuracy validation:  0.384\n",
      "epochs: 400 loss train: 1.1583266802533767 Accuracy train: 0.6885714285714286 loss val: 4.183751987594137 Accuracy validation:  0.389\n",
      "epochs: 500 loss train: 1.0141310542020472 Accuracy train: 0.7048571428571428 loss val: 4.054668553711276 Accuracy validation:  0.406\n",
      "epochs: 600 loss train: 0.9208938704996191 Accuracy train: 0.717 loss val: 3.953458270119726 Accuracy validation:  0.42\n",
      "epochs: 700 loss train: 0.851232465668789 Accuracy train: 0.7257142857142858 loss val: 3.893126779921423 Accuracy validation:  0.422\n",
      "epochs: 800 loss train: 0.8019037962655537 Accuracy train: 0.735 loss val: 3.8517041688159486 Accuracy validation:  0.424\n",
      "epochs: 900 loss train: 0.7660475467210272 Accuracy train: 0.74 loss val: 3.830134665432939 Accuracy validation:  0.431\n",
      "epochs: 1000 loss train: 0.7393149290720276 Accuracy train: 0.7468571428571429 loss val: 3.8171749258691308 Accuracy validation:  0.434\n"
     ]
    },
    {
     "data": {
      "text/plain": [
       "(4.95289470733204, 0.3581790895447724)"
      ]
     },
     "execution_count": 4,
     "metadata": {},
     "output_type": "execute_result"
    }
   ],
   "source": [
    "from MLP_autograd import *\n",
    "nn = NeuralNetwork(layers_size=[64*64*3,768, 10],activations = [\"relu\", \"softmax\"],lossFunction = \"crossEntropy\", l_rate=0.01)\n",
    "nn.train(x_train, y_train,x_validation, y_validation, epochs=1001,batch_size = 128)\n",
    "nn.test(x_test,y_test)"
   ]
  },
  {
   "cell_type": "code",
   "execution_count": 5,
   "metadata": {},
   "outputs": [
    {
     "name": "stdout",
     "output_type": "stream",
     "text": [
      "epochs: 0 loss train: 0.7390667541474838 Accuracy train: 0.747 loss val: 3.8169900107557146 Accuracy validation:  0.434\n",
      "epochs: 100 loss train: 0.7192092449511813 Accuracy train: 0.7508571428571429 loss val: 3.8070959140551395 Accuracy validation:  0.433\n",
      "epochs: 200 loss train: 0.7030794006084276 Accuracy train: 0.7548571428571429 loss val: 3.799763161590957 Accuracy validation:  0.436\n",
      "epochs: 300 loss train: 0.6896447951874274 Accuracy train: 0.7578571428571429 loss val: 3.795247294918767 Accuracy validation:  0.435\n",
      "epochs: 400 loss train: 0.6782482408812184 Accuracy train: 0.7611428571428571 loss val: 3.7919501132761764 Accuracy validation:  0.436\n",
      "epochs: 500 loss train: 0.6686990280018095 Accuracy train: 0.7627142857142857 loss val: 3.7891680144037423 Accuracy validation:  0.438\n",
      "epochs: 600 loss train: 0.6601615927402409 Accuracy train: 0.7637142857142857 loss val: 3.7875521449534295 Accuracy validation:  0.442\n",
      "epochs: 700 loss train: 0.6520520940757674 Accuracy train: 0.7648571428571429 loss val: 3.788309618735491 Accuracy validation:  0.442\n",
      "epochs: 800 loss train: 0.6442389195879477 Accuracy train: 0.7665714285714286 loss val: 3.7891063044749727 Accuracy validation:  0.446\n",
      "epochs: 900 loss train: 0.6372451912785607 Accuracy train: 0.7682857142857142 loss val: 3.7912511326098253 Accuracy validation:  0.447\n",
      "epochs: 1000 loss train: 0.6305565865911816 Accuracy train: 0.7694285714285715 loss val: 3.7917050680137443 Accuracy validation:  0.448\n"
     ]
    },
    {
     "data": {
      "text/plain": [
       "(4.898857038324017, 0.3796898449224612)"
      ]
     },
     "execution_count": 5,
     "metadata": {},
     "output_type": "execute_result"
    }
   ],
   "source": [
    "nn.train(x_train, y_train,x_validation, y_validation, epochs=1001,batch_size = 128)\n",
    "nn.test(x_test,y_test)"
   ]
  },
  {
   "cell_type": "code",
   "execution_count": 6,
   "metadata": {},
   "outputs": [
    {
     "name": "stdout",
     "output_type": "stream",
     "text": [
      "epochs: 0 loss train: 12.428038468643063 Accuracy train: 0.10042857142857142 loss val: 12.40632837905197 Accuracy validation:  0.102\n",
      "epochs: 100 loss train: 2.330032466635609 Accuracy train: 0.184 loss val: 3.3684119897488523 Accuracy validation:  0.122\n",
      "epochs: 200 loss train: 2.309116004131856 Accuracy train: 0.18614285714285714 loss val: 3.394444002787941 Accuracy validation:  0.119\n",
      "epochs: 300 loss train: 2.2949060831576076 Accuracy train: 0.18771428571428572 loss val: 3.3538990908651316 Accuracy validation:  0.121\n",
      "epochs: 400 loss train: 2.2825667412333557 Accuracy train: 0.18957142857142859 loss val: 3.3394701252402164 Accuracy validation:  0.121\n",
      "epochs: 500 loss train: 2.277570236310735 Accuracy train: 0.19 loss val: 3.330741964500804 Accuracy validation:  0.121\n",
      "epochs: 600 loss train: 2.2713835852362774 Accuracy train: 0.19 loss val: 3.3342462309148377 Accuracy validation:  0.122\n"
     ]
    },
    {
     "ename": "KeyboardInterrupt",
     "evalue": "",
     "output_type": "error",
     "traceback": [
      "\u001b[1;31m---------------------------------------------------------------------------\u001b[0m",
      "\u001b[1;31mKeyboardInterrupt\u001b[0m                         Traceback (most recent call last)",
      "Cell \u001b[1;32mIn[6], line 3\u001b[0m\n\u001b[0;32m      1\u001b[0m \u001b[38;5;28;01mfrom\u001b[39;00m \u001b[38;5;21;01mMLP_autograd\u001b[39;00m \u001b[38;5;28;01mimport\u001b[39;00m \u001b[38;5;241m*\u001b[39m\n\u001b[0;32m      2\u001b[0m nn \u001b[38;5;241m=\u001b[39m NeuralNetwork(layers_size\u001b[38;5;241m=\u001b[39m[\u001b[38;5;241m64\u001b[39m\u001b[38;5;241m*\u001b[39m\u001b[38;5;241m64\u001b[39m\u001b[38;5;241m*\u001b[39m\u001b[38;5;241m3\u001b[39m,\u001b[38;5;241m768\u001b[39m,\u001b[38;5;241m256\u001b[39m, \u001b[38;5;241m10\u001b[39m],activations \u001b[38;5;241m=\u001b[39m [\u001b[38;5;124m\"\u001b[39m\u001b[38;5;124mrelu\u001b[39m\u001b[38;5;124m\"\u001b[39m,\u001b[38;5;124m\"\u001b[39m\u001b[38;5;124mrelu\u001b[39m\u001b[38;5;124m\"\u001b[39m, \u001b[38;5;124m\"\u001b[39m\u001b[38;5;124msoftmax\u001b[39m\u001b[38;5;124m\"\u001b[39m],lossFunction \u001b[38;5;241m=\u001b[39m \u001b[38;5;124m\"\u001b[39m\u001b[38;5;124mcrossEntropy\u001b[39m\u001b[38;5;124m\"\u001b[39m, l_rate\u001b[38;5;241m=\u001b[39m\u001b[38;5;241m0.01\u001b[39m)\n\u001b[1;32m----> 3\u001b[0m \u001b[43mnn\u001b[49m\u001b[38;5;241;43m.\u001b[39;49m\u001b[43mtrain\u001b[49m\u001b[43m(\u001b[49m\u001b[43mx_train\u001b[49m\u001b[43m,\u001b[49m\u001b[43m \u001b[49m\u001b[43my_train\u001b[49m\u001b[43m,\u001b[49m\u001b[43mx_validation\u001b[49m\u001b[43m,\u001b[49m\u001b[43m \u001b[49m\u001b[43my_validation\u001b[49m\u001b[43m,\u001b[49m\u001b[43m \u001b[49m\u001b[43mepochs\u001b[49m\u001b[38;5;241;43m=\u001b[39;49m\u001b[38;5;241;43m1001\u001b[39;49m\u001b[43m,\u001b[49m\u001b[43mbatch_size\u001b[49m\u001b[43m \u001b[49m\u001b[38;5;241;43m=\u001b[39;49m\u001b[43m \u001b[49m\u001b[38;5;241;43m128\u001b[39;49m\u001b[43m)\u001b[49m\n\u001b[0;32m      4\u001b[0m nn\u001b[38;5;241m.\u001b[39mtest(x_test,y_test)\n",
      "File \u001b[1;32mc:\\Users\\dotie\\Máy tính\\Multi-layer-Perceptron\\MLP_autograd.py:73\u001b[0m, in \u001b[0;36mNeuralNetwork.train\u001b[1;34m(self, x_train, y_train, x_val, y_val, epochs, batch_size)\u001b[0m\n\u001b[0;32m     71\u001b[0m   y_train_batch \u001b[38;5;241m=\u001b[39m y_train[j:j\u001b[38;5;241m+\u001b[39mbatch_size,:]\n\u001b[0;32m     72\u001b[0m   \u001b[38;5;28mself\u001b[39m\u001b[38;5;241m.\u001b[39mforward(x_train_batch)\n\u001b[1;32m---> 73\u001b[0m   \u001b[38;5;28;43mself\u001b[39;49m\u001b[38;5;241;43m.\u001b[39;49m\u001b[43mbackpropagation\u001b[49m\u001b[43m(\u001b[49m\u001b[43my_train_batch\u001b[49m\u001b[43m)\u001b[49m\n\u001b[0;32m     75\u001b[0m \u001b[38;5;28;01mif\u001b[39;00m i \u001b[38;5;241m%\u001b[39m \u001b[38;5;241m100\u001b[39m \u001b[38;5;241m==\u001b[39m \u001b[38;5;241m0\u001b[39m:\n\u001b[0;32m     76\u001b[0m   (loss_train, accuracy_train) \u001b[38;5;241m=\u001b[39m \u001b[38;5;28mself\u001b[39m\u001b[38;5;241m.\u001b[39mtest(x_train,y_train)\n",
      "File \u001b[1;32mc:\\Users\\dotie\\Máy tính\\Multi-layer-Perceptron\\MLP_autograd.py:31\u001b[0m, in \u001b[0;36mNeuralNetwork.backpropagation\u001b[1;34m(self, output)\u001b[0m\n\u001b[0;32m     29\u001b[0m \u001b[38;5;28;01mdef\u001b[39;00m \u001b[38;5;21mbackpropagation\u001b[39m(\u001b[38;5;28mself\u001b[39m,output):\n\u001b[0;32m     30\u001b[0m   \u001b[38;5;28mself\u001b[39m\u001b[38;5;241m.\u001b[39mA[\u001b[38;5;241m-\u001b[39m\u001b[38;5;241m1\u001b[39m]\u001b[38;5;241m.\u001b[39mbackward(output)\n\u001b[1;32m---> 31\u001b[0m   \u001b[38;5;28;43mself\u001b[39;49m\u001b[38;5;241;43m.\u001b[39;49m\u001b[43mupdate_parameter\u001b[49m\u001b[43m(\u001b[49m\u001b[43m)\u001b[49m\n",
      "File \u001b[1;32mc:\\Users\\dotie\\Máy tính\\Multi-layer-Perceptron\\MLP_autograd.py:36\u001b[0m, in \u001b[0;36mNeuralNetwork.update_parameter\u001b[1;34m(self)\u001b[0m\n\u001b[0;32m     34\u001b[0m \u001b[38;5;28;01mfor\u001b[39;00m i \u001b[38;5;129;01min\u001b[39;00m \u001b[38;5;28mrange\u001b[39m(\u001b[38;5;28mself\u001b[39m\u001b[38;5;241m.\u001b[39mnum_layer):\n\u001b[0;32m     35\u001b[0m    \u001b[38;5;28mself\u001b[39m\u001b[38;5;241m.\u001b[39mW[i]\u001b[38;5;241m.\u001b[39mdata \u001b[38;5;241m-\u001b[39m\u001b[38;5;241m=\u001b[39m \u001b[38;5;28mself\u001b[39m\u001b[38;5;241m.\u001b[39mW[i]\u001b[38;5;241m.\u001b[39mgrad \u001b[38;5;241m*\u001b[39m \u001b[38;5;28mself\u001b[39m\u001b[38;5;241m.\u001b[39ml_rate\n\u001b[1;32m---> 36\u001b[0m    \u001b[38;5;28mself\u001b[39m\u001b[38;5;241m.\u001b[39mW[i]\u001b[38;5;241m.\u001b[39mgrad \u001b[38;5;241m=\u001b[39m \u001b[43mnp\u001b[49m\u001b[38;5;241;43m.\u001b[39;49m\u001b[43mzeros_like\u001b[49m\u001b[43m(\u001b[49m\u001b[38;5;28;43mself\u001b[39;49m\u001b[38;5;241;43m.\u001b[39;49m\u001b[43mW\u001b[49m\u001b[43m[\u001b[49m\u001b[43mi\u001b[49m\u001b[43m]\u001b[49m\u001b[38;5;241;43m.\u001b[39;49m\u001b[43mdata\u001b[49m\u001b[43m)\u001b[49m\n\u001b[0;32m     37\u001b[0m    \u001b[38;5;28mself\u001b[39m\u001b[38;5;241m.\u001b[39mb[i]\u001b[38;5;241m.\u001b[39mdata \u001b[38;5;241m-\u001b[39m\u001b[38;5;241m=\u001b[39m \u001b[38;5;28mself\u001b[39m\u001b[38;5;241m.\u001b[39mb[i]\u001b[38;5;241m.\u001b[39mgrad \u001b[38;5;241m*\u001b[39m \u001b[38;5;28mself\u001b[39m\u001b[38;5;241m.\u001b[39ml_rate\n\u001b[0;32m     38\u001b[0m    \u001b[38;5;28mself\u001b[39m\u001b[38;5;241m.\u001b[39mb[i]\u001b[38;5;241m.\u001b[39mgrad \u001b[38;5;241m=\u001b[39m np\u001b[38;5;241m.\u001b[39mzeros_like(\u001b[38;5;28mself\u001b[39m\u001b[38;5;241m.\u001b[39mb[i]\u001b[38;5;241m.\u001b[39mdata)\n",
      "File \u001b[1;32mc:\\Users\\dotie\\AppData\\Local\\Programs\\Python\\Python311\\Lib\\site-packages\\numpy\\core\\numeric.py:63\u001b[0m, in \u001b[0;36m_zeros_like_dispatcher\u001b[1;34m(a, dtype, order, subok, shape)\u001b[0m\n\u001b[0;32m     38\u001b[0m array_function_dispatch \u001b[38;5;241m=\u001b[39m functools\u001b[38;5;241m.\u001b[39mpartial(\n\u001b[0;32m     39\u001b[0m     overrides\u001b[38;5;241m.\u001b[39marray_function_dispatch, module\u001b[38;5;241m=\u001b[39m\u001b[38;5;124m'\u001b[39m\u001b[38;5;124mnumpy\u001b[39m\u001b[38;5;124m'\u001b[39m)\n\u001b[0;32m     42\u001b[0m __all__ \u001b[38;5;241m=\u001b[39m [\n\u001b[0;32m     43\u001b[0m     \u001b[38;5;124m'\u001b[39m\u001b[38;5;124mnewaxis\u001b[39m\u001b[38;5;124m'\u001b[39m, \u001b[38;5;124m'\u001b[39m\u001b[38;5;124mndarray\u001b[39m\u001b[38;5;124m'\u001b[39m, \u001b[38;5;124m'\u001b[39m\u001b[38;5;124mflatiter\u001b[39m\u001b[38;5;124m'\u001b[39m, \u001b[38;5;124m'\u001b[39m\u001b[38;5;124mnditer\u001b[39m\u001b[38;5;124m'\u001b[39m, \u001b[38;5;124m'\u001b[39m\u001b[38;5;124mnested_iters\u001b[39m\u001b[38;5;124m'\u001b[39m, \u001b[38;5;124m'\u001b[39m\u001b[38;5;124mufunc\u001b[39m\u001b[38;5;124m'\u001b[39m,\n\u001b[0;32m     44\u001b[0m     \u001b[38;5;124m'\u001b[39m\u001b[38;5;124marange\u001b[39m\u001b[38;5;124m'\u001b[39m, \u001b[38;5;124m'\u001b[39m\u001b[38;5;124marray\u001b[39m\u001b[38;5;124m'\u001b[39m, \u001b[38;5;124m'\u001b[39m\u001b[38;5;124masarray\u001b[39m\u001b[38;5;124m'\u001b[39m, \u001b[38;5;124m'\u001b[39m\u001b[38;5;124masanyarray\u001b[39m\u001b[38;5;124m'\u001b[39m, \u001b[38;5;124m'\u001b[39m\u001b[38;5;124mascontiguousarray\u001b[39m\u001b[38;5;124m'\u001b[39m,\n\u001b[1;32m   (...)\u001b[0m\n\u001b[0;32m     59\u001b[0m     \u001b[38;5;124m'\u001b[39m\u001b[38;5;124mMAY_SHARE_EXACT\u001b[39m\u001b[38;5;124m'\u001b[39m, \u001b[38;5;124m'\u001b[39m\u001b[38;5;124m_get_promotion_state\u001b[39m\u001b[38;5;124m'\u001b[39m, \u001b[38;5;124m'\u001b[39m\u001b[38;5;124m_set_promotion_state\u001b[39m\u001b[38;5;124m'\u001b[39m,\n\u001b[0;32m     60\u001b[0m     \u001b[38;5;124m'\u001b[39m\u001b[38;5;124m_using_numpy2_behavior\u001b[39m\u001b[38;5;124m'\u001b[39m]\n\u001b[1;32m---> 63\u001b[0m \u001b[38;5;28;01mdef\u001b[39;00m \u001b[38;5;21m_zeros_like_dispatcher\u001b[39m(a, dtype\u001b[38;5;241m=\u001b[39m\u001b[38;5;28;01mNone\u001b[39;00m, order\u001b[38;5;241m=\u001b[39m\u001b[38;5;28;01mNone\u001b[39;00m, subok\u001b[38;5;241m=\u001b[39m\u001b[38;5;28;01mNone\u001b[39;00m, shape\u001b[38;5;241m=\u001b[39m\u001b[38;5;28;01mNone\u001b[39;00m):\n\u001b[0;32m     64\u001b[0m     \u001b[38;5;28;01mreturn\u001b[39;00m (a,)\n\u001b[0;32m     67\u001b[0m \u001b[38;5;129m@array_function_dispatch\u001b[39m(_zeros_like_dispatcher)\n\u001b[0;32m     68\u001b[0m \u001b[38;5;28;01mdef\u001b[39;00m \u001b[38;5;21mzeros_like\u001b[39m(a, dtype\u001b[38;5;241m=\u001b[39m\u001b[38;5;28;01mNone\u001b[39;00m, order\u001b[38;5;241m=\u001b[39m\u001b[38;5;124m'\u001b[39m\u001b[38;5;124mK\u001b[39m\u001b[38;5;124m'\u001b[39m, subok\u001b[38;5;241m=\u001b[39m\u001b[38;5;28;01mTrue\u001b[39;00m, shape\u001b[38;5;241m=\u001b[39m\u001b[38;5;28;01mNone\u001b[39;00m):\n",
      "\u001b[1;31mKeyboardInterrupt\u001b[0m: "
     ]
    }
   ],
   "source": [
    "from MLP_autograd import *\n",
    "nn = NeuralNetwork(layers_size=[64*64*3,768,256, 10],activations = [\"relu\",\"relu\", \"softmax\"],lossFunction = \"crossEntropy\", l_rate=0.01)\n",
    "nn.train(x_train, y_train,x_validation, y_validation, epochs=1001,batch_size = 128)\n",
    "nn.test(x_test,y_test)"
   ]
  },
  {
   "cell_type": "code",
   "execution_count": 7,
   "metadata": {},
   "outputs": [
    {
     "data": {
      "text/plain": [
       "(3.484802732111695, 0.128064032016008)"
      ]
     },
     "execution_count": 7,
     "metadata": {},
     "output_type": "execute_result"
    }
   ],
   "source": [
    "nn.test(x_test,y_test)"
   ]
  },
  {
   "cell_type": "code",
   "execution_count": 3,
   "metadata": {},
   "outputs": [
    {
     "name": "stdout",
     "output_type": "stream",
     "text": [
      "epochs: 0 loss train: 12.372828235611854 Accuracy train: 0.10214285714285715 loss val: 12.416025260929674 Accuracy validation:  0.101\n",
      "epochs: 100 loss train: 1.523771964125033 Accuracy train: 0.4521428571428571 loss val: 2.9160290389138392 Accuracy validation:  0.303\n",
      "epochs: 200 loss train: 1.3658126924957477 Accuracy train: 0.49114285714285716 loss val: 2.8055318883888725 Accuracy validation:  0.338\n",
      "epochs: 300 loss train: 1.3109604175316543 Accuracy train: 0.5041428571428571 loss val: 2.7585857117997303 Accuracy validation:  0.363\n",
      "epochs: 400 loss train: 1.2840422686253503 Accuracy train: 0.5171428571428571 loss val: 2.747106581129722 Accuracy validation:  0.37\n",
      "epochs: 500 loss train: 1.2803932471363646 Accuracy train: 0.5287142857142857 loss val: 2.777002618405372 Accuracy validation:  0.371\n",
      "epochs: 600 loss train: 1.2831760486510397 Accuracy train: 0.5398571428571428 loss val: 2.8085413272673416 Accuracy validation:  0.372\n",
      "epochs: 700 loss train: 1.3319413139178728 Accuracy train: 0.5427142857142857 loss val: 2.894795770028039 Accuracy validation:  0.367\n",
      "epochs: 800 loss train: 1.5432069265409842 Accuracy train: 0.5395714285714286 loss val: 3.1843618494564847 Accuracy validation:  0.351\n",
      "epochs: 900 loss train: 1.569261631884762 Accuracy train: 0.5487142857142857 loss val: 3.241674158408865 Accuracy validation:  0.356\n",
      "epochs: 1000 loss train: 1.532201367634407 Accuracy train: 0.5591428571428572 loss val: 3.2287602555150436 Accuracy validation:  0.366\n"
     ]
    },
    {
     "data": {
      "text/plain": [
       "(4.056879869681682, 0.3046523261630815)"
      ]
     },
     "execution_count": 3,
     "metadata": {},
     "output_type": "execute_result"
    }
   ],
   "source": [
    "from MLP_autograd import *\n",
    "nn = NeuralNetwork(layers_size=[32*32*3,768, 10],activations = [\"relu\", \"softmax\"],lossFunction = \"crossEntropy\", l_rate=0.1)\n",
    "nn.train(x_train, y_train,x_validation, y_validation, epochs=1001,batch_size = 128)\n",
    "nn.test(x_test,y_test)"
   ]
  },
  {
   "cell_type": "code",
   "execution_count": 4,
   "metadata": {},
   "outputs": [
    {
     "name": "stdout",
     "output_type": "stream",
     "text": [
      "epochs: 0 loss train: 1.5321100175677598 Accuracy train: 0.5588571428571428 loss val: 3.228400329061561 Accuracy validation:  0.366\n",
      "epochs: 100 loss train: 1.4842227406178514 Accuracy train: 0.5661428571428572 loss val: 3.1899714890821396 Accuracy validation:  0.371\n",
      "epochs: 200 loss train: 1.4334772918312657 Accuracy train: 0.5745714285714286 loss val: 3.1461305223255907 Accuracy validation:  0.374\n",
      "epochs: 300 loss train: 1.3928209752598195 Accuracy train: 0.5804285714285714 loss val: 3.116110315891965 Accuracy validation:  0.376\n",
      "epochs: 400 loss train: 1.3574207869336146 Accuracy train: 0.5884285714285714 loss val: 3.102135892326746 Accuracy validation:  0.382\n",
      "epochs: 500 loss train: 1.3285058417663527 Accuracy train: 0.597 loss val: 3.093102647407273 Accuracy validation:  0.389\n",
      "epochs: 600 loss train: 1.3009198741216073 Accuracy train: 0.6014285714285714 loss val: 3.0813398668787713 Accuracy validation:  0.39\n",
      "epochs: 700 loss train: 1.2496672119933248 Accuracy train: 0.606 loss val: 3.048246549732465 Accuracy validation:  0.391\n",
      "epochs: 800 loss train: 1.213569622115309 Accuracy train: 0.6125714285714285 loss val: 3.0271531162733787 Accuracy validation:  0.399\n",
      "epochs: 900 loss train: 1.1867945350887477 Accuracy train: 0.618 loss val: 3.011446213731395 Accuracy validation:  0.402\n",
      "epochs: 1000 loss train: 1.1652518171844104 Accuracy train: 0.6244285714285714 loss val: 3.0050681457496693 Accuracy validation:  0.407\n"
     ]
    },
    {
     "data": {
      "text/plain": [
       "(3.991606622875825, 0.33616808404202103)"
      ]
     },
     "execution_count": 4,
     "metadata": {},
     "output_type": "execute_result"
    }
   ],
   "source": [
    "nn.train(x_train, y_train,x_validation, y_validation, epochs=1001,batch_size = 128)\n",
    "nn.test(x_test,y_test)"
   ]
  },
  {
   "cell_type": "code",
   "execution_count": 5,
   "metadata": {},
   "outputs": [
    {
     "name": "stdout",
     "output_type": "stream",
     "text": [
      "epochs: 0 loss train: 1.1646238388206391 Accuracy train: 0.6241428571428571 loss val: 3.005135528112187 Accuracy validation:  0.41\n",
      "epochs: 100 loss train: 1.145569591367643 Accuracy train: 0.6305714285714286 loss val: 3.0076285491519474 Accuracy validation:  0.417\n",
      "epochs: 200 loss train: 1.1264052912667428 Accuracy train: 0.6362857142857142 loss val: 3.0198024223336004 Accuracy validation:  0.421\n",
      "epochs: 300 loss train: 1.11389554197268 Accuracy train: 0.6385714285714286 loss val: 3.026204659420435 Accuracy validation:  0.422\n",
      "epochs: 400 loss train: 1.105411063921027 Accuracy train: 0.6411428571428571 loss val: 3.0310987980951976 Accuracy validation:  0.422\n",
      "epochs: 500 loss train: 1.0927787601347907 Accuracy train: 0.6425714285714286 loss val: 3.0396769560785954 Accuracy validation:  0.421\n",
      "epochs: 600 loss train: 1.0777087566349768 Accuracy train: 0.6457142857142857 loss val: 3.0328128668600156 Accuracy validation:  0.425\n",
      "epochs: 700 loss train: 1.075980826387075 Accuracy train: 0.6485714285714286 loss val: 3.043594459756005 Accuracy validation:  0.424\n",
      "epochs: 800 loss train: 1.065913347785636 Accuracy train: 0.6502857142857142 loss val: 3.046002156111429 Accuracy validation:  0.423\n",
      "epochs: 900 loss train: 1.0512497418488473 Accuracy train: 0.653 loss val: 3.042713435320952 Accuracy validation:  0.423\n",
      "epochs: 1000 loss train: 1.0362334134721305 Accuracy train: 0.6574285714285715 loss val: 3.037752177464198 Accuracy validation:  0.42\n"
     ]
    },
    {
     "data": {
      "text/plain": [
       "(4.082278476340171, 0.36668334167083544)"
      ]
     },
     "execution_count": 5,
     "metadata": {},
     "output_type": "execute_result"
    }
   ],
   "source": [
    "nn.train(x_train, y_train,x_validation, y_validation, epochs=1001,batch_size = 128)\n",
    "nn.test(x_test,y_test)"
   ]
  },
  {
   "cell_type": "code",
   "execution_count": 6,
   "metadata": {},
   "outputs": [
    {
     "name": "stdout",
     "output_type": "stream",
     "text": [
      "epochs: 0 loss train: 1.0368852612213575 Accuracy train: 0.6578571428571428 loss val: 3.0409585598180158 Accuracy validation:  0.42\n",
      "epochs: 100 loss train: 1.0219329555913392 Accuracy train: 0.6592857142857143 loss val: 3.030796192928194 Accuracy validation:  0.426\n",
      "epochs: 200 loss train: 1.0063948970581793 Accuracy train: 0.662 loss val: 3.0273399979573385 Accuracy validation:  0.426\n",
      "epochs: 300 loss train: 0.9984031497239748 Accuracy train: 0.6642857142857143 loss val: 3.030093632615629 Accuracy validation:  0.423\n",
      "epochs: 400 loss train: 0.9874678714619017 Accuracy train: 0.6651428571428571 loss val: 3.0326689111721152 Accuracy validation:  0.426\n",
      "epochs: 500 loss train: 0.9785347180619594 Accuracy train: 0.6704285714285714 loss val: 3.035019672303158 Accuracy validation:  0.435\n",
      "epochs: 600 loss train: 0.969375693549458 Accuracy train: 0.6748571428571428 loss val: 3.0342808079634453 Accuracy validation:  0.439\n",
      "epochs: 700 loss train: 0.9599129903187481 Accuracy train: 0.6767142857142857 loss val: 3.0358113250537104 Accuracy validation:  0.44\n",
      "epochs: 800 loss train: 0.9483387076785049 Accuracy train: 0.6795714285714286 loss val: 3.0367308554576367 Accuracy validation:  0.439\n",
      "epochs: 900 loss train: 0.9411630997554095 Accuracy train: 0.6824285714285714 loss val: 3.0375279140110965 Accuracy validation:  0.441\n",
      "epochs: 1000 loss train: 0.9555912546130805 Accuracy train: 0.6805714285714286 loss val: 3.0618133370936276 Accuracy validation:  0.444\n"
     ]
    },
    {
     "data": {
      "text/plain": [
       "(4.161204660793366, 0.3781890945472736)"
      ]
     },
     "execution_count": 6,
     "metadata": {},
     "output_type": "execute_result"
    }
   ],
   "source": [
    "nn.train(x_train, y_train,x_validation, y_validation, epochs=1001,batch_size = 128)\n",
    "nn.test(x_test,y_test)"
   ]
  },
  {
   "cell_type": "code",
   "execution_count": 7,
   "metadata": {},
   "outputs": [
    {
     "name": "stdout",
     "output_type": "stream",
     "text": [
      "epochs: 0 loss train: 12.433959402167897 Accuracy train: 0.1 loss val: 12.433959402167897 Accuracy validation:  0.1\n",
      "epochs: 100 loss train: 1.7069302360554521 Accuracy train: 0.4744285714285714 loss val: 3.3397462080992235 Accuracy validation:  0.309\n",
      "epochs: 200 loss train: 1.296418932784947 Accuracy train: 0.5475714285714286 loss val: 3.060364635381312 Accuracy validation:  0.347\n",
      "epochs: 300 loss train: 1.2761883696142606 Accuracy train: 0.5545714285714286 loss val: 3.031715666846263 Accuracy validation:  0.345\n",
      "epochs: 400 loss train: 1.3134827717356108 Accuracy train: 0.5684285714285714 loss val: 3.0857966333660287 Accuracy validation:  0.367\n",
      "epochs: 500 loss train: 1.2855206463647013 Accuracy train: 0.584 loss val: 3.077380612150614 Accuracy validation:  0.377\n",
      "epochs: 600 loss train: 1.2417791806497844 Accuracy train: 0.594 loss val: 3.0507556872096 Accuracy validation:  0.393\n",
      "epochs: 700 loss train: 1.1996865146555309 Accuracy train: 0.6022857142857143 loss val: 3.0230597241358117 Accuracy validation:  0.396\n",
      "epochs: 800 loss train: 1.171692520216624 Accuracy train: 0.6098571428571429 loss val: 3.0078144976912635 Accuracy validation:  0.399\n",
      "epochs: 900 loss train: 1.144661017955611 Accuracy train: 0.6174285714285714 loss val: 2.9905313131580824 Accuracy validation:  0.4\n",
      "epochs: 1000 loss train: 1.1191372390093914 Accuracy train: 0.6241428571428571 loss val: 2.9719355627941493 Accuracy validation:  0.403\n"
     ]
    },
    {
     "data": {
      "text/plain": [
       "(3.7274618863099733, 0.3411705852926463)"
      ]
     },
     "execution_count": 7,
     "metadata": {},
     "output_type": "execute_result"
    }
   ],
   "source": [
    "from MLP_autograd import *\n",
    "nn = NeuralNetwork(layers_size=[32*32*3,768, 10],activations = [\"relu\", \"softmax\"],lossFunction = \"crossEntropy\", l_rate=0.05)\n",
    "nn.train(x_train, y_train,x_validation, y_validation, epochs=1001,batch_size = 128)\n",
    "nn.test(x_test,y_test)"
   ]
  },
  {
   "cell_type": "code",
   "execution_count": 8,
   "metadata": {},
   "outputs": [
    {
     "name": "stdout",
     "output_type": "stream",
     "text": [
      "epochs: 0 loss train: 1.1192067952895748 Accuracy train: 0.6245714285714286 loss val: 2.971610095985668 Accuracy validation:  0.403\n",
      "epochs: 100 loss train: 1.0944004800516984 Accuracy train: 0.6291428571428571 loss val: 2.9592676264768873 Accuracy validation:  0.406\n",
      "epochs: 200 loss train: 1.067644487331576 Accuracy train: 0.6365714285714286 loss val: 2.944300672725979 Accuracy validation:  0.413\n",
      "epochs: 300 loss train: 1.0417871463542372 Accuracy train: 0.646 loss val: 2.9322832624755493 Accuracy validation:  0.417\n",
      "epochs: 400 loss train: 1.0166878706745055 Accuracy train: 0.6504285714285715 loss val: 2.9205131274321015 Accuracy validation:  0.422\n",
      "epochs: 500 loss train: 0.9951784873570056 Accuracy train: 0.6554285714285715 loss val: 2.912566519321399 Accuracy validation:  0.426\n",
      "epochs: 600 loss train: 0.973340074229185 Accuracy train: 0.6605714285714286 loss val: 2.9041078608418536 Accuracy validation:  0.431\n",
      "epochs: 700 loss train: 0.9563635254691677 Accuracy train: 0.6638571428571428 loss val: 2.901003696714924 Accuracy validation:  0.433\n",
      "epochs: 800 loss train: 0.9366476020677176 Accuracy train: 0.6707142857142857 loss val: 2.8920171361292604 Accuracy validation:  0.441\n",
      "epochs: 900 loss train: 0.917100930756136 Accuracy train: 0.6745714285714286 loss val: 2.8891549466993154 Accuracy validation:  0.443\n",
      "epochs: 1000 loss train: 0.9005470198247729 Accuracy train: 0.6787142857142857 loss val: 2.88691624637546 Accuracy validation:  0.445\n"
     ]
    },
    {
     "data": {
      "text/plain": [
       "(3.6779050408932994, 0.37718859429714857)"
      ]
     },
     "execution_count": 8,
     "metadata": {},
     "output_type": "execute_result"
    }
   ],
   "source": [
    "nn.train(x_train, y_train,x_validation, y_validation, epochs=1001,batch_size = 128)\n",
    "nn.test(x_test,y_test)"
   ]
  },
  {
   "cell_type": "code",
   "execution_count": 9,
   "metadata": {},
   "outputs": [
    {
     "name": "stdout",
     "output_type": "stream",
     "text": [
      "epochs: 0 loss train: 0.9008969513716778 Accuracy train: 0.6788571428571428 loss val: 2.88763132847566 Accuracy validation:  0.445\n",
      "epochs: 100 loss train: 0.8840010416992387 Accuracy train: 0.6818571428571428 loss val: 2.8813697419294835 Accuracy validation:  0.444\n",
      "epochs: 200 loss train: 0.8694845855626655 Accuracy train: 0.686 loss val: 2.8853095507736217 Accuracy validation:  0.449\n",
      "epochs: 300 loss train: 0.849889710359305 Accuracy train: 0.6915714285714286 loss val: 2.877915967565227 Accuracy validation:  0.451\n",
      "epochs: 400 loss train: 0.8331651571618747 Accuracy train: 0.6964285714285714 loss val: 2.876756037058304 Accuracy validation:  0.454\n",
      "epochs: 500 loss train: 0.8199734402875938 Accuracy train: 0.7011428571428572 loss val: 2.8854169605747453 Accuracy validation:  0.454\n",
      "epochs: 600 loss train: 0.8052739205081546 Accuracy train: 0.7032857142857143 loss val: 2.8902005781865068 Accuracy validation:  0.453\n",
      "epochs: 700 loss train: 0.791141106780829 Accuracy train: 0.7062857142857143 loss val: 2.8929918089269915 Accuracy validation:  0.454\n",
      "epochs: 800 loss train: 0.7746756634542684 Accuracy train: 0.7117142857142857 loss val: 2.89671186442351 Accuracy validation:  0.461\n",
      "epochs: 900 loss train: 0.7596581260509012 Accuracy train: 0.7171428571428572 loss val: 2.893720105478642 Accuracy validation:  0.466\n",
      "epochs: 1000 loss train: 0.7471732886937574 Accuracy train: 0.7204285714285714 loss val: 2.895033112579847 Accuracy validation:  0.47\n"
     ]
    },
    {
     "data": {
      "text/plain": [
       "(3.715954096640836, 0.39469734867433715)"
      ]
     },
     "execution_count": 9,
     "metadata": {},
     "output_type": "execute_result"
    }
   ],
   "source": [
    "nn.train(x_train, y_train,x_validation, y_validation, epochs=1001,batch_size = 128)\n",
    "nn.test(x_test,y_test)"
   ]
  },
  {
   "cell_type": "code",
   "execution_count": 11,
   "metadata": {},
   "outputs": [
    {
     "name": "stdout",
     "output_type": "stream",
     "text": [
      "epochs: 0 loss train: 12.382419692537038 Accuracy train: 0.102 loss val: 12.342530779025598 Accuracy validation:  0.105\n",
      "epochs: 100 loss train: 10.819785004201808 Accuracy train: 0.20742857142857143 loss val: 11.403663358811682 Accuracy validation:  0.168\n",
      "epochs: 200 loss train: 9.77990412776242 Accuracy train: 0.279 loss val: 10.428796826544785 Accuracy validation:  0.23\n",
      "epochs: 300 loss train: 9.032937460017264 Accuracy train: 0.32871428571428574 loss val: 9.707390279862379 Accuracy validation:  0.284\n",
      "epochs: 400 loss train: 8.397685031503334 Accuracy train: 0.37 loss val: 9.304106443325109 Accuracy validation:  0.304\n",
      "epochs: 500 loss train: 7.932981862347218 Accuracy train: 0.4037142857142857 loss val: 9.011245254140452 Accuracy validation:  0.325\n",
      "epochs: 600 loss train: 7.5059285581382 Accuracy train: 0.4312857142857143 loss val: 8.664159771906025 Accuracy validation:  0.355\n",
      "epochs: 700 loss train: 6.993999770007022 Accuracy train: 0.46585714285714286 loss val: 8.370157576804575 Accuracy validation:  0.372\n",
      "epochs: 800 loss train: 6.594312185116524 Accuracy train: 0.49228571428571427 loss val: 8.118905250448297 Accuracy validation:  0.387\n",
      "epochs: 900 loss train: 6.0830351127847795 Accuracy train: 0.5235714285714286 loss val: 7.875287666010664 Accuracy validation:  0.403\n",
      "epochs: 1000 loss train: 5.638293160607417 Accuracy train: 0.553 loss val: 7.642377975050148 Accuracy validation:  0.421\n"
     ]
    },
    {
     "data": {
      "text/plain": [
       "(8.169841697806408, 0.38369184592296146)"
      ]
     },
     "execution_count": 11,
     "metadata": {},
     "output_type": "execute_result"
    }
   ],
   "source": [
    "from MLP_autograd import *\n",
    "nn = NeuralNetwork(layers_size=[32*32*3,768, 10],activations = [\"relu\", \"softmax\"],lossFunction = \"crossEntropy\", l_rate=0.005)\n",
    "nn.train(x_train, y_train,x_validation, y_validation, epochs=1001,batch_size = 128)\n",
    "nn.test(x_test,y_test)"
   ]
  },
  {
   "cell_type": "code",
   "execution_count": 12,
   "metadata": {},
   "outputs": [
    {
     "name": "stdout",
     "output_type": "stream",
     "text": [
      "epochs: 0 loss train: 5.610906688861062 Accuracy train: 0.5542857142857143 loss val: 7.640229285767939 Accuracy validation:  0.421\n",
      "epochs: 100 loss train: 5.110641680904735 Accuracy train: 0.5851428571428572 loss val: 7.4994977222494015 Accuracy validation:  0.427\n",
      "epochs: 200 loss train: 4.610823544958183 Accuracy train: 0.61 loss val: 7.350133550550941 Accuracy validation:  0.43\n",
      "epochs: 300 loss train: 4.181128935367517 Accuracy train: 0.6327142857142857 loss val: 7.096168051696123 Accuracy validation:  0.442\n",
      "epochs: 400 loss train: 3.723905199910506 Accuracy train: 0.6598571428571428 loss val: 6.782013529975135 Accuracy validation:  0.466\n",
      "epochs: 500 loss train: 3.1804669176883835 Accuracy train: 0.6945714285714286 loss val: 6.562491606571178 Accuracy validation:  0.48\n",
      "epochs: 600 loss train: 2.6003525386821926 Accuracy train: 0.734 loss val: 6.2933377772375305 Accuracy validation:  0.488\n",
      "epochs: 700 loss train: 1.8810025404216113 Accuracy train: 0.7885714285714286 loss val: 5.982958801313985 Accuracy validation:  0.51\n",
      "epochs: 800 loss train: 1.2432463223691201 Accuracy train: 0.8371428571428572 loss val: 5.674518050606892 Accuracy validation:  0.53\n",
      "epochs: 900 loss train: 0.9343158878850861 Accuracy train: 0.8625714285714285 loss val: 5.521117418726142 Accuracy validation:  0.542\n",
      "epochs: 1000 loss train: 0.6756197119593433 Accuracy train: 0.8868571428571429 loss val: 5.338204928396734 Accuracy validation:  0.552\n"
     ]
    },
    {
     "data": {
      "text/plain": [
       "(6.261762210559754, 0.5007503751875938)"
      ]
     },
     "execution_count": 12,
     "metadata": {},
     "output_type": "execute_result"
    }
   ],
   "source": [
    "nn.train(x_train, y_train,x_validation, y_validation, epochs=1001,batch_size = 128)\n",
    "nn.test(x_test,y_test)"
   ]
  },
  {
   "cell_type": "code",
   "execution_count": 13,
   "metadata": {},
   "outputs": [
    {
     "name": "stdout",
     "output_type": "stream",
     "text": [
      "epochs: 0 loss train: 0.6779129815516702 Accuracy train: 0.8862857142857142 loss val: 5.340629629375105 Accuracy validation:  0.552\n",
      "epochs: 100 loss train: 0.4207324076181613 Accuracy train: 0.9218571428571428 loss val: 5.075023275688176 Accuracy validation:  0.572\n",
      "epochs: 200 loss train: 0.2602560543723438 Accuracy train: 0.9502857142857143 loss val: 4.853269694614879 Accuracy validation:  0.592\n",
      "epochs: 300 loss train: 0.13503217986213692 Accuracy train: 0.9734285714285714 loss val: 4.737293653227945 Accuracy validation:  0.618\n",
      "epochs: 400 loss train: 0.020830836844271585 Accuracy train: 0.9935714285714285 loss val: 4.66710484445648 Accuracy validation:  0.629\n",
      "epochs: 500 loss train: 0.005492040136702518 Accuracy train: 0.9998571428571429 loss val: 4.644142329695863 Accuracy validation:  0.632\n",
      "epochs: 600 loss train: 0.003073416053302989 Accuracy train: 0.9998571428571429 loss val: 4.633250236540116 Accuracy validation:  0.632\n",
      "epochs: 700 loss train: 0.0018257471811012331 Accuracy train: 1.0 loss val: 4.623230547144289 Accuracy validation:  0.634\n",
      "epochs: 800 loss train: 0.00136623247918609 Accuracy train: 1.0 loss val: 4.615531952702911 Accuracy validation:  0.635\n",
      "epochs: 900 loss train: 0.0011268219863950913 Accuracy train: 1.0 loss val: 4.6104872584235785 Accuracy validation:  0.637\n",
      "epochs: 1000 loss train: 0.0009729392420725795 Accuracy train: 1.0 loss val: 4.6067291167756625 Accuracy validation:  0.638\n"
     ]
    },
    {
     "data": {
      "text/plain": [
       "(5.86593220497734, 0.5542771385692846)"
      ]
     },
     "execution_count": 13,
     "metadata": {},
     "output_type": "execute_result"
    }
   ],
   "source": [
    "nn.train(x_train, y_train,x_validation, y_validation, epochs=1001,batch_size = 128)\n",
    "nn.test(x_test,y_test)"
   ]
  },
  {
   "cell_type": "code",
   "execution_count": 14,
   "metadata": {},
   "outputs": [
    {
     "name": "stdout",
     "output_type": "stream",
     "text": [
      "epochs: 0 loss train: 0.0009715889626238318 Accuracy train: 1.0 loss val: 4.606700371343171 Accuracy validation:  0.638\n",
      "epochs: 100 loss train: 0.0008625017233584728 Accuracy train: 1.0 loss val: 4.603629654325343 Accuracy validation:  0.638\n",
      "epochs: 200 loss train: 0.0007798279648453 Accuracy train: 1.0 loss val: 4.601057612694201 Accuracy validation:  0.639\n",
      "epochs: 300 loss train: 0.000714455279628447 Accuracy train: 1.0 loss val: 4.598817390694613 Accuracy validation:  0.639\n",
      "epochs: 400 loss train: 0.0006610954805966736 Accuracy train: 1.0 loss val: 4.5968337927653105 Accuracy validation:  0.639\n",
      "epochs: 500 loss train: 0.0006164288543403221 Accuracy train: 1.0 loss val: 4.595088711621316 Accuracy validation:  0.639\n",
      "epochs: 600 loss train: 0.0005784885991907662 Accuracy train: 1.0 loss val: 4.593519929035427 Accuracy validation:  0.641\n",
      "epochs: 700 loss train: 0.0005456590916622809 Accuracy train: 1.0 loss val: 4.592096201713531 Accuracy validation:  0.641\n",
      "epochs: 800 loss train: 0.0005168907606041795 Accuracy train: 1.0 loss val: 4.590801985386152 Accuracy validation:  0.642\n",
      "epochs: 900 loss train: 0.0004914889883071474 Accuracy train: 1.0 loss val: 4.58964800235556 Accuracy validation:  0.642\n",
      "epochs: 1000 loss train: 0.00046880975801481784 Accuracy train: 1.0 loss val: 4.588583201712837 Accuracy validation:  0.642\n"
     ]
    },
    {
     "data": {
      "text/plain": [
       "(5.854767246486842, 0.5562781390695347)"
      ]
     },
     "execution_count": 14,
     "metadata": {},
     "output_type": "execute_result"
    }
   ],
   "source": [
    "nn.train(x_train, y_train,x_validation, y_validation, epochs=1001,batch_size = 128)\n",
    "nn.test(x_test,y_test)"
   ]
  },
  {
   "cell_type": "code",
   "execution_count": 15,
   "metadata": {},
   "outputs": [
    {
     "name": "stdout",
     "output_type": "stream",
     "text": [
      "epochs: 0 loss train: 12.444068297479221 Accuracy train: 0.09742857142857143 loss val: 12.578067148377356 Accuracy validation:  0.088\n",
      "epochs: 100 loss train: 10.896053749669113 Accuracy train: 0.20214285714285715 loss val: 11.211034182039603 Accuracy validation:  0.18\n",
      "epochs: 200 loss train: 10.278976399798763 Accuracy train: 0.24671428571428572 loss val: 10.809148846512933 Accuracy validation:  0.205\n",
      "epochs: 300 loss train: 9.864232218443277 Accuracy train: 0.27171428571428574 loss val: 10.49873431058731 Accuracy validation:  0.23\n",
      "epochs: 400 loss train: 9.534172604849152 Accuracy train: 0.29542857142857143 loss val: 10.248323827434572 Accuracy validation:  0.247\n",
      "epochs: 500 loss train: 9.208747364042646 Accuracy train: 0.31757142857142856 loss val: 10.140446474583255 Accuracy validation:  0.247\n",
      "epochs: 600 loss train: 8.949238679045848 Accuracy train: 0.33414285714285713 loss val: 9.970441139109115 Accuracy validation:  0.261\n",
      "epochs: 700 loss train: 8.671477905108583 Accuracy train: 0.35385714285714287 loss val: 9.80941338650254 Accuracy validation:  0.277\n",
      "epochs: 800 loss train: 8.497601686677413 Accuracy train: 0.36828571428571427 loss val: 9.72022054470723 Accuracy validation:  0.285\n",
      "epochs: 900 loss train: 8.321850483192021 Accuracy train: 0.37614285714285717 loss val: 9.650310453994228 Accuracy validation:  0.288\n",
      "epochs: 1000 loss train: 8.140904700667448 Accuracy train: 0.38957142857142857 loss val: 9.56327404975925 Accuracy validation:  0.29\n"
     ]
    },
    {
     "data": {
      "text/plain": [
       "(9.790393772650702, 0.2726363181590795)"
      ]
     },
     "execution_count": 15,
     "metadata": {},
     "output_type": "execute_result"
    }
   ],
   "source": [
    "from MLP_autograd import *\n",
    "nn = NeuralNetwork(layers_size=[32*32*3,768, 10],activations = [\"relu\", \"softmax\"],lossFunction = \"crossEntropy\", l_rate=0.001)\n",
    "nn.train(x_train, y_train,x_validation, y_validation, epochs=1001,batch_size = 128)\n",
    "nn.test(x_test,y_test)"
   ]
  },
  {
   "cell_type": "code",
   "execution_count": 16,
   "metadata": {},
   "outputs": [
    {
     "name": "stdout",
     "output_type": "stream",
     "text": [
      "epochs: 0 loss train: 8.13069989798252 Accuracy train: 0.3904285714285714 loss val: 9.553469906285796 Accuracy validation:  0.293\n",
      "epochs: 100 loss train: 7.970175945095618 Accuracy train: 0.4002857142857143 loss val: 9.491154743038118 Accuracy validation:  0.294\n",
      "epochs: 200 loss train: 7.8254516450923814 Accuracy train: 0.409 loss val: 9.375435822790056 Accuracy validation:  0.3\n",
      "epochs: 300 loss train: 7.673219425993595 Accuracy train: 0.41828571428571426 loss val: 9.280918451832179 Accuracy validation:  0.307\n",
      "epochs: 400 loss train: 7.5135792777985815 Accuracy train: 0.4317142857142857 loss val: 9.193008109458463 Accuracy validation:  0.314\n",
      "epochs: 500 loss train: 7.380301153659586 Accuracy train: 0.43985714285714284 loss val: 9.073006495243286 Accuracy validation:  0.324\n",
      "epochs: 600 loss train: 7.2464693784069 Accuracy train: 0.44871428571428573 loss val: 8.975219256284038 Accuracy validation:  0.331\n",
      "epochs: 700 loss train: 7.113150243973814 Accuracy train: 0.4584285714285714 loss val: 8.889038755295834 Accuracy validation:  0.341\n",
      "epochs: 800 loss train: 7.001777427435751 Accuracy train: 0.46414285714285713 loss val: 8.82803237039352 Accuracy validation:  0.345\n",
      "epochs: 900 loss train: 6.844824439416978 Accuracy train: 0.47485714285714287 loss val: 8.778709259575107 Accuracy validation:  0.346\n",
      "epochs: 1000 loss train: 6.678640741668811 Accuracy train: 0.48228571428571426 loss val: 8.677424825889599 Accuracy validation:  0.353\n"
     ]
    },
    {
     "data": {
      "text/plain": [
       "(9.102020453071866, 0.3181590795397699)"
      ]
     },
     "execution_count": 16,
     "metadata": {},
     "output_type": "execute_result"
    }
   ],
   "source": [
    "nn.train(x_train, y_train,x_validation, y_validation, epochs=1001,batch_size = 128)\n",
    "nn.test(x_test,y_test)"
   ]
  },
  {
   "cell_type": "code",
   "execution_count": 2,
   "metadata": {},
   "outputs": [],
   "source": [
    "from MLP_autograd import *\n",
    "nn1 = NeuralNetwork(layers_size=[32*32*3,768],activations = [\"relu\"],lossFunction = \"crossEntropy\", l_rate=0.01)\n",
    "nn2 = NeuralNetwork(layers_size=[32*32*3,768,768],activations = [\"relu\", \"relu\"],lossFunction = \"crossEntropy\", l_rate=0.01)\n",
    "nn = NeuralNetwork(layers_size=[768, 10],activations = [\"softmax\"],lossFunction = \"crossEntropy\", l_rate=0.01)"
   ]
  },
  {
   "cell_type": "code",
   "execution_count": 12,
   "metadata": {},
   "outputs": [],
   "source": [
    "def train(x_train,y_train,x_val, y_val, epochs,nn1,nn2,nn,batch_size =128):\n",
    "    for i in range(epochs):\n",
    "      for j in range(0,x_train.shape[0],batch_size):\n",
    "        x_train_batch = Tensor(x_train[j:j+batch_size,:], requires_grad=True)\n",
    "        y_train_batch = y_train[j:j+batch_size,:]\n",
    "        \n",
    "        out1 = nn1.forward(x_train_batch)\n",
    "        out2 = nn2.forward(x_train_batch)\n",
    "        out = nn.forward(out1+out2)\n",
    "        \n",
    "        out.backward(y_train_batch)\n",
    "\n",
    "        nn.update_parameter()\n",
    "        nn1.update_parameter()\n",
    "        nn2. update_parameter()\n",
    "\n",
    "      if i % 100 == 0:\n",
    "        (loss_train, accuracy_train) = test(x_train,y_train, nn1, nn2, nn)\n",
    "        (loss_val, accuracy_val) = test(x_val,y_val, nn1, nn2, nn)\n",
    "        print(\"epochs:\", i, \"loss train:\", loss_train, \"Accuracy train:\", accuracy_train,\n",
    "              \"loss val:\", loss_val, \"Accuracy validation: \", accuracy_val)\n",
    "\n",
    "\n",
    "def test(val_in, val_out, nn1, nn2, nn):\n",
    "    val_in = Tensor(val_in, requires_grad= True)\n",
    "    out1 = nn1.forward(val_in)\n",
    "    out2 = nn2.forward(val_in)\n",
    "    out = nn.forward(out1+out2)\n",
    "    loss = np.mean(nn.cost(val_out, nn.lossFunction))\n",
    "    return (loss, nn.get_accuracy(np.argmax(nn.A[-1].data.T, 0), np.argmax(val_out.T, 0)))"
   ]
  },
  {
   "cell_type": "code",
   "execution_count": 13,
   "metadata": {},
   "outputs": [
    {
     "name": "stdout",
     "output_type": "stream",
     "text": [
      "epochs: 0 loss train: 12.203787817120931 Accuracy train: 0.11628571428571428 loss val: 12.351066264319028 Accuracy validation:  0.106\n",
      "epochs: 100 loss train: 7.191514053673497 Accuracy train: 0.4642857142857143 loss val: 9.419267961578043 Accuracy validation:  0.307\n",
      "epochs: 200 loss train: 5.027640115623471 Accuracy train: 0.6084285714285714 loss val: 8.275631786431424 Accuracy validation:  0.38\n",
      "epochs: 300 loss train: 3.5851988046061463 Accuracy train: 0.7034285714285714 loss val: 7.549822023610723 Accuracy validation:  0.425\n",
      "epochs: 400 loss train: 2.6133922513413577 Accuracy train: 0.7667142857142857 loss val: 6.985883174241347 Accuracy validation:  0.464\n",
      "epochs: 500 loss train: 1.8359206666692673 Accuracy train: 0.8172857142857143 loss val: 6.388187951562107 Accuracy validation:  0.499\n",
      "epochs: 600 loss train: 1.2300200030439215 Accuracy train: 0.8618571428571429 loss val: 5.977351504689026 Accuracy validation:  0.533\n",
      "epochs: 700 loss train: 0.5676135085285996 Accuracy train: 0.9135714285714286 loss val: 5.633205996151061 Accuracy validation:  0.544\n",
      "epochs: 800 loss train: 0.1501461632787112 Accuracy train: 0.9631428571428572 loss val: 5.322466078357305 Accuracy validation:  0.579\n",
      "epochs: 900 loss train: 0.006509232304412497 Accuracy train: 0.9995714285714286 loss val: 5.215801280176142 Accuracy validation:  0.602\n",
      "epochs: 1000 loss train: 0.0017483383375098578 Accuracy train: 1.0 loss val: 5.204992897801739 Accuracy validation:  0.604\n"
     ]
    }
   ],
   "source": [
    "train(x_train,y_train,x_validation, y_validation, 1001 ,nn1,nn2,nn, batch_size =128)"
   ]
  },
  {
   "cell_type": "code",
   "execution_count": 15,
   "metadata": {},
   "outputs": [
    {
     "data": {
      "text/plain": [
       "(6.515819777024236, 0.5047523761880941)"
      ]
     },
     "execution_count": 15,
     "metadata": {},
     "output_type": "execute_result"
    }
   ],
   "source": [
    "test(x_test,y_test,nn1,nn2,nn)"
   ]
  }
 ],
 "metadata": {
  "kernelspec": {
   "display_name": "Python 3",
   "language": "python",
   "name": "python3"
  },
  "language_info": {
   "codemirror_mode": {
    "name": "ipython",
    "version": 3
   },
   "file_extension": ".py",
   "mimetype": "text/x-python",
   "name": "python",
   "nbconvert_exporter": "python",
   "pygments_lexer": "ipython3",
   "version": "3.11.9"
  }
 },
 "nbformat": 4,
 "nbformat_minor": 2
}
