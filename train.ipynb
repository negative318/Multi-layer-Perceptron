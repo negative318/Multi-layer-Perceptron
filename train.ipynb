{
 "cells": [
  {
   "cell_type": "code",
   "execution_count": 1,
   "metadata": {},
   "outputs": [],
   "source": [
    "from MLP import *"
   ]
  },
  {
   "cell_type": "code",
   "execution_count": 2,
   "metadata": {},
   "outputs": [
    {
     "name": "stdout",
     "output_type": "stream",
     "text": [
      "(60000, 28, 28) (60000,)\n",
      "(10000, 28, 28) (10000,)\n",
      "(784, 54000) (10, 54000)\n",
      "(784, 10000) (10, 10000)\n",
      "(784, 6000) (10, 6000)\n"
     ]
    }
   ],
   "source": [
    "from keras.datasets import mnist\n",
    "(x_train,y_train),(x_test,y_test) = mnist.load_data()\n",
    "\n",
    "print(x_train.shape,y_train.shape)\n",
    "print(x_test.shape,y_test.shape)\n",
    "\n",
    "x_train = x_train /255.0\n",
    "x_test = x_test /255.0\n",
    "x_validation = x_train[:6000]\n",
    "y_validation = y_train[:6000]\n",
    "x_train = x_train[6000:]\n",
    "y_train = y_train[6000:]\n",
    "\n",
    "x_validation = x_validation.reshape(x_validation.shape[0],-1).T\n",
    "x_train = x_train.reshape(x_train.shape[0],-1).T\n",
    "x_test = x_test.reshape(x_test.shape[0],-1).T\n",
    "\n",
    "\n",
    "def one_hot(Y):\n",
    "  one_hot_Y = np.zeros((Y.size,np.max(Y) + 1))\n",
    "  one_hot_Y[np.arange(Y.size),Y] = 1\n",
    "  one_hot_Y = one_hot_Y.T\n",
    "  return one_hot_Y\n",
    "\n",
    "y_train = one_hot(y_train)\n",
    "y_validation = one_hot(y_validation)\n",
    "y_test = one_hot(y_test)\n",
    "print(x_train.shape,y_train.shape)\n",
    "print(x_test.shape,y_test.shape)\n",
    "print(x_validation.shape,y_validation.shape)\n"
   ]
  },
  {
   "cell_type": "code",
   "execution_count": 3,
   "metadata": {},
   "outputs": [
    {
     "name": "stdout",
     "output_type": "stream",
     "text": [
      "0 loss:  11.771433533843904 Accuracy train:  0.140625 Accuracy validation:  0.10266666666666667\n",
      "100 loss:  0.8163753754192962 Accuracy train:  0.875 Accuracy validation:  0.8251666666666667\n",
      "200 loss:  0.5076859523649196 Accuracy train:  0.8828125 Accuracy validation:  0.8461666666666666\n",
      "300 loss:  0.38698722453209733 Accuracy train:  0.8984375 Accuracy validation:  0.8623333333333333\n",
      "400 loss:  0.34436141576947266 Accuracy train:  0.90625 Accuracy validation:  0.8713333333333333\n",
      "500 loss:  0.32059281103765025 Accuracy train:  0.9140625 Accuracy validation:  0.8815\n",
      "600 loss:  0.3073286835323518 Accuracy train:  0.921875 Accuracy validation:  0.887\n",
      "700 loss:  0.2981571111733873 Accuracy train:  0.9375 Accuracy validation:  0.892\n",
      "800 loss:  0.2911169534312416 Accuracy train:  0.9375 Accuracy validation:  0.8963333333333333\n",
      "900 loss:  0.28479202057928243 Accuracy train:  0.9375 Accuracy validation:  0.8998333333333334\n",
      "1000 loss:  0.2803929302949427 Accuracy train:  0.9375 Accuracy validation:  0.902\n"
     ]
    },
    {
     "data": {
      "text/plain": [
       "0.8958"
      ]
     },
     "execution_count": 3,
     "metadata": {},
     "output_type": "execute_result"
    }
   ],
   "source": [
    "nn = NeuralNetwork(layers_size=[28*28,64, 10],activations = [\"\", \"relu\", \"softmax\"],loss = \"crossEntropy\", l_rate=0.01)\n",
    "nn.train(x_train, y_train,x_validation, y_validation, epochs=1001,batch_size = 128)\n",
    "nn.test(x_test,y_test)"
   ]
  },
  {
   "cell_type": "code",
   "execution_count": null,
   "metadata": {},
   "outputs": [
    {
     "name": "stdout",
     "output_type": "stream",
     "text": [
      "0 loss:  12.305548775266695 Accuracy train:  0.109375 Accuracy validation:  0.0955\n",
      "100 loss:  0.7610963636819006 Accuracy train:  0.890625 Accuracy validation:  0.87\n",
      "200 loss:  0.4520429491402134 Accuracy train:  0.8984375 Accuracy validation:  0.8865\n",
      "300 loss:  0.3333403715263971 Accuracy train:  0.9296875 Accuracy validation:  0.8948333333333334\n",
      "400 loss:  0.2547113620550193 Accuracy train:  0.9453125 Accuracy validation:  0.8981666666666667\n",
      "500 loss:  0.216134090842025 Accuracy train:  0.9453125 Accuracy validation:  0.903\n",
      "600 loss:  0.19390434668131243 Accuracy train:  0.9609375 Accuracy validation:  0.9066666666666666\n",
      "700 loss:  0.17997891611459607 Accuracy train:  0.9609375 Accuracy validation:  0.91\n",
      "800 loss:  0.17052974160013998 Accuracy train:  0.953125 Accuracy validation:  0.9118333333333334\n",
      "900 loss:  0.16207925562266284 Accuracy train:  0.953125 Accuracy validation:  0.9133333333333333\n",
      "1000 loss:  0.15592371169777233 Accuracy train:  0.9609375 Accuracy validation:  0.9148333333333334\n"
     ]
    },
    {
     "data": {
      "text/plain": [
       "0.9158"
      ]
     },
     "execution_count": 4,
     "metadata": {},
     "output_type": "execute_result"
    }
   ],
   "source": [
    "nn = NeuralNetwork(layers_size=[28*28,128, 10],activations = [\"\", \"relu\", \"softmax\"],loss = \"crossEntropy\", l_rate=0.01)\n",
    "nn.train(x_train, y_train,x_validation, y_validation, epochs=1001,batch_size = 128)\n",
    "nn.test(x_test,y_test)"
   ]
  },
  {
   "cell_type": "code",
   "execution_count": null,
   "metadata": {},
   "outputs": [
    {
     "name": "stdout",
     "output_type": "stream",
     "text": [
      "0 loss:  12.304015542309344 Accuracy train:  0.109375 Accuracy validation:  0.10416666666666667\n",
      "100 loss:  1.0361899348984724 Accuracy train:  0.90625 Accuracy validation:  0.8986666666666666\n",
      "200 loss:  0.7937393998404036 Accuracy train:  0.9296875 Accuracy validation:  0.9121666666666667\n",
      "300 loss:  0.7681542280247099 Accuracy train:  0.9296875 Accuracy validation:  0.921\n",
      "400 loss:  0.7597091314226758 Accuracy train:  0.9375 Accuracy validation:  0.9248333333333333\n",
      "500 loss:  0.739996353888926 Accuracy train:  0.9375 Accuracy validation:  0.9278333333333333\n",
      "600 loss:  0.7147840437108779 Accuracy train:  0.9296875 Accuracy validation:  0.93\n",
      "700 loss:  0.6749369888397005 Accuracy train:  0.9296875 Accuracy validation:  0.9306666666666666\n",
      "800 loss:  0.6122947356589636 Accuracy train:  0.9375 Accuracy validation:  0.9313333333333333\n",
      "900 loss:  0.5690425422181326 Accuracy train:  0.9453125 Accuracy validation:  0.933\n",
      "1000 loss:  0.5240181839379365 Accuracy train:  0.9453125 Accuracy validation:  0.9338333333333333\n"
     ]
    },
    {
     "data": {
      "text/plain": [
       "0.9318"
      ]
     },
     "execution_count": 6,
     "metadata": {},
     "output_type": "execute_result"
    }
   ],
   "source": [
    "nn = NeuralNetwork(layers_size=[28*28,256, 10],activations = [\"\", \"relu\", \"softmax\"],loss = \"crossEntropy\", l_rate=0.01)\n",
    "nn.train(x_train, y_train,x_validation, y_validation, epochs=1001,batch_size = 128)\n",
    "nn.test(x_test,y_test)"
   ]
  },
  {
   "cell_type": "code",
   "execution_count": null,
   "metadata": {},
   "outputs": [
    {
     "name": "stdout",
     "output_type": "stream",
     "text": [
      "0 loss:  12.090955443625713 Accuracy train:  0.125 Accuracy validation:  0.08016666666666666\n",
      "100 loss:  0.6795540525398052 Accuracy train:  0.9375 Accuracy validation:  0.9043333333333333\n",
      "200 loss:  0.4150783841427281 Accuracy train:  0.9453125 Accuracy validation:  0.9193333333333333\n",
      "300 loss:  0.32776581811205524 Accuracy train:  0.9765625 Accuracy validation:  0.9253333333333333\n",
      "400 loss:  0.3041041051189741 Accuracy train:  0.9765625 Accuracy validation:  0.9281666666666667\n",
      "500 loss:  0.2272297486240279 Accuracy train:  0.9765625 Accuracy validation:  0.9306666666666666\n",
      "600 loss:  0.1793813718222865 Accuracy train:  0.984375 Accuracy validation:  0.9321666666666667\n",
      "700 loss:  0.11419303908814374 Accuracy train:  0.984375 Accuracy validation:  0.9325\n",
      "800 loss:  0.07292369351507696 Accuracy train:  0.9921875 Accuracy validation:  0.9333333333333333\n",
      "900 loss:  0.04904110198703136 Accuracy train:  0.9921875 Accuracy validation:  0.9335\n",
      "1000 loss:  0.0224315945796203 Accuracy train:  0.9921875 Accuracy validation:  0.9336666666666666\n"
     ]
    },
    {
     "data": {
      "text/plain": [
       "0.9334"
      ]
     },
     "execution_count": 7,
     "metadata": {},
     "output_type": "execute_result"
    }
   ],
   "source": [
    "nn = NeuralNetwork(layers_size=[28*28,512, 10],activations = [\"\", \"relu\", \"softmax\"],loss = \"crossEntropy\", l_rate=0.01)\n",
    "nn.train(x_train, y_train,x_validation, y_validation, epochs=1001,batch_size = 128)\n",
    "nn.test(x_test,y_test)"
   ]
  },
  {
   "cell_type": "code",
   "execution_count": null,
   "metadata": {},
   "outputs": [
    {
     "name": "stdout",
     "output_type": "stream",
     "text": [
      "0 loss:  10.591212601474151 Accuracy train:  0.0859375 Accuracy validation:  0.06566666666666666\n",
      "100 loss:  1.2312288213320295 Accuracy train:  0.7578125 Accuracy validation:  0.7078333333333333\n",
      "200 loss:  0.838369562116649 Accuracy train:  0.8359375 Accuracy validation:  0.7911666666666667\n",
      "300 loss:  0.6599620228120924 Accuracy train:  0.8515625 Accuracy validation:  0.824\n",
      "400 loss:  0.5542992448311426 Accuracy train:  0.859375 Accuracy validation:  0.844\n",
      "500 loss:  0.48443964602497364 Accuracy train:  0.875 Accuracy validation:  0.857\n",
      "600 loss:  0.4363749567657369 Accuracy train:  0.875 Accuracy validation:  0.8641666666666666\n",
      "700 loss:  0.4018957799969566 Accuracy train:  0.890625 Accuracy validation:  0.8693333333333333\n",
      "800 loss:  0.3760871466899445 Accuracy train:  0.890625 Accuracy validation:  0.8735\n",
      "900 loss:  0.35611040274216677 Accuracy train:  0.8984375 Accuracy validation:  0.8763333333333333\n",
      "1000 loss:  0.3402384596944996 Accuracy train:  0.9140625 Accuracy validation:  0.879\n"
     ]
    },
    {
     "data": {
      "text/plain": [
       "0.8766"
      ]
     },
     "execution_count": 7,
     "metadata": {},
     "output_type": "execute_result"
    }
   ],
   "source": [
    "nn = NeuralNetwork(layers_size=[28*28, 10],activations = [\"\", \"softmax\"],loss = \"crossEntropy\", l_rate=0.01)\n",
    "nn.train(x_train, y_train,x_validation, y_validation, epochs=1001,batch_size = 128)\n",
    "nn.test(x_test,y_test)"
   ]
  },
  {
   "cell_type": "code",
   "execution_count": null,
   "metadata": {},
   "outputs": [
    {
     "name": "stdout",
     "output_type": "stream",
     "text": [
      "0 loss:  12.033245295669092 Accuracy train:  0.1171875 Accuracy validation:  0.07383333333333333\n",
      "100 loss:  0.47455694913032187 Accuracy train:  0.828125 Accuracy validation:  0.8038333333333333\n",
      "200 loss:  0.39491634549721455 Accuracy train:  0.890625 Accuracy validation:  0.8336666666666667\n",
      "300 loss:  0.36503655957152464 Accuracy train:  0.921875 Accuracy validation:  0.8493333333333334\n",
      "400 loss:  0.34567299260583273 Accuracy train:  0.9296875 Accuracy validation:  0.8601666666666666\n",
      "500 loss:  0.3318446873813694 Accuracy train:  0.9453125 Accuracy validation:  0.8678333333333333\n",
      "600 loss:  0.3207679875659906 Accuracy train:  0.9453125 Accuracy validation:  0.8738333333333334\n",
      "700 loss:  0.31478123113728373 Accuracy train:  0.953125 Accuracy validation:  0.8798333333333334\n",
      "800 loss:  0.3100999722966933 Accuracy train:  0.953125 Accuracy validation:  0.8838333333333334\n",
      "900 loss:  0.3051514509229462 Accuracy train:  0.953125 Accuracy validation:  0.8876666666666667\n",
      "1000 loss:  0.29919020620698433 Accuracy train:  0.953125 Accuracy validation:  0.8901666666666667\n"
     ]
    },
    {
     "data": {
      "text/plain": [
       "0.8802"
      ]
     },
     "execution_count": 4,
     "metadata": {},
     "output_type": "execute_result"
    }
   ],
   "source": [
    "nn = NeuralNetwork(layers_size=[28*28, 128, 64, 10],activations = [\"\", \"relu\",\"relu\", \"softmax\"],loss = \"crossEntropy\", l_rate=0.01)\n",
    "nn.train(x_train, y_train,x_validation, y_validation, epochs=1001,batch_size = 128)\n",
    "nn.test(x_test,y_test)"
   ]
  },
  {
   "cell_type": "code",
   "execution_count": null,
   "metadata": {},
   "outputs": [
    {
     "name": "stdout",
     "output_type": "stream",
     "text": [
      "0 loss:  11.872691736992374 Accuracy train:  0.140625 Accuracy validation:  0.1155\n",
      "100 loss:  1.6999565147483604 Accuracy train:  0.453125 Accuracy validation:  0.4835\n",
      "200 loss:  1.463101680361665 Accuracy train:  0.484375 Accuracy validation:  0.5686666666666667\n",
      "300 loss:  1.2671120450975297 Accuracy train:  0.578125 Accuracy validation:  0.6121666666666666\n",
      "400 loss:  1.1933940816885342 Accuracy train:  0.6171875 Accuracy validation:  0.6408333333333334\n",
      "500 loss:  1.2417382949439821 Accuracy train:  0.625 Accuracy validation:  0.6571666666666667\n",
      "600 loss:  1.0885105080844095 Accuracy train:  0.65625 Accuracy validation:  0.6333333333333333\n",
      "700 loss:  0.9306512259776644 Accuracy train:  0.703125 Accuracy validation:  0.6791666666666667\n",
      "800 loss:  0.9869620743715547 Accuracy train:  0.7109375 Accuracy validation:  0.6766666666666666\n",
      "900 loss:  0.8263057596343322 Accuracy train:  0.7265625 Accuracy validation:  0.6808333333333333\n",
      "1000 loss:  0.8330757697848743 Accuracy train:  0.7421875 Accuracy validation:  0.6885\n"
     ]
    },
    {
     "data": {
      "text/plain": [
       "0.6678"
      ]
     },
     "execution_count": 5,
     "metadata": {},
     "output_type": "execute_result"
    }
   ],
   "source": [
    "nn = NeuralNetwork(layers_size=[28*28, 256, 128, 64, 10],activations = [\"\", \"relu\", \"relu\", \"relu\", \"softmax\"],loss = \"crossEntropy\", l_rate=0.01)\n",
    "nn.train(x_train, y_train,x_validation, y_validation, epochs=1001,batch_size = 128)\n",
    "nn.test(x_test,y_test)"
   ]
  },
  {
   "cell_type": "code",
   "execution_count": null,
   "metadata": {},
   "outputs": [
    {
     "name": "stdout",
     "output_type": "stream",
     "text": [
      "0 loss:  13.124689375113334 Accuracy train:  0.03125 Accuracy validation:  0.0565\n",
      "100 loss:  0.7710054750673325 Accuracy train:  0.890625 Accuracy validation:  0.8738333333333334\n",
      "200 loss:  0.3603625884847549 Accuracy train:  0.9140625 Accuracy validation:  0.8913333333333333\n",
      "300 loss:  0.23340134715789657 Accuracy train:  0.9140625 Accuracy validation:  0.8998333333333334\n",
      "400 loss:  0.19132552172566292 Accuracy train:  0.9296875 Accuracy validation:  0.9035\n",
      "500 loss:  0.1622203791564861 Accuracy train:  0.9375 Accuracy validation:  0.9068333333333334\n",
      "600 loss:  0.14491593507910122 Accuracy train:  0.9453125 Accuracy validation:  0.9103333333333333\n",
      "700 loss:  0.13558592458277302 Accuracy train:  0.953125 Accuracy validation:  0.913\n",
      "800 loss:  0.13208471261240967 Accuracy train:  0.953125 Accuracy validation:  0.9151666666666667\n",
      "900 loss:  0.12831486678219342 Accuracy train:  0.9453125 Accuracy validation:  0.918\n",
      "1000 loss:  0.12578550806228447 Accuracy train:  0.9453125 Accuracy validation:  0.9191666666666667\n"
     ]
    },
    {
     "data": {
      "text/plain": [
       "0.9171"
      ]
     },
     "execution_count": 6,
     "metadata": {},
     "output_type": "execute_result"
    }
   ],
   "source": [
    "nn = NeuralNetwork(layers_size=[28*28, 128, 10],activations = [\"\", \"relu\", \"softmax\"],loss = \"crossEntropy\", l_rate=0.01)\n",
    "nn.train(x_train, y_train,x_validation, y_validation, epochs=1001,batch_size = 128)\n",
    "nn.test(x_test,y_test)"
   ]
  },
  {
   "cell_type": "code",
   "execution_count": 4,
   "metadata": {},
   "outputs": [
    {
     "name": "stdout",
     "output_type": "stream",
     "text": [
      "0 loss:  7.865949186850946 Accuracy train:  0.1640625 Accuracy validation:  0.13133333333333333\n",
      "100 loss:  0.33350233209806734 Accuracy train:  0.8671875 Accuracy validation:  0.8415\n",
      "200 loss:  0.25651556998411323 Accuracy train:  0.921875 Accuracy validation:  0.8718333333333333\n",
      "300 loss:  0.22389335562451618 Accuracy train:  0.9375 Accuracy validation:  0.8853333333333333\n",
      "400 loss:  0.19740197345646715 Accuracy train:  0.953125 Accuracy validation:  0.8953333333333333\n",
      "500 loss:  0.1847886907123249 Accuracy train:  0.9609375 Accuracy validation:  0.9\n",
      "600 loss:  0.17926166918803205 Accuracy train:  0.9609375 Accuracy validation:  0.9048333333333334\n",
      "700 loss:  0.17790661109068995 Accuracy train:  0.9609375 Accuracy validation:  0.9053333333333333\n",
      "800 loss:  0.17601749849934642 Accuracy train:  0.9609375 Accuracy validation:  0.9075\n",
      "900 loss:  0.17335909804170502 Accuracy train:  0.9609375 Accuracy validation:  0.9108333333333334\n",
      "1000 loss:  0.17056264900733475 Accuracy train:  0.9609375 Accuracy validation:  0.9145\n"
     ]
    },
    {
     "data": {
      "text/plain": [
       "0.9103"
      ]
     },
     "execution_count": 4,
     "metadata": {},
     "output_type": "execute_result"
    }
   ],
   "source": [
    "nn = NeuralNetwork(layers_size=[28*28, 128, 10],activations = [\"\", \"sigmoid\", \"softmax\"],loss = \"crossEntropy\", l_rate=0.01)\n",
    "nn.train(x_train, y_train,x_validation, y_validation, epochs=1001,batch_size = 128)\n",
    "nn.test(x_test,y_test)"
   ]
  },
  {
   "cell_type": "code",
   "execution_count": null,
   "metadata": {},
   "outputs": [
    {
     "name": "stdout",
     "output_type": "stream",
     "text": [
      "0 loss:  10.243864210683572 Accuracy train:  0.1015625 Accuracy validation:  0.1245\n",
      "100 loss:  0.4880136933411583 Accuracy train:  0.8671875 Accuracy validation:  0.793\n",
      "200 loss:  0.46614224091825807 Accuracy train:  0.875 Accuracy validation:  0.8258333333333333\n",
      "300 loss:  0.37816594714212753 Accuracy train:  0.8984375 Accuracy validation:  0.8328333333333333\n",
      "400 loss:  0.34500799653303527 Accuracy train:  0.90625 Accuracy validation:  0.8471666666666666\n",
      "500 loss:  0.330006002729894 Accuracy train:  0.921875 Accuracy validation:  0.852\n",
      "600 loss:  0.35231532509615254 Accuracy train:  0.890625 Accuracy validation:  0.8573333333333333\n",
      "700 loss:  0.38261920483164724 Accuracy train:  0.8828125 Accuracy validation:  0.8646666666666667\n",
      "800 loss:  0.3818649498877504 Accuracy train:  0.8671875 Accuracy validation:  0.8645\n",
      "900 loss:  0.3686057438154975 Accuracy train:  0.8828125 Accuracy validation:  0.8648333333333333\n",
      "1000 loss:  0.3560843033244197 Accuracy train:  0.8828125 Accuracy validation:  0.866\n"
     ]
    },
    {
     "data": {
      "text/plain": [
       "0.8612"
      ]
     },
     "execution_count": 8,
     "metadata": {},
     "output_type": "execute_result"
    }
   ],
   "source": [
    "nn = NeuralNetwork(layers_size=[28*28, 128, 10],activations = [\"\", \"tanh\", \"softmax\"],loss = \"crossEntropy\", l_rate=0.01)\n",
    "nn.train(x_train, y_train,x_validation, y_validation, epochs=1001,batch_size = 128)\n",
    "nn.test(x_test,y_test)"
   ]
  },
  {
   "cell_type": "code",
   "execution_count": null,
   "metadata": {},
   "outputs": [
    {
     "name": "stdout",
     "output_type": "stream",
     "text": [
      "0 loss:  12.24505603229385 Accuracy train:  0.09375 Accuracy validation:  0.10016666666666667\n",
      "100 loss:  0.1714855438991526 Accuracy train:  0.953125 Accuracy validation:  0.8938333333333334\n",
      "200 loss:  0.07264444677062398 Accuracy train:  0.953125 Accuracy validation:  0.902\n",
      "300 loss:  0.04027264870369336 Accuracy train:  1.0 Accuracy validation:  0.9091666666666667\n",
      "400 loss:  0.03579323501937265 Accuracy train:  0.984375 Accuracy validation:  0.9128333333333334\n",
      "500 loss:  0.046244693085242164 Accuracy train:  0.984375 Accuracy validation:  0.9175\n",
      "600 loss:  0.046972977046376437 Accuracy train:  0.984375 Accuracy validation:  0.9203333333333333\n",
      "700 loss:  0.0445234212419674 Accuracy train:  0.984375 Accuracy validation:  0.9238333333333333\n",
      "800 loss:  0.042378547263265974 Accuracy train:  0.984375 Accuracy validation:  0.9271666666666667\n",
      "900 loss:  0.04050513977232991 Accuracy train:  0.984375 Accuracy validation:  0.9283333333333333\n",
      "1000 loss:  0.03882667154920735 Accuracy train:  0.984375 Accuracy validation:  0.9303333333333333\n"
     ]
    },
    {
     "data": {
      "text/plain": [
       "0.9311"
      ]
     },
     "execution_count": 9,
     "metadata": {},
     "output_type": "execute_result"
    }
   ],
   "source": [
    "nn = NeuralNetwork(layers_size=[28*28, 128, 10],activations = [\"\", \"relu\", \"softmax\"],loss = \"crossEntropy\", l_rate=0.01)\n",
    "nn.train(x_train, y_train,x_validation, y_validation, epochs=1001,batch_size = 64)\n",
    "nn.test(x_test,y_test)"
   ]
  },
  {
   "cell_type": "code",
   "execution_count": null,
   "metadata": {},
   "outputs": [
    {
     "name": "stdout",
     "output_type": "stream",
     "text": [
      "0 loss:  13.251543377073428 Accuracy train:  0.03125 Accuracy validation:  0.066\n",
      "100 loss:  0.5443318958107106 Accuracy train:  0.9453125 Accuracy validation:  0.8731666666666666\n",
      "200 loss:  0.4063312366623195 Accuracy train:  0.9296875 Accuracy validation:  0.893\n",
      "300 loss:  0.3622874713758173 Accuracy train:  0.9296875 Accuracy validation:  0.9005\n",
      "400 loss:  0.33979687034123357 Accuracy train:  0.9375 Accuracy validation:  0.9031666666666667\n",
      "500 loss:  0.3078997422358668 Accuracy train:  0.9375 Accuracy validation:  0.9061666666666667\n",
      "600 loss:  0.28494491176498615 Accuracy train:  0.9375 Accuracy validation:  0.9095\n",
      "700 loss:  0.27148721640415463 Accuracy train:  0.9375 Accuracy validation:  0.9103333333333333\n",
      "800 loss:  0.26117193261823757 Accuracy train:  0.9375 Accuracy validation:  0.9133333333333333\n",
      "900 loss:  0.24987329777855935 Accuracy train:  0.9296875 Accuracy validation:  0.9143333333333333\n",
      "1000 loss:  0.23746525508004268 Accuracy train:  0.9296875 Accuracy validation:  0.9185\n"
     ]
    },
    {
     "data": {
      "text/plain": [
       "0.9173"
      ]
     },
     "execution_count": 10,
     "metadata": {},
     "output_type": "execute_result"
    }
   ],
   "source": [
    "nn = NeuralNetwork(layers_size=[28*28, 128, 10],activations = [\"\", \"relu\", \"softmax\"],loss = \"crossEntropy\", l_rate=0.01)\n",
    "nn.train(x_train, y_train,x_validation, y_validation, epochs=1001,batch_size = 128)\n",
    "nn.test(x_test,y_test)"
   ]
  },
  {
   "cell_type": "code",
   "execution_count": null,
   "metadata": {},
   "outputs": [
    {
     "name": "stdout",
     "output_type": "stream",
     "text": [
      "0 loss:  11.59878976626473 Accuracy train:  0.15234375 Accuracy validation:  0.13516666666666666\n",
      "100 loss:  1.2199977260824062 Accuracy train:  0.8671875 Accuracy validation:  0.857\n",
      "200 loss:  0.7311615744187931 Accuracy train:  0.9140625 Accuracy validation:  0.875\n",
      "300 loss:  0.549328054743518 Accuracy train:  0.921875 Accuracy validation:  0.8891666666666667\n",
      "400 loss:  0.4803640248114375 Accuracy train:  0.93359375 Accuracy validation:  0.8925\n",
      "500 loss:  0.4404140177144595 Accuracy train:  0.9375 Accuracy validation:  0.8965\n",
      "600 loss:  0.39779221331776476 Accuracy train:  0.94140625 Accuracy validation:  0.8998333333333334\n",
      "700 loss:  0.35716010340039633 Accuracy train:  0.94921875 Accuracy validation:  0.9031666666666667\n",
      "800 loss:  0.3226372490279538 Accuracy train:  0.94140625 Accuracy validation:  0.9048333333333334\n",
      "900 loss:  0.30003018956418215 Accuracy train:  0.9453125 Accuracy validation:  0.9036666666666666\n",
      "1000 loss:  0.28117523993320614 Accuracy train:  0.94921875 Accuracy validation:  0.9043333333333333\n"
     ]
    },
    {
     "data": {
      "text/plain": [
       "0.9071"
      ]
     },
     "execution_count": 11,
     "metadata": {},
     "output_type": "execute_result"
    }
   ],
   "source": [
    "nn = NeuralNetwork(layers_size=[28*28, 128, 10],activations = [\"\", \"relu\", \"softmax\"],loss = \"crossEntropy\", l_rate=0.01)\n",
    "nn.train(x_train, y_train,x_validation, y_validation, epochs=1001,batch_size = 256)\n",
    "nn.test(x_test,y_test)"
   ]
  },
  {
   "cell_type": "code",
   "execution_count": null,
   "metadata": {},
   "outputs": [
    {
     "name": "stdout",
     "output_type": "stream",
     "text": [
      "0 loss:  11.895288301782486 Accuracy train:  0.123046875 Accuracy validation:  0.11783333333333333\n",
      "100 loss:  1.5265283909689695 Accuracy train:  0.849609375 Accuracy validation:  0.814\n",
      "200 loss:  1.0392701560948208 Accuracy train:  0.88671875 Accuracy validation:  0.8495\n",
      "300 loss:  0.8042218842675306 Accuracy train:  0.90625 Accuracy validation:  0.8613333333333333\n",
      "400 loss:  0.6767399526106436 Accuracy train:  0.912109375 Accuracy validation:  0.871\n",
      "500 loss:  0.6055189121157742 Accuracy train:  0.91796875 Accuracy validation:  0.8786666666666667\n",
      "600 loss:  0.5471101269050693 Accuracy train:  0.919921875 Accuracy validation:  0.8851666666666667\n",
      "700 loss:  0.5009299101095444 Accuracy train:  0.921875 Accuracy validation:  0.8901666666666667\n",
      "800 loss:  0.4701164168752935 Accuracy train:  0.923828125 Accuracy validation:  0.8943333333333333\n",
      "900 loss:  0.44843174142447967 Accuracy train:  0.92578125 Accuracy validation:  0.8968333333333334\n",
      "1000 loss:  0.4327328501411257 Accuracy train:  0.9296875 Accuracy validation:  0.8985\n"
     ]
    },
    {
     "data": {
      "text/plain": [
       "0.8989"
      ]
     },
     "execution_count": 12,
     "metadata": {},
     "output_type": "execute_result"
    }
   ],
   "source": [
    "nn = NeuralNetwork(layers_size=[28*28, 128, 10],activations = [\"\", \"relu\", \"softmax\"],loss = \"crossEntropy\", l_rate=0.01)\n",
    "nn.train(x_train, y_train,x_validation, y_validation, epochs=1001,batch_size = 512)\n",
    "nn.test(x_test,y_test)"
   ]
  },
  {
   "cell_type": "code",
   "execution_count": null,
   "metadata": {},
   "outputs": [
    {
     "name": "stdout",
     "output_type": "stream",
     "text": [
      "0 loss:  11.984880517235913 Accuracy train:  0.109375 Accuracy validation:  0.0885\n",
      "100 loss:  0.9605634267463241 Accuracy train:  0.921875 Accuracy validation:  0.8725\n",
      "200 loss:  0.6631913632315138 Accuracy train:  0.9296875 Accuracy validation:  0.8913333333333333\n",
      "300 loss:  0.5399963199835925 Accuracy train:  0.9375 Accuracy validation:  0.8976666666666666\n",
      "400 loss:  0.4852962265774265 Accuracy train:  0.9375 Accuracy validation:  0.9035\n",
      "500 loss:  0.45096372711737037 Accuracy train:  0.9375 Accuracy validation:  0.9081666666666667\n",
      "600 loss:  0.41495348572431795 Accuracy train:  0.9375 Accuracy validation:  0.9098333333333334\n",
      "700 loss:  0.38945343079918227 Accuracy train:  0.9375 Accuracy validation:  0.912\n",
      "800 loss:  0.36966959101117325 Accuracy train:  0.9375 Accuracy validation:  0.9151666666666667\n",
      "900 loss:  0.3526640773501748 Accuracy train:  0.9375 Accuracy validation:  0.918\n",
      "1000 loss:  0.33662833495949473 Accuracy train:  0.9296875 Accuracy validation:  0.9205\n"
     ]
    },
    {
     "data": {
      "text/plain": [
       "0.9194"
      ]
     },
     "execution_count": 13,
     "metadata": {},
     "output_type": "execute_result"
    }
   ],
   "source": [
    "nn = NeuralNetwork(layers_size=[28*28, 128, 10],activations = [\"\", \"relu\", \"softmax\"],loss = \"crossEntropy\", l_rate=0.01)\n",
    "nn.train(x_train, y_train,x_validation, y_validation, epochs=1001,batch_size = 128)\n",
    "nn.test(x_test,y_test)"
   ]
  },
  {
   "cell_type": "code",
   "execution_count": null,
   "metadata": {},
   "outputs": [
    {
     "name": "stdout",
     "output_type": "stream",
     "text": [
      "0 loss:  0.3364814060280237 Accuracy train:  0.9296875 Accuracy validation:  0.9205\n",
      "100 loss:  0.323985628189536 Accuracy train:  0.9296875 Accuracy validation:  0.9215\n",
      "200 loss:  0.31311966144095127 Accuracy train:  0.9296875 Accuracy validation:  0.9241666666666667\n",
      "300 loss:  0.3017362190548591 Accuracy train:  0.9296875 Accuracy validation:  0.9261666666666667\n",
      "400 loss:  0.2905069863198545 Accuracy train:  0.9375 Accuracy validation:  0.9278333333333333\n",
      "500 loss:  0.2806768244505701 Accuracy train:  0.9375 Accuracy validation:  0.9288333333333333\n",
      "600 loss:  0.2710278139473288 Accuracy train:  0.9453125 Accuracy validation:  0.9306666666666666\n",
      "700 loss:  0.26253894467891664 Accuracy train:  0.9453125 Accuracy validation:  0.9325\n",
      "800 loss:  0.25519554239314746 Accuracy train:  0.9453125 Accuracy validation:  0.9333333333333333\n",
      "900 loss:  0.24859161655633485 Accuracy train:  0.9453125 Accuracy validation:  0.9345\n",
      "1000 loss:  0.24274665158756528 Accuracy train:  0.9453125 Accuracy validation:  0.9353333333333333\n"
     ]
    },
    {
     "data": {
      "text/plain": [
       "0.9306"
      ]
     },
     "execution_count": 14,
     "metadata": {},
     "output_type": "execute_result"
    }
   ],
   "source": [
    "nn.train(x_train, y_train,x_validation, y_validation, epochs=1001,batch_size = 128)\n",
    "nn.test(x_test,y_test)"
   ]
  },
  {
   "cell_type": "code",
   "execution_count": null,
   "metadata": {},
   "outputs": [
    {
     "name": "stdout",
     "output_type": "stream",
     "text": [
      "0 loss:  0.24269351494909067 Accuracy train:  0.9453125 Accuracy validation:  0.9353333333333333\n",
      "100 loss:  0.23737354867168817 Accuracy train:  0.9453125 Accuracy validation:  0.936\n",
      "200 loss:  0.23244420760659606 Accuracy train:  0.9453125 Accuracy validation:  0.936\n",
      "300 loss:  0.22789492386079152 Accuracy train:  0.9453125 Accuracy validation:  0.9373333333333334\n",
      "400 loss:  0.2236030988921536 Accuracy train:  0.9453125 Accuracy validation:  0.9376666666666666\n",
      "500 loss:  0.21988771644139715 Accuracy train:  0.9453125 Accuracy validation:  0.938\n",
      "600 loss:  0.21624628692995193 Accuracy train:  0.9453125 Accuracy validation:  0.9381666666666667\n",
      "700 loss:  0.21270485940476977 Accuracy train:  0.9453125 Accuracy validation:  0.939\n",
      "800 loss:  0.209374813218972 Accuracy train:  0.9453125 Accuracy validation:  0.9396666666666667\n",
      "900 loss:  0.20618205890402863 Accuracy train:  0.9453125 Accuracy validation:  0.9405\n",
      "1000 loss:  0.20315281510510314 Accuracy train:  0.9453125 Accuracy validation:  0.9408333333333333\n"
     ]
    },
    {
     "data": {
      "text/plain": [
       "0.9368"
      ]
     },
     "execution_count": 15,
     "metadata": {},
     "output_type": "execute_result"
    }
   ],
   "source": [
    "nn.train(x_train, y_train,x_validation, y_validation, epochs=1001,batch_size = 128)\n",
    "nn.test(x_test,y_test)"
   ]
  },
  {
   "cell_type": "code",
   "execution_count": null,
   "metadata": {},
   "outputs": [
    {
     "name": "stdout",
     "output_type": "stream",
     "text": [
      "0 loss:  0.1518490749999632 Accuracy train:  0.9566334475241358 Accuracy validation:  0.9405\n",
      "100 loss:  0.1513041680268482 Accuracy train:  0.9563220180629087 Accuracy validation:  0.94\n",
      "200 loss:  0.15151427604283976 Accuracy train:  0.956244160697602 Accuracy validation:  0.9403333333333334\n",
      "300 loss:  0.151691633541622 Accuracy train:  0.956244160697602 Accuracy validation:  0.9403333333333334\n",
      "400 loss:  0.1518419944779395 Accuracy train:  0.9563220180629087 Accuracy validation:  0.9406666666666667\n",
      "500 loss:  0.1519716490277126 Accuracy train:  0.9563220180629087 Accuracy validation:  0.9406666666666667\n",
      "600 loss:  0.15208532727302182 Accuracy train:  0.9561663033322952 Accuracy validation:  0.9408333333333333\n",
      "700 loss:  0.1521864129639791 Accuracy train:  0.9561663033322952 Accuracy validation:  0.9405\n",
      "800 loss:  0.15227731749240833 Accuracy train:  0.9561663033322952 Accuracy validation:  0.9405\n",
      "900 loss:  0.152359796255891 Accuracy train:  0.9560884459669885 Accuracy validation:  0.9405\n",
      "1000 loss:  0.1524351032188622 Accuracy train:  0.9560884459669885 Accuracy validation:  0.9403333333333334\n"
     ]
    },
    {
     "data": {
      "text/plain": [
       "0.9371"
      ]
     },
     "execution_count": 16,
     "metadata": {},
     "output_type": "execute_result"
    }
   ],
   "source": [
    "nn.train(x_train, y_train,x_validation, y_validation, epochs=1001,batch_size = 12844)\n",
    "nn.test(x_test,y_test)"
   ]
  },
  {
   "cell_type": "code",
   "execution_count": null,
   "metadata": {},
   "outputs": [
    {
     "name": "stdout",
     "output_type": "stream",
     "text": [
      "0 loss:  11.762140021304745 Accuracy train:  0.1171875 Accuracy validation:  0.108\n",
      "100 loss:  1.779065054415006 Accuracy train:  0.8515625 Accuracy validation:  0.7376666666666667\n",
      "200 loss:  1.422961980273608 Accuracy train:  0.875 Accuracy validation:  0.7998333333333333\n",
      "300 loss:  1.249298604805775 Accuracy train:  0.890625 Accuracy validation:  0.8246666666666667\n",
      "400 loss:  1.1984301598867306 Accuracy train:  0.890625 Accuracy validation:  0.8418333333333333\n",
      "500 loss:  1.1140148328946684 Accuracy train:  0.890625 Accuracy validation:  0.8543333333333333\n",
      "600 loss:  1.0091996401754755 Accuracy train:  0.890625 Accuracy validation:  0.862\n",
      "700 loss:  0.8802497857500594 Accuracy train:  0.90625 Accuracy validation:  0.8648333333333333\n",
      "800 loss:  0.7781186227705765 Accuracy train:  0.90625 Accuracy validation:  0.8671666666666666\n",
      "900 loss:  0.7202359331888786 Accuracy train:  0.9296875 Accuracy validation:  0.8728333333333333\n",
      "1000 loss:  0.6769345527283896 Accuracy train:  0.9296875 Accuracy validation:  0.8755\n"
     ]
    },
    {
     "data": {
      "text/plain": [
       "0.8714"
      ]
     },
     "execution_count": 17,
     "metadata": {},
     "output_type": "execute_result"
    }
   ],
   "source": [
    "nn = NeuralNetwork(layers_size=[28*28, 128, 10],activations = [\"\", \"relu\", \"softmax\"],loss = \"crossEntropy\", l_rate=0.001)\n",
    "nn.train(x_train, y_train,x_validation, y_validation, epochs=1001,batch_size = 128)\n",
    "nn.test(x_test,y_test)"
   ]
  },
  {
   "cell_type": "code",
   "execution_count": null,
   "metadata": {},
   "outputs": [
    {
     "name": "stdout",
     "output_type": "stream",
     "text": [
      "0 loss:  11.951614837359557 Accuracy train:  0.109375 Accuracy validation:  0.11233333333333333\n",
      "100 loss:  0.9098151680047647 Accuracy train:  0.9140625 Accuracy validation:  0.87\n",
      "200 loss:  0.7211907645929094 Accuracy train:  0.921875 Accuracy validation:  0.8908333333333334\n",
      "300 loss:  0.5110923064805672 Accuracy train:  0.921875 Accuracy validation:  0.8986666666666666\n",
      "400 loss:  0.41001081473685835 Accuracy train:  0.921875 Accuracy validation:  0.9045\n",
      "500 loss:  0.37255142894876625 Accuracy train:  0.921875 Accuracy validation:  0.9081666666666667\n",
      "600 loss:  0.3417843717508763 Accuracy train:  0.921875 Accuracy validation:  0.9106666666666666\n",
      "700 loss:  0.2976181012014303 Accuracy train:  0.921875 Accuracy validation:  0.912\n",
      "800 loss:  0.260460951357606 Accuracy train:  0.9296875 Accuracy validation:  0.9163333333333333\n",
      "900 loss:  0.23509587849430957 Accuracy train:  0.921875 Accuracy validation:  0.9185\n",
      "1000 loss:  0.2184964281947261 Accuracy train:  0.921875 Accuracy validation:  0.9213333333333333\n"
     ]
    },
    {
     "data": {
      "text/plain": [
       "0.9175"
      ]
     },
     "execution_count": 18,
     "metadata": {},
     "output_type": "execute_result"
    }
   ],
   "source": [
    "nn = NeuralNetwork(layers_size=[28*28, 128, 10],activations = [\"\", \"relu\", \"softmax\"],loss = \"crossEntropy\", l_rate=0.01)\n",
    "nn.train(x_train, y_train,x_validation, y_validation, epochs=1001,batch_size = 128)\n",
    "nn.test(x_test,y_test)"
   ]
  },
  {
   "cell_type": "code",
   "execution_count": null,
   "metadata": {},
   "outputs": [
    {
     "name": "stdout",
     "output_type": "stream",
     "text": [
      "0 loss:  13.066037225754004 Accuracy train:  0.0390625 Accuracy validation:  0.07966666666666666\n",
      "100 loss:  0.17675568900433913 Accuracy train:  0.9296875 Accuracy validation:  0.9163333333333333\n",
      "200 loss:  0.12193437348366008 Accuracy train:  0.9609375 Accuracy validation:  0.9308333333333333\n",
      "300 loss:  0.09640665337138073 Accuracy train:  0.96875 Accuracy validation:  0.9376666666666666\n",
      "400 loss:  0.08125698086033406 Accuracy train:  0.96875 Accuracy validation:  0.9426666666666667\n",
      "500 loss:  0.07054496711571584 Accuracy train:  0.96875 Accuracy validation:  0.9463333333333334\n",
      "600 loss:  0.06176450062271967 Accuracy train:  0.96875 Accuracy validation:  0.948\n",
      "700 loss:  0.054846489413554286 Accuracy train:  0.96875 Accuracy validation:  0.9498333333333333\n",
      "800 loss:  0.0476852499783055 Accuracy train:  0.9765625 Accuracy validation:  0.9508333333333333\n",
      "900 loss:  0.04083257581123107 Accuracy train:  0.9921875 Accuracy validation:  0.952\n",
      "1000 loss:  0.035437779540900625 Accuracy train:  0.9921875 Accuracy validation:  0.9526666666666667\n"
     ]
    },
    {
     "data": {
      "text/plain": [
       "0.9496"
      ]
     },
     "execution_count": 19,
     "metadata": {},
     "output_type": "execute_result"
    }
   ],
   "source": [
    "nn = NeuralNetwork(layers_size=[28*28, 128, 10],activations = [\"\", \"relu\", \"softmax\"],loss = \"crossEntropy\", l_rate=0.1)\n",
    "nn.train(x_train, y_train,x_validation, y_validation, epochs=1001,batch_size = 128)\n",
    "nn.test(x_test,y_test)"
   ]
  },
  {
   "cell_type": "code",
   "execution_count": null,
   "metadata": {},
   "outputs": [
    {
     "name": "stdout",
     "output_type": "stream",
     "text": [
      "0 loss:  12.403343714770518 Accuracy train:  0.09375 Accuracy validation:  0.17816666666666667\n",
      "100 loss:  0.08019365980895728 Accuracy train:  0.9765625 Accuracy validation:  0.9463333333333334\n",
      "200 loss:  0.045679446419066655 Accuracy train:  0.9765625 Accuracy validation:  0.951\n",
      "300 loss:  0.012832342825373723 Accuracy train:  1.0 Accuracy validation:  0.9526666666666667\n",
      "400 loss:  0.004315182279130374 Accuracy train:  1.0 Accuracy validation:  0.9533333333333334\n",
      "500 loss:  0.0019308024243212536 Accuracy train:  1.0 Accuracy validation:  0.9535\n",
      "600 loss:  0.001190213916228726 Accuracy train:  1.0 Accuracy validation:  0.954\n",
      "700 loss:  0.0008429066424272748 Accuracy train:  1.0 Accuracy validation:  0.9535\n",
      "800 loss:  0.0006559095267620452 Accuracy train:  1.0 Accuracy validation:  0.9538333333333333\n",
      "900 loss:  0.0005359767504128594 Accuracy train:  1.0 Accuracy validation:  0.9541666666666667\n",
      "1000 loss:  0.00045075959397410635 Accuracy train:  1.0 Accuracy validation:  0.9546666666666667\n"
     ]
    },
    {
     "data": {
      "text/plain": [
       "0.9573"
      ]
     },
     "execution_count": 20,
     "metadata": {},
     "output_type": "execute_result"
    }
   ],
   "source": [
    "nn = NeuralNetwork(layers_size=[28*28, 128, 10],activations = [\"\", \"relu\", \"softmax\"],loss = \"crossEntropy\", l_rate=1)\n",
    "nn.train(x_train, y_train,x_validation, y_validation, epochs=1001,batch_size = 128)\n",
    "nn.test(x_test,y_test)"
   ]
  }
 ],
 "metadata": {
  "kernelspec": {
   "display_name": "Python 3",
   "language": "python",
   "name": "python3"
  },
  "language_info": {
   "codemirror_mode": {
    "name": "ipython",
    "version": 3
   },
   "file_extension": ".py",
   "mimetype": "text/x-python",
   "name": "python",
   "nbconvert_exporter": "python",
   "pygments_lexer": "ipython3",
   "version": "3.11.9"
  }
 },
 "nbformat": 4,
 "nbformat_minor": 2
}
