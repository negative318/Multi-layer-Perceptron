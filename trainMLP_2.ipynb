{
 "cells": [
  {
   "cell_type": "code",
   "execution_count": 1,
   "metadata": {},
   "outputs": [
    {
     "name": "stdout",
     "output_type": "stream",
     "text": [
      "(54000, 784) (54000, 10)\n",
      "(10000, 784) (10000, 10)\n",
      "(6000, 784) (6000, 10)\n"
     ]
    }
   ],
   "source": [
    "from MLP_autograd2 import *\n",
    "from keras.datasets import mnist\n",
    "(x_train,y_train),(x_test,y_test) = mnist.load_data()\n",
    "\n",
    "x_train = x_train /255.0\n",
    "x_test = x_test /255.0\n",
    "x_validation = x_train[:6000]\n",
    "y_validation = y_train[:6000]\n",
    "x_train = x_train[6000:]\n",
    "y_train = y_train[6000:]\n",
    "\n",
    "x_validation = x_validation.reshape(x_validation.shape[0],-1)\n",
    "x_train = x_train.reshape(x_train.shape[0],-1)\n",
    "x_test = x_test.reshape(x_test.shape[0],-1)\n",
    "\n",
    "\n",
    "def one_hot(Y):\n",
    "  one_hot_Y = np.zeros((Y.size,np.max(Y) + 1))\n",
    "  one_hot_Y[np.arange(Y.size),Y] = 1\n",
    "  return one_hot_Y\n",
    "\n",
    "y_train = one_hot(y_train)\n",
    "y_validation = one_hot(y_validation)\n",
    "y_test = one_hot(y_test)\n",
    "\n",
    "\n",
    "print(x_train.shape,y_train.shape)\n",
    "print(x_test.shape,y_test.shape)\n",
    "print(x_validation.shape,y_validation.shape)\n"
   ]
  },
  {
   "cell_type": "code",
   "execution_count": 2,
   "metadata": {},
   "outputs": [
    {
     "name": "stdout",
     "output_type": "stream",
     "text": [
      "0 loss:  12.772543055549729 Accuracy train:  0.0859375 Accuracy validation:  0.10516666666666667\n",
      "100 loss:  12.672764218539857 Accuracy train:  0.4921875 Accuracy validation:  0.3878333333333333\n"
     ]
    }
   ],
   "source": [
    "nn = NeuralNetwork(layers_size=[28*28, 10],activations = [\"softmax\"],lossFunction = \"crossEntropy\", l_rate=0.01)\n",
    "nn.train(x_train, y_train, x_validation, y_validation, epochs=1001, batch_size=128)\n",
    "nn.test(x_test,y_test)"
   ]
  }
 ],
 "metadata": {
  "kernelspec": {
   "display_name": "Python 3",
   "language": "python",
   "name": "python3"
  },
  "language_info": {
   "codemirror_mode": {
    "name": "ipython",
    "version": 3
   },
   "file_extension": ".py",
   "mimetype": "text/x-python",
   "name": "python",
   "nbconvert_exporter": "python",
   "pygments_lexer": "ipython3",
   "version": "3.11.9"
  }
 },
 "nbformat": 4,
 "nbformat_minor": 2
}
